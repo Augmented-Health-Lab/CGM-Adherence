{
 "cells": [
  {
   "cell_type": "code",
   "execution_count": null,
   "metadata": {
    "colab": {
     "base_uri": "https://localhost:8080/"
    },
    "executionInfo": {
     "elapsed": 3669,
     "status": "ok",
     "timestamp": 1715366755692,
     "user": {
      "displayName": "Yanjun Cui",
      "userId": "10928157657240567222"
     },
     "user_tz": 240
    },
    "id": "sJDd8oXk0iM2",
    "outputId": "9af8395a-1173-4619-b7d9-c54b5a0ee1f3"
   },
   "outputs": [],
   "source": [
    "from google.colab import drive\n",
    "drive.mount('/content/drive')"
   ]
  },
  {
   "cell_type": "code",
   "execution_count": null,
   "metadata": {
    "executionInfo": {
     "elapsed": 2,
     "status": "ok",
     "timestamp": 1715366755692,
     "user": {
      "displayName": "Yanjun Cui",
      "userId": "10928157657240567222"
     },
     "user_tz": 240
    },
    "id": "rhX8B7So00_A"
   },
   "outputs": [],
   "source": [
    "import pandas as pd\n",
    "import numpy as np\n",
    "import csv\n",
    "import os\n",
    "from datetime import date, timedelta, datetime\n",
    "import matplotlib.pyplot as plt\n",
    "import matplotlib.dates as mdates"
   ]
  },
  {
   "cell_type": "markdown",
   "metadata": {
    "id": "06hRJl_24GhJ"
   },
   "source": [
    "# calendar plot - combined three"
   ]
  },
  {
   "cell_type": "code",
   "execution_count": null,
   "metadata": {
    "colab": {
     "base_uri": "https://localhost:8080/"
    },
    "executionInfo": {
     "elapsed": 15255,
     "status": "ok",
     "timestamp": 1715361097129,
     "user": {
      "displayName": "Yanjun Cui",
      "userId": "10928157657240567222"
     },
     "user_tz": 240
    },
    "id": "dxowrmep5o4H",
    "outputId": "b396bb2b-ac79-427a-fdfb-d318c2bf519b"
   },
   "outputs": [],
   "source": [
    "# https://pythonhosted.org/calmap/\n",
    "!pip install calmap\n",
    "import numpy as np; np.random.seed(sum(map(ord, 'calmap')))\n",
    "import pandas as pd\n",
    "import calmap"
   ]
  },
  {
   "cell_type": "markdown",
   "metadata": {
    "id": "lKRpxXX2fSAG"
   },
   "source": [
    "## plot1"
   ]
  },
  {
   "cell_type": "code",
   "execution_count": null,
   "metadata": {
    "executionInfo": {
     "elapsed": 129,
     "status": "ok",
     "timestamp": 1715369942869,
     "user": {
      "displayName": "Yanjun Cui",
      "userId": "10928157657240567222"
     },
     "user_tz": 240
    },
    "id": "9rsP1f0z4Jo3"
   },
   "outputs": [],
   "source": [
    "subject3 ='.'\n",
    "subject2 = '.'\n",
    "subject1 = '.'\n",
    "record_dir = '/content/drive/MyDrive/Colab Notebooks/SweetGoals/Revision Version/cgm_count_by_day/'"
   ]
  },
  {
   "cell_type": "code",
   "execution_count": null,
   "metadata": {
    "colab": {
     "base_uri": "https://localhost:8080/"
    },
    "executionInfo": {
     "elapsed": 2,
     "status": "ok",
     "timestamp": 1715369943239,
     "user": {
      "displayName": "Yanjun Cui",
      "userId": "10928157657240567222"
     },
     "user_tz": 240
    },
    "id": "U_JmFcKG61lq",
    "outputId": "52d738ba-74e5-40f9-cf66-b32863d6c2a1"
   },
   "outputs": [],
   "source": [
    "df_summary = pd.read_csv('./CGM_summary.csv')\n",
    "\n",
    "# for i in df_summary.values:\n",
    "#   if i[0] == subject1:\n",
    "#     print('subj1', subject1, i[1])\n",
    "#   if i[0] == subject2:\n",
    "#     print('subj2', subject2, i[1])\n",
    "#   if i[0] == subject3:\n",
    "#     print('subj3', subject3, i[1])"
   ]
  },
  {
   "cell_type": "code",
   "execution_count": null,
   "metadata": {
    "executionInfo": {
     "elapsed": 102,
     "status": "ok",
     "timestamp": 1715369943561,
     "user": {
      "displayName": "Yanjun Cui",
      "userId": "10928157657240567222"
     },
     "user_tz": 240
    },
    "id": "m_8ibaDR43oH"
   },
   "outputs": [],
   "source": [
    "def events_2022(subj):\n",
    "  df = pd.read_csv(record_dir + subj + '.csv')\n",
    "  df['Event'] = [i / 288 if i <= 288 else 1 for i in df.Count.values]\n",
    "  adh = []\n",
    "  for i in df['Event'].values:\n",
    "    if i >= 0.7:\n",
    "      adh.append(1)\n",
    "    elif i > 0:\n",
    "      adh.append(0.5)\n",
    "    else:\n",
    "      adh.append(0)\n",
    "  df['Adherence'] = adh\n",
    "  df['Date'] = pd.date_range(df.displayTime.values[0].split(' ')[0], periods=df.shape[0], freq='D')\n",
    "  df = df[df['Date'] < '2023-01-01'][df['Date'] > '2021-12-31']\n",
    "  # print(df.shape)\n",
    "  # df.head()\n",
    "  events = pd.Series(df.Adherence.values, index=df.Date.values)\n",
    "  return events"
   ]
  },
  {
   "cell_type": "code",
   "execution_count": null,
   "metadata": {
    "colab": {
     "base_uri": "https://localhost:8080/"
    },
    "executionInfo": {
     "elapsed": 110,
     "status": "ok",
     "timestamp": 1715369943829,
     "user": {
      "displayName": "Yanjun Cui",
      "userId": "10928157657240567222"
     },
     "user_tz": 240
    },
    "id": "jd77ZO425tjp",
    "outputId": "5515c521-5587-41f8-8bcf-9da2ee3f836b"
   },
   "outputs": [],
   "source": [
    "events1 = events_2022(subject1)\n",
    "events2 = events_2022(subject2)\n",
    "events3 = events_2022(subject3)"
   ]
  },
  {
   "cell_type": "code",
   "execution_count": null,
   "metadata": {
    "executionInfo": {
     "elapsed": 1,
     "status": "ok",
     "timestamp": 1715369944093,
     "user": {
      "displayName": "Yanjun Cui",
      "userId": "10928157657240567222"
     },
     "user_tz": 240
    },
    "id": "0ApFqjpd6I4N"
   },
   "outputs": [],
   "source": [
    "from matplotlib import colors\n",
    "cm_colors = ['#FFD166', \"#F78C6B\", \"#06D6A0\"]\n",
    "cm_labels = ['No \\nAdherence', 'Partial \\nAdherence', 'High \\nAdherence']\n",
    "cmap = colors.ListedColormap(cm_colors)"
   ]
  },
  {
   "cell_type": "code",
   "execution_count": null,
   "metadata": {
    "colab": {
     "base_uri": "https://localhost:8080/",
     "height": 556
    },
    "executionInfo": {
     "elapsed": 2332,
     "status": "ok",
     "timestamp": 1715369947111,
     "user": {
      "displayName": "Yanjun Cui",
      "userId": "10928157657240567222"
     },
     "user_tz": 240
    },
    "id": "m3HYSy8T21YV",
    "outputId": "8b22cb0b-bd2e-4df7-95cb-3bad33711ee0"
   },
   "outputs": [],
   "source": [
    "import calmap\n",
    "import pandas as pd\n",
    "import numpy as np\n",
    "import matplotlib.pyplot as plt\n",
    "from matplotlib.colors import Normalize\n",
    "from matplotlib.cm import ScalarMappable\n",
    "\n",
    "# Set up a figure with subplots\n",
    "fig, axes = plt.subplots(3, 1, figsize=(10, 6))\n",
    "\n",
    "# Determine data range for consistent color mapping\n",
    "vmin = 0\n",
    "vmax = 1\n",
    "\n",
    "# Plot each year on its own subplot\n",
    "calmap.yearplot(events1, year=2022, ax=axes[0], cmap=cmap, vmin=vmin, vmax=vmax, linewidth=0.1)\n",
    "axes[0].set_ylabel('2022', fontsize=30, color='grey', weight='bold')\n",
    "axes[0].set_title('Subject 51')\n",
    "\n",
    "calmap.yearplot(events2, year=2022, ax=axes[1], cmap=cmap, vmin=vmin, vmax=vmax, linewidth=0.1)\n",
    "axes[1].set_ylabel('2022', fontsize=30, color='grey', weight='bold')\n",
    "axes[1].set_title('Subject 69')\n",
    "\n",
    "calmap.yearplot(events3, year=2022, ax=axes[2], cmap=cmap, vmin=vmin, vmax=vmax, linewidth=0.1)\n",
    "axes[2].set_ylabel('2022', fontsize=30, color='grey', weight='bold')\n",
    "axes[2].set_title('Subject 81')\n",
    "\n",
    "\n",
    "# Create a ScalarMappable for colorbar\n",
    "norm = Normalize(vmin=vmin, vmax=vmax)\n",
    "sm = ScalarMappable(cmap=cmap, norm=norm)\n",
    "sm.set_array([])\n",
    "\n",
    "# Add the colorbar to the figure\n",
    "cbar = fig.colorbar(sm, ax=axes.ravel().tolist(), orientation='horizontal', pad=0.02, fraction=0.03)\n",
    "cbar.set_ticks([vmin + (vmin+vmax)/6, (vmin+vmax)/2, vmax - (vmin+vmax)/6])\n",
    "cbar.set_ticklabels(cm_labels)\n",
    "\n",
    "# Adjust layout\n",
    "fig.subplots_adjust(bottom=0.2, hspace=0.4)  # Make room for titles and colorbar\n",
    "\n",
    "plt.savefig(\"./figs/combined_calendar_2022_1.png\", bbox_inches='tight')\n",
    "plt.savefig('./final_figures/supplementary/calendar_2022_1.png',bbox_inches='tight')\n",
    "plt.savefig('./final_figures/supplementary/calendar_2022_1.pdf',bbox_inches='tight')\n",
    "# Show the plot\n",
    "plt.show()"
   ]
  },
  {
   "cell_type": "markdown",
   "metadata": {
    "id": "fV3RfQVyfUGL"
   },
   "source": [
    "## plot2"
   ]
  },
  {
   "cell_type": "code",
   "execution_count": null,
   "metadata": {
    "executionInfo": {
     "elapsed": 114,
     "status": "ok",
     "timestamp": 1715369928291,
     "user": {
      "displayName": "Yanjun Cui",
      "userId": "10928157657240567222"
     },
     "user_tz": 240
    },
    "id": "pOLMIfVzfeN9"
   },
   "outputs": [],
   "source": [
    "subject3 ='.'\n",
    "subject2 = '.'\n",
    "subject1 = '.'\n",
    "record_dir = './cgm_count_by_day/'"
   ]
  },
  {
   "cell_type": "code",
   "execution_count": null,
   "metadata": {
    "colab": {
     "base_uri": "https://localhost:8080/"
    },
    "executionInfo": {
     "elapsed": 2,
     "status": "ok",
     "timestamp": 1715369928669,
     "user": {
      "displayName": "Yanjun Cui",
      "userId": "10928157657240567222"
     },
     "user_tz": 240
    },
    "id": "UfgS_5QOklDm",
    "outputId": "285fff94-1f04-4e6f-d928-9686dbbbd717"
   },
   "outputs": [],
   "source": [
    "df_summary = pd.read_csv('./CGM_summary.csv')\n",
    "\n",
    "for i in df_summary.values:\n",
    "  if i[3].split('-')[0] == '2023' and i[2].split('-')[0] < '2022':\n",
    "    print(i[0])"
   ]
  },
  {
   "cell_type": "code",
   "execution_count": null,
   "metadata": {
    "colab": {
     "base_uri": "https://localhost:8080/"
    },
    "executionInfo": {
     "elapsed": 317,
     "status": "ok",
     "timestamp": 1715369929102,
     "user": {
      "displayName": "Yanjun Cui",
      "userId": "10928157657240567222"
     },
     "user_tz": 240
    },
    "id": "KvtEwkCQfeN9",
    "outputId": "3f1d10e3-cd00-4ebb-b068-260c0803c23d"
   },
   "outputs": [],
   "source": [
    "df_summary = pd.read_csv('./CGM_summary.csv')\n",
    "\n",
    "# for i in df_summary.values:\n",
    "#   if i[0] == subject1:\n",
    "#     print('subj1', subject1, i[1])\n",
    "#   if i[0] == subject2:\n",
    "#     print('subj2', subject2, i[1])\n",
    "#   if i[0] == subject3:\n",
    "#     print('subj3', subject3, i[1])"
   ]
  },
  {
   "cell_type": "code",
   "execution_count": null,
   "metadata": {
    "executionInfo": {
     "elapsed": 2,
     "status": "ok",
     "timestamp": 1715369929500,
     "user": {
      "displayName": "Yanjun Cui",
      "userId": "10928157657240567222"
     },
     "user_tz": 240
    },
    "id": "3vorD65afeN9"
   },
   "outputs": [],
   "source": [
    "def events_2022(subj):\n",
    "  df = pd.read_csv(record_dir + subj + '.csv')\n",
    "  df['Event'] = [i / 288 if i <= 288 else 1 for i in df.Count.values]\n",
    "  adh = []\n",
    "  for i in df['Event'].values:\n",
    "    if i >= 0.7:\n",
    "      adh.append(1)\n",
    "    elif i > 0:\n",
    "      adh.append(0.5)\n",
    "    else:\n",
    "      adh.append(0)\n",
    "  df['Adherence'] = adh\n",
    "  df['Date'] = pd.date_range(df.displayTime.values[0].split(' ')[0], periods=df.shape[0], freq='D')\n",
    "  df = df[df['Date'] < '2023-01-01'][df['Date'] > '2021-12-31']\n",
    "  # print(df.shape)\n",
    "  # df.head()\n",
    "  events = pd.Series(df.Adherence.values, index=df.Date.values)\n",
    "  return events"
   ]
  },
  {
   "cell_type": "code",
   "execution_count": null,
   "metadata": {
    "colab": {
     "base_uri": "https://localhost:8080/"
    },
    "executionInfo": {
     "elapsed": 160,
     "status": "ok",
     "timestamp": 1715369929658,
     "user": {
      "displayName": "Yanjun Cui",
      "userId": "10928157657240567222"
     },
     "user_tz": 240
    },
    "id": "PwSQvIIkfeOJ",
    "outputId": "2665acec-cefd-4d39-dc2d-a2489d0b2941"
   },
   "outputs": [],
   "source": [
    "events1 = events_2022(subject1)\n",
    "events2 = events_2022(subject2)\n",
    "events3 = events_2022(subject3)"
   ]
  },
  {
   "cell_type": "code",
   "execution_count": null,
   "metadata": {
    "executionInfo": {
     "elapsed": 285,
     "status": "ok",
     "timestamp": 1715369930160,
     "user": {
      "displayName": "Yanjun Cui",
      "userId": "10928157657240567222"
     },
     "user_tz": 240
    },
    "id": "UppeUa8EfeOK"
   },
   "outputs": [],
   "source": [
    "from matplotlib import colors\n",
    "cm_colors = ['#FFD166', \"#F78C6B\", \"#06D6A0\"]\n",
    "cm_labels = ['No \\nAdherence', 'Partial \\nAdherence', 'High \\nAdherence']\n",
    "cmap = colors.ListedColormap(cm_colors)"
   ]
  },
  {
   "cell_type": "code",
   "execution_count": null,
   "metadata": {
    "colab": {
     "base_uri": "https://localhost:8080/",
     "height": 556
    },
    "executionInfo": {
     "elapsed": 2261,
     "status": "ok",
     "timestamp": 1715369932810,
     "user": {
      "displayName": "Yanjun Cui",
      "userId": "10928157657240567222"
     },
     "user_tz": 240
    },
    "id": "fsg1Z31zfeOK",
    "outputId": "d51dc104-a87a-4a9a-a691-ceaf9e0b0208"
   },
   "outputs": [],
   "source": [
    "import calmap\n",
    "import pandas as pd\n",
    "import numpy as np\n",
    "import matplotlib.pyplot as plt\n",
    "from matplotlib.colors import Normalize\n",
    "from matplotlib.cm import ScalarMappable\n",
    "\n",
    "# Set up a figure with subplots\n",
    "fig, axes = plt.subplots(3, 1, figsize=(10, 6))\n",
    "\n",
    "# Determine data range for consistent color mapping\n",
    "vmin = 0\n",
    "vmax = 1\n",
    "\n",
    "# Plot each year on its own subplot\n",
    "calmap.yearplot(events1, year=2022, ax=axes[0], cmap=cmap, vmin=vmin, vmax=vmax, linewidth=0.1)\n",
    "axes[0].set_ylabel('2022', fontsize=30, color='grey', weight='bold')\n",
    "axes[0].set_title('Subject 52')\n",
    "\n",
    "calmap.yearplot(events2, year=2022, ax=axes[1], cmap=cmap, vmin=vmin, vmax=vmax, linewidth=0.1)\n",
    "axes[1].set_ylabel('2022', fontsize=30, color='grey', weight='bold')\n",
    "axes[1].set_title('Subject 74')\n",
    "\n",
    "calmap.yearplot(events3, year=2022, ax=axes[2], cmap=cmap, vmin=vmin, vmax=vmax, linewidth=0.1)\n",
    "axes[2].set_ylabel('2022', fontsize=30, color='grey', weight='bold')\n",
    "axes[2].set_title('Subject 78')\n",
    "\n",
    "\n",
    "# Create a ScalarMappable for colorbar\n",
    "norm = Normalize(vmin=vmin, vmax=vmax)\n",
    "sm = ScalarMappable(cmap=cmap, norm=norm)\n",
    "sm.set_array([])\n",
    "\n",
    "# Add the colorbar to the figure\n",
    "cbar = fig.colorbar(sm, ax=axes.ravel().tolist(), orientation='horizontal', pad=0.02, fraction=0.03)\n",
    "cbar.set_ticks([vmin + (vmin+vmax)/6, (vmin+vmax)/2, vmax - (vmin+vmax)/6])\n",
    "cbar.set_ticklabels(cm_labels)\n",
    "\n",
    "# Adjust layout\n",
    "fig.subplots_adjust(bottom=0.2, hspace=0.4)  # Make room for titles and colorbar\n",
    "\n",
    "plt.savefig(\"./figs/combined_calendar_2022_2.png\", bbox_inches='tight')\n",
    "plt.savefig('./final_figures/supplementary/calendar_2022_2.png',bbox_inches='tight')\n",
    "plt.savefig('./final_figures/supplementary/calendar_2022_2.pdf',bbox_inches='tight')\n",
    "# Show the plot\n",
    "plt.show()"
   ]
  },
  {
   "cell_type": "code",
   "execution_count": null,
   "metadata": {
    "id": "NWFB1-XYipSt"
   },
   "outputs": [],
   "source": []
  }
 ],
 "metadata": {
  "colab": {
   "authorship_tag": "ABX9TyMMx1sgBx0aj3DjNYehbaCy",
   "provenance": [],
   "toc_visible": true
  },
  "kernelspec": {
   "display_name": "Python 3 (ipykernel)",
   "language": "python",
   "name": "python3"
  },
  "language_info": {
   "codemirror_mode": {
    "name": "ipython",
    "version": 3
   },
   "file_extension": ".py",
   "mimetype": "text/x-python",
   "name": "python",
   "nbconvert_exporter": "python",
   "pygments_lexer": "ipython3",
   "version": "3.10.6"
  }
 },
 "nbformat": 4,
 "nbformat_minor": 1
}
