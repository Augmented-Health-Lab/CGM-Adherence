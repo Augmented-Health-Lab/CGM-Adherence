{
 "cells": [
  {
   "cell_type": "code",
   "execution_count": null,
   "id": "91b00a0e",
   "metadata": {
    "colab": {
     "base_uri": "https://localhost:8080/"
    },
    "executionInfo": {
     "elapsed": 25511,
     "status": "ok",
     "timestamp": 1716842866614,
     "user": {
      "displayName": "Yanjun Cui",
      "userId": "10928157657240567222"
     },
     "user_tz": 240
    },
    "id": "sJDd8oXk0iM2",
    "outputId": "bbaee613-2fe9-49b9-8b9c-29fe71668af6",
    "scrolled": false
   },
   "outputs": [],
   "source": [
    "from google.colab import drive\n",
    "drive.mount('/content/drive')"
   ]
  },
  {
   "cell_type": "code",
   "execution_count": null,
   "id": "1dfc694b",
   "metadata": {
    "executionInfo": {
     "elapsed": 532,
     "status": "ok",
     "timestamp": 1716842867144,
     "user": {
      "displayName": "Yanjun Cui",
      "userId": "10928157657240567222"
     },
     "user_tz": 240
    },
    "id": "rhX8B7So00_A"
   },
   "outputs": [],
   "source": [
    "import pandas as pd\n",
    "import numpy as np\n",
    "import csv\n",
    "import os\n",
    "from datetime import date, timedelta, datetime\n",
    "import matplotlib.pyplot as plt\n",
    "import matplotlib.dates as mdates"
   ]
  },
  {
   "cell_type": "markdown",
   "id": "e0ad9440",
   "metadata": {
    "id": "t--TBIL3b9ud"
   },
   "source": [
    "# Adherence Trends\n",
    "\n",
    "* For the days with more than 70% (288 * .7 = 202) records.\n",
    "* Calculate each individual's trends then average that"
   ]
  },
  {
   "cell_type": "code",
   "execution_count": null,
   "id": "62e47e1b",
   "metadata": {
    "executionInfo": {
     "elapsed": 1,
     "status": "ok",
     "timestamp": 1716842922573,
     "user": {
      "displayName": "Yanjun Cui",
      "userId": "10928157657240567222"
     },
     "user_tz": 240
    },
    "id": "jhHyU8rzyP6H"
   },
   "outputs": [],
   "source": [
    "def get_days_of_year(date):\n",
    "  interval = date - datetime(1001, 1, 1)\n",
    "  num_of_days = interval.days\n",
    "  return num_of_days"
   ]
  },
  {
   "cell_type": "code",
   "execution_count": null,
   "id": "157c9e48",
   "metadata": {
    "executionInfo": {
     "elapsed": 2,
     "status": "ok",
     "timestamp": 1716842923234,
     "user": {
      "displayName": "Yanjun Cui",
      "userId": "10928157657240567222"
     },
     "user_tz": 240
    },
    "id": "7sJ6nIDxyP6J"
   },
   "outputs": [],
   "source": [
    "# get some specific days / range\n",
    "\n",
    "spring = get_days_of_year(datetime(1001, 3, 1))\n",
    "summer = get_days_of_year(datetime(1001, 6, 1))\n",
    "fall = get_days_of_year(datetime(1001, 9, 1))\n",
    "winter = get_days_of_year(datetime(1001, 12, 1))"
   ]
  },
  {
   "cell_type": "code",
   "execution_count": null,
   "id": "c1087587",
   "metadata": {
    "executionInfo": {
     "elapsed": 213,
     "status": "ok",
     "timestamp": 1716842923630,
     "user": {
      "displayName": "Yanjun Cui",
      "userId": "10928157657240567222"
     },
     "user_tz": 240
    },
    "id": "-RJMlgp-uUtR"
   },
   "outputs": [],
   "source": [
    "def date2list(start, periods):\n",
    "  date1 = pd.Series(pd.date_range(start, periods = periods))\n",
    "  df = pd.DataFrame(dict(date_given = date1))\n",
    "  df['Month'] = df['date_given'].dt.month\n",
    "  df['Day'] = df['date_given'].dt.day\n",
    "  df = df.drop(['date_given'], axis = 1)\n",
    "  date_list = df.values.tolist()  # one year's date list\n",
    "  return date_list"
   ]
  },
  {
   "cell_type": "code",
   "execution_count": null,
   "id": "c6d23ffd",
   "metadata": {
    "colab": {
     "base_uri": "https://localhost:8080/"
    },
    "executionInfo": {
     "elapsed": 2,
     "status": "ok",
     "timestamp": 1716842923795,
     "user": {
      "displayName": "Yanjun Cui",
      "userId": "10928157657240567222"
     },
     "user_tz": 240
    },
    "id": "gcdysyh1uUtR",
    "outputId": "ebbdc51c-f805-46d5-ca80-4a6d32bd9f83"
   },
   "outputs": [],
   "source": [
    "date_list = date2list('2021-1-1 12:00:00', 365)\n",
    "print(len(date_list), date_list[:5])"
   ]
  },
  {
   "cell_type": "code",
   "execution_count": null,
   "id": "70d83c18",
   "metadata": {
    "executionInfo": {
     "elapsed": 37479,
     "status": "ok",
     "timestamp": 1716842962157,
     "user": {
      "displayName": "Yanjun Cui",
      "userId": "10928157657240567222"
     },
     "user_tz": 240
    },
    "id": "muZOk5uik4QB"
   },
   "outputs": [],
   "source": [
    "cgm_day_root = './cgm_count_by_day/'\n",
    "\n",
    "for filename in os.listdir(cgm_day_root):\n",
    "  if filename[-4:] == '.csv':\n",
    "    res_list = [i + [0, 0] for i in date_list]\n",
    "    df = pd.read_csv(cgm_day_root + filename)\n",
    "\n",
    "    # days are valid\n",
    "    df_date = df[['Month','Day']].values.tolist()\n",
    "    df_valid = df['Valid'].values.tolist()\n",
    "    for i in range(len(df_date)):\n",
    "      if df_date[i] != [2, 29]: # do not consider this\n",
    "        index = date_list.index(df_date[i])\n",
    "        if df_valid[i] == 1:\n",
    "          res_list[index][2] += 1\n",
    "\n",
    "    # duration passed on that date\n",
    "    start = datetime.strptime(list(df['displayTime'])[0].split(' ')[0], '%Y-%m-%d').date()\n",
    "    end = datetime.strptime(list(df['displayTime'])[-1].split(' ')[0], '%Y-%m-%d').date()\n",
    "    passed_lst = date2list(start, (end - start).days + 1)\n",
    "    for i in passed_lst:\n",
    "      if i != [2, 29]: # do not consider this\n",
    "        index = date_list.index(i)\n",
    "        res_list[index][3] += 1\n",
    "\n",
    "    df = pd.DataFrame(res_list, columns=['Month', 'Day', 'Valid_nums', 'Passed_nums'])\n",
    "    df['Valid_ratio'] = df.Valid_nums / df.Passed_nums\n",
    "    df.to_csv('./individual_adherence_by_day/' + filename, header=['Month', 'Day', 'Valid_nums', 'Passed_nums', 'Ratio'], index = None)\n",
    "    # break"
   ]
  },
  {
   "cell_type": "markdown",
   "id": "e386821c",
   "metadata": {
    "id": "-FBmx1oZDbl_"
   },
   "source": [
    "# Smoothed Seasonal Trends (Fig2A)"
   ]
  },
  {
   "cell_type": "code",
   "execution_count": null,
   "id": "f5d155b0",
   "metadata": {
    "colab": {
     "base_uri": "https://localhost:8080/"
    },
    "executionInfo": {
     "elapsed": 1548,
     "status": "ok",
     "timestamp": 1707161329435,
     "user": {
      "displayName": "Yanjun Cui",
      "userId": "10928157657240567222"
     },
     "user_tz": 300
    },
    "id": "ihKYDqVll4jC",
    "outputId": "c05a5206-f74d-4b38-b51c-c0ae687a62f8"
   },
   "outputs": [],
   "source": [
    "ind_trend = './individual_adherence_by_day/'\n",
    "final_2d_res = [[] for i in range(365)]\n",
    "\n",
    "for filename in os.listdir(ind_trend):\n",
    "  if filename[-4:] == '.csv':\n",
    "    df = pd.read_csv(ind_trend + filename)\n",
    "\n",
    "    df_list = df.values.tolist()\n",
    "    # days have records\n",
    "    for i in range(len(df_list)):\n",
    "      if df_list[i][3] != 0:\n",
    "        final_2d_res[i].append(df_list[i][4])\n",
    "\n",
    "final_res = []\n",
    "for i in final_2d_res:\n",
    "  final_res.append(np.mean(i))\n",
    "\n",
    "# print(final_res)\n",
    "\n",
    "res_list = [date_list[i] + [final_res[i]] for i in range(len(date_list))]\n",
    "# print(res_list)"
   ]
  },
  {
   "cell_type": "code",
   "execution_count": null,
   "id": "91726e0f",
   "metadata": {
    "id": "1qp-4Fo6l8c8"
   },
   "outputs": [],
   "source": [
    "df = pd.DataFrame(res_list)\n",
    "df.to_csv('./yearly_adherence_trends.csv', header=['Month', 'Day', 'Valid_ratio'], index = None)"
   ]
  },
  {
   "cell_type": "code",
   "execution_count": null,
   "id": "c7dcfd2a",
   "metadata": {
    "colab": {
     "base_uri": "https://localhost:8080/"
    },
    "executionInfo": {
     "elapsed": 2,
     "status": "ok",
     "timestamp": 1707161332545,
     "user": {
      "displayName": "Yanjun Cui",
      "userId": "10928157657240567222"
     },
     "user_tz": 300
    },
    "id": "msiY1NfGuUtS",
    "outputId": "07d6c6f3-8381-4f03-f5e7-52d1306008f3",
    "scrolled": true
   },
   "outputs": [],
   "source": [
    "df_valid = pd.read_csv('./yearly_adherence_trends.csv')\n",
    "\n",
    "ratio = df_valid.Valid_ratio.values.tolist()\n",
    "# baseline / avg of ratio\n",
    "avg = np.mean(ratio)\n",
    "print(avg)\n",
    "\n",
    "weighted_ratio = [(i - avg) / avg for i in ratio]\n",
    "print(weighted_ratio)\n"
   ]
  },
  {
   "cell_type": "code",
   "execution_count": null,
   "id": "add1474f",
   "metadata": {
    "id": "Gt8oFnXmuUtS"
   },
   "outputs": [],
   "source": [
    "smoothed_ratio = pd.DataFrame(weighted_ratio).rolling(7, min_periods=1).mean()"
   ]
  },
  {
   "cell_type": "code",
   "execution_count": null,
   "id": "73ea1475",
   "metadata": {
    "colab": {
     "base_uri": "https://localhost:8080/"
    },
    "executionInfo": {
     "elapsed": 186,
     "status": "ok",
     "timestamp": 1707161334821,
     "user": {
      "displayName": "Yanjun Cui",
      "userId": "10928157657240567222"
     },
     "user_tz": 300
    },
    "id": "lmAL880DuUtS",
    "outputId": "cb4181bb-a595-4cb4-9559-78a1986362e0"
   },
   "outputs": [],
   "source": [
    "len(smoothed_ratio)"
   ]
  },
  {
   "cell_type": "code",
   "execution_count": null,
   "id": "daa68f9f",
   "metadata": {
    "colab": {
     "base_uri": "https://localhost:8080/",
     "height": 389
    },
    "executionInfo": {
     "elapsed": 2440,
     "status": "ok",
     "timestamp": 1707162938297,
     "user": {
      "displayName": "Yanjun Cui",
      "userId": "10928157657240567222"
     },
     "user_tz": 300
    },
    "id": "BehFH04UuUtS",
    "outputId": "25ff495d-b213-43d0-c25c-e84ca493815d"
   },
   "outputs": [],
   "source": [
    "# color palette: https://coolors.co/palette/ef476f-f78c6b-ffd166-06d6a0-118ab2-073b4c\n",
    "from matplotlib import dates as mdates\n",
    "from matplotlib import dates\n",
    "\n",
    "# plt.figure(figsize=(15,6))\n",
    "fig, ax = plt.subplots()\n",
    "fig.set_size_inches(15, 5)\n",
    "# ax.grid(True, linestyle='-.')\n",
    "plt.plot(smoothed_ratio, label = 'Valid Ratio Trends', color = '#EF476F', linewidth=3.0)\n",
    "# https://stackoverflow.com/questions/67582913/plotting-time-series-in-matplotlib-with-month-names-ex-january-and-showing-ye\n",
    "# fmt_month = mdates.MonthLocator(bymonthday=11)\n",
    "fmt_month = mdates.MonthLocator(bymonthday=12)\n",
    "ax.xaxis.set_major_locator(fmt_month)\n",
    "ax.xaxis.set_major_formatter(dates.DateFormatter('%b'))\n",
    "plt.xticks(fontsize = 12)\n",
    "ax.axhline(y = 0, c='#073B4C', linestyle='-', alpha=.8)\n",
    "ax.set_yticks([-.1, -.05, -.02, 0, .02, .05, .1])\n",
    "ax.set_yticklabels(['10% Below', '5% Below', '2% Below', 'Baseline', '2% Above', '5% Above', '10% Above'], fontsize = 12)\n",
    "plt.ylabel('Change in CGM Adherence (%)', fontsize = 14)\n",
    "\n",
    "# seasons\n",
    "plt.axvspan(spring, summer, facecolor = '#06D6A0', alpha = .2) # spring\n",
    "plt.axvspan(summer, fall, facecolor = '#F78C6B', alpha = .2) # summer\n",
    "plt.axvspan(fall, winter, facecolor = '#FFD166', alpha = .2) # fall\n",
    "\n",
    "plt.axvspan(winter, 364, facecolor = '#118AB2', alpha = .2) # winter\n",
    "plt.axvspan(0, spring, facecolor = '#118AB2', alpha = .2)\n",
    "\n",
    "# label seasons\n",
    "ax.text((spring + summer)/2-10, 0.08, 'Spring', color = \"#073B4C\", fontsize = 12,\n",
    "         bbox=dict(boxstyle=\"round\",\n",
    "                   ec='white',\n",
    "                   fc='white',\n",
    "                   ))\n",
    "ax.text((summer + fall)/2 - 10,  0.08,  'Summer', color = \"#073B4C\", fontsize = 12,\n",
    "         bbox=dict(boxstyle=\"round\",\n",
    "                   ec='white',\n",
    "                   fc='white',\n",
    "                   ))\n",
    "ax.text((winter + fall)/2 - 5, 0.08, 'Fall', color = \"#073B4C\", fontsize = 12,\n",
    "         bbox=dict(boxstyle=\"round\",\n",
    "                   ec='white',\n",
    "                   fc='white',\n",
    "                   ))\n",
    "ax.text(25, 0.08, 'Winter', color = \"#073B4C\", fontsize = 12,\n",
    "         bbox=dict(boxstyle=\"round\",\n",
    "                   ec='white',\n",
    "                   fc='white',\n",
    "                   ))\n",
    "\n",
    "plt.grid(color='gray', linewidth=0.5, linestyle = ':')\n",
    "plt.xlim(-10,364 + 10)\n",
    "\n",
    "plt.savefig(\"./figures/monthly_adherence/all_subjects_monthly_adh.jpg\")\n",
    "plt.savefig('./final_figures/fig2/seasonal_trends.png',bbox_inches='tight')\n",
    "plt.savefig('./final_figures/fig2/seasonal_trends.pdf',bbox_inches='tight')\n",
    "\n",
    "\n",
    "plt.show()"
   ]
  },
  {
   "cell_type": "markdown",
   "id": "3be700f0",
   "metadata": {
    "id": "b7ZXlAIkWkPx"
   },
   "source": [
    "# Monthly Average (Fig2B)"
   ]
  },
  {
   "cell_type": "code",
   "execution_count": null,
   "id": "4df11841",
   "metadata": {
    "colab": {
     "base_uri": "https://localhost:8080/",
     "height": 206
    },
    "executionInfo": {
     "elapsed": 232,
     "status": "ok",
     "timestamp": 1707162494899,
     "user": {
      "displayName": "Yanjun Cui",
      "userId": "10928157657240567222"
     },
     "user_tz": 300
    },
    "id": "Y6Xv4P5FWzoT",
    "outputId": "deeac98d-2e09-4c78-fc7a-1b2c5c441533"
   },
   "outputs": [],
   "source": [
    "df_valid = pd.read_csv('./yearly_adherence_trends.csv')\n",
    "df_valid.head()"
   ]
  },
  {
   "cell_type": "code",
   "execution_count": null,
   "id": "dea5be45",
   "metadata": {
    "colab": {
     "base_uri": "https://localhost:8080/"
    },
    "executionInfo": {
     "elapsed": 4,
     "status": "ok",
     "timestamp": 1707162495645,
     "user": {
      "displayName": "Yanjun Cui",
      "userId": "10928157657240567222"
     },
     "user_tz": 300
    },
    "id": "J_30MCwMXEno",
    "outputId": "fb8f233f-ff9f-4eec-ff5d-85d57263cc36"
   },
   "outputs": [],
   "source": [
    "monthly_adh = []\n",
    "for i in range(1, 13):\n",
    "  monthly_adh.append(np.mean(df_valid[df_valid[\"Month\"] == i].Valid_ratio))\n",
    "monthly_adh"
   ]
  },
  {
   "cell_type": "code",
   "execution_count": null,
   "id": "e986e6d9",
   "metadata": {
    "colab": {
     "base_uri": "https://localhost:8080/",
     "height": 411
    },
    "executionInfo": {
     "elapsed": 2006,
     "status": "ok",
     "timestamp": 1707162804277,
     "user": {
      "displayName": "Yanjun Cui",
      "userId": "10928157657240567222"
     },
     "user_tz": 300
    },
    "id": "MjM9mtSbaTr6",
    "outputId": "bc55ddce-6c80-43a2-a964-7e755a91880f"
   },
   "outputs": [],
   "source": [
    "fig, ax = plt.subplots(figsize=(15, 5))\n",
    "months = ['Jan', 'Feb', 'Mar', 'Apr', 'May', 'Jun', 'Jul', 'Aug', 'Sep', 'Oct', 'Nov', 'Dec']\n",
    "\n",
    "bar_container = ax.bar(months, np.array(monthly_adh) * 100, color='#F78C6B', alpha = .7)\n",
    "ax.bar_label(bar_container, fmt='{:,.1f}', fontsize = 12)\n",
    "\n",
    "ax.set_ylim([60, 70])\n",
    "ax.set_ylabel('Average CGM adherence / month (%)', fontsize = 14)\n",
    "plt.xticks(fontsize = 12)\n",
    "plt.yticks(fontsize = 12)\n",
    "plt.savefig('./figures//monthly_adherence/monthly_avg.png',bbox_inches='tight')\n",
    "plt.savefig('./final_figures/fig2/monthly_avg_adherence.png',bbox_inches='tight')\n",
    "plt.savefig('./final_figures/fig2/monthly_avg_adherence.pdf',bbox_inches='tight')\n",
    "\n",
    "plt.show()"
   ]
  },
  {
   "cell_type": "code",
   "execution_count": null,
   "id": "97fd1847",
   "metadata": {},
   "outputs": [],
   "source": []
  }
 ],
 "metadata": {
  "kernelspec": {
   "display_name": "Python 3 (ipykernel)",
   "language": "python",
   "name": "python3"
  },
  "language_info": {
   "codemirror_mode": {
    "name": "ipython",
    "version": 3
   },
   "file_extension": ".py",
   "mimetype": "text/x-python",
   "name": "python",
   "nbconvert_exporter": "python",
   "pygments_lexer": "ipython3",
   "version": "3.10.6"
  }
 },
 "nbformat": 4,
 "nbformat_minor": 5
}
