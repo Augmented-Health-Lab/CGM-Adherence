{
 "cells": [
  {
   "cell_type": "code",
   "execution_count": 5,
   "metadata": {
    "colab": {
     "base_uri": "https://localhost:8080/"
    },
    "executionInfo": {
     "elapsed": 25429,
     "status": "ok",
     "timestamp": 1702564034648,
     "user": {
      "displayName": "Yanjun Cui",
      "userId": "10928157657240567222"
     },
     "user_tz": -480
    },
    "id": "sJDd8oXk0iM2",
    "outputId": "6bd1bd1b-f335-4423-a182-5504916473b5"
   },
   "outputs": [
    {
     "name": "stdout",
     "output_type": "stream",
     "text": [
      "Mounted at /content/drive\n",
      "Drive already mounted at /content/drive; to attempt to forcibly remount, call drive.mount(\"/content/drive\", force_remount=True).\n"
     ]
    }
   ],
   "source": [
    "from google.colab import drive\n",
    "drive.mount('/content/drive')"
   ]
  },
  {
   "cell_type": "code",
   "execution_count": 6,
   "metadata": {
    "executionInfo": {
     "elapsed": 7,
     "status": "ok",
     "timestamp": 1702564034649,
     "user": {
      "displayName": "Yanjun Cui",
      "userId": "10928157657240567222"
     },
     "user_tz": -480
    },
    "id": "rhX8B7So00_A"
   },
   "outputs": [],
   "source": [
    "import pandas as pd\n",
    "import numpy as np\n",
    "import csv\n",
    "import os\n",
    "import shutil\n",
    "from datetime import date, timedelta, datetime\n",
    "import matplotlib.pyplot as plt\n",
    "import matplotlib.dates as mdates"
   ]
  },
  {
   "cell_type": "markdown",
   "metadata": {
    "id": "x-HqEVwZjRUS"
   },
   "source": [
    "# Data selection\n",
    "* batch 1- 5\n",
    "* \\> 270 days"
   ]
  },
  {
   "cell_type": "code",
   "execution_count": null,
   "metadata": {
    "id": "uIMBP0DKAI7c"
   },
   "outputs": [],
   "source": [
    "def check_duration(root):\n",
    "  dur_dict = {}\n",
    "  for filename in os.listdir(root):\n",
    "    if filename[-4:] == '.csv':\n",
    "      df = pd.read_csv(root + filename)\n",
    "      if len(df) == 0:\n",
    "        # os.remove(root + filename)\n",
    "        print(filename, \"is empty\")\n",
    "      else:\n",
    "        # print(df)\n",
    "        cgm_df = df[['displayTime', 'glucoseValue']]\n",
    "\n",
    "        start = cgm_df[\"displayTime\"][0]\n",
    "        end = cgm_df[\"displayTime\"][len(df)-1]\n",
    "        start_date, _ = start.split('T')\n",
    "        end_date, _ = end.split('T')\n",
    "\n",
    "        # start and end date\n",
    "        start_date = datetime.strptime(start_date, '%Y-%m-%d')\n",
    "        end_date = datetime.strptime(end_date, '%Y-%m-%d')\n",
    "\n",
    "        # duration\n",
    "        duration = (end_date - start_date).days + 1\n",
    "        dur_dict.update({filename[:-4]: duration})\n",
    "  return dur_dict"
   ]
  },
  {
   "cell_type": "code",
   "execution_count": null,
   "metadata": {
    "id": "YdOphvTmNq2t"
   },
   "outputs": [],
   "source": [
    "# old files\n",
    "batch1_root = './baseline_data/batch1/csv_cgm/'\n",
    "batch2_root = './baseline_data/batch2/csv_cgm/'\n",
    "# new files\n",
    "batch3_root = './3rdbatch_new2_processed/csv_cgm/'\n",
    "batch4_root = './4thbatch_processed/csv_cgm/'\n",
    "batch5_root = './5thbatch_processed/csv_cgm/'\n",
    "\n",
    "dst_dir = './csv_cgm/'\n",
    "root_list = [batch1_root, batch2_root, batch3_root, batch4_root, batch5_root]"
   ]
  },
  {
   "cell_type": "code",
   "execution_count": 1,
   "metadata": {
    "colab": {
     "base_uri": "https://localhost:8080/"
    },
    "executionInfo": {
     "elapsed": 268530,
     "status": "ok",
     "timestamp": 1702175968154,
     "user": {
      "displayName": "Yanjun Cui",
      "userId": "10928157657240567222"
     },
     "user_tz": -480
    },
    "id": "fvEYy-lUOVgs",
    "outputId": "68459eec-5887-4fae-f9d4-e495f57bc990"
   },
   "outputs": [],
   "source": [
    "for root in root_list:\n",
    "  print(root)\n",
    "  dur_dict = check_duration(root)\n",
    "  selected = {k:v for k, v in dur_dict.items() if v > 30 * 9}\n",
    "  print(len(selected.keys()))\n",
    "  print(selected)\n",
    "  print(\"================================\")\n",
    "\n",
    "  for i in selected.keys():\n",
    "    shutil.copy(root + i + '.csv', dst_dir)"
   ]
  },
  {
   "cell_type": "code",
   "execution_count": null,
   "metadata": {
    "colab": {
     "base_uri": "https://localhost:8080/"
    },
    "executionInfo": {
     "elapsed": 1872,
     "status": "ok",
     "timestamp": 1702349632257,
     "user": {
      "displayName": "Yanjun Cui",
      "userId": "10928157657240567222"
     },
     "user_tz": -480
    },
    "id": "z7QoV-GAOVpg",
    "outputId": "d9bb667e-2ce0-4ed7-8a20-c94a808f44a7"
   },
   "outputs": [
    {
     "name": "stdout",
     "output_type": "stream",
     "text": [
      "total number of subjects: 108\n"
     ]
    }
   ],
   "source": [
    "count = 0\n",
    "for filename in os.listdir(dst_dir):\n",
    "  if filename[-4:] == '.csv':\n",
    "    count += 1\n",
    "print('total number of subjects:', count)"
   ]
  },
  {
   "cell_type": "markdown",
   "metadata": {
    "id": "Ve9wEvqwSOyY"
   },
   "source": [
    "# CGM count by hour and by day"
   ]
  },
  {
   "cell_type": "code",
   "execution_count": null,
   "metadata": {
    "colab": {
     "base_uri": "https://localhost:8080/"
    },
    "executionInfo": {
     "elapsed": 409711,
     "status": "ok",
     "timestamp": 1702350057569,
     "user": {
      "displayName": "Yanjun Cui",
      "userId": "10928157657240567222"
     },
     "user_tz": -480
    },
    "id": "yzDbYPNpt0k3",
    "outputId": "4ddb0ea3-4c22-44e4-f585-fdcb756babbf"
   },
   "outputs": [
    {
     "name": "stderr",
     "output_type": "stream",
     "text": [
      "<ipython-input-6-7bf9121148e6>:4: DtypeWarning: Columns (1,7) have mixed types. Specify dtype option on import or set low_memory=False.\n",
      "  cgm_df = pd.read_csv(cgm_dir + filename)[['displayTime', 'glucoseValue']]\n",
      "<ipython-input-6-7bf9121148e6>:4: DtypeWarning: Columns (1,8) have mixed types. Specify dtype option on import or set low_memory=False.\n",
      "  cgm_df = pd.read_csv(cgm_dir + filename)[['displayTime', 'glucoseValue']]\n",
      "<ipython-input-6-7bf9121148e6>:4: DtypeWarning: Columns (1,8) have mixed types. Specify dtype option on import or set low_memory=False.\n",
      "  cgm_df = pd.read_csv(cgm_dir + filename)[['displayTime', 'glucoseValue']]\n"
     ]
    }
   ],
   "source": [
    "cgm_dir = './csv_cgm/'\n",
    "for filename in os.listdir(cgm_dir):\n",
    "  if filename[-4:] == '.csv':\n",
    "    cgm_df = pd.read_csv(cgm_dir + filename)[['displayTime', 'glucoseValue']]\n",
    "\n",
    "    # drop values that have exactly same displayTime, (only keep the first one)\n",
    "    cgm_df['displayTime'] = pd.to_datetime(cgm_df['displayTime'])\n",
    "    cgm_df.drop_duplicates(subset=['displayTime'], inplace=True)\n",
    "    cgm_df.dropna(subset=['displayTime'], inplace=True)\n",
    "\n",
    "    # count by hours\n",
    "    hours_df = cgm_df.groupby(pd.Grouper(key='displayTime', freq='H')).count()\n",
    "    hours_df['Valid'] = [1 if i > 12 * .7 else 0 for i in hours_df.glucoseValue.values] # more than 9 records per hour\n",
    "    hours_df['Hour']  = [pd.to_datetime(i).hour for i in hours_df.index.values]\n",
    "    hours_df.rename(columns={hours_df.columns.values[0]: \"Count\"}, inplace = True)\n",
    "    hours_df.to_csv('../cgm_count_by_hour/' + filename)\n",
    "\n",
    "    # break"
   ]
  },
  {
   "cell_type": "code",
   "execution_count": null,
   "metadata": {
    "colab": {
     "base_uri": "https://localhost:8080/"
    },
    "executionInfo": {
     "elapsed": 168945,
     "status": "ok",
     "timestamp": 1702350226511,
     "user": {
      "displayName": "Yanjun Cui",
      "userId": "10928157657240567222"
     },
     "user_tz": -480
    },
    "id": "KBf5hLOIGJVI",
    "outputId": "b1c643d9-b963-4600-d5ba-1a90b574a0b2"
   },
   "outputs": [
    {
     "name": "stderr",
     "output_type": "stream",
     "text": [
      "<ipython-input-7-fa17d2c9f7a6>:4: DtypeWarning: Columns (1,7) have mixed types. Specify dtype option on import or set low_memory=False.\n",
      "  cgm_df = pd.read_csv(cgm_dir + filename)[['displayTime', 'glucoseValue']]\n",
      "<ipython-input-7-fa17d2c9f7a6>:4: DtypeWarning: Columns (1,8) have mixed types. Specify dtype option on import or set low_memory=False.\n",
      "  cgm_df = pd.read_csv(cgm_dir + filename)[['displayTime', 'glucoseValue']]\n",
      "<ipython-input-7-fa17d2c9f7a6>:4: DtypeWarning: Columns (1,8) have mixed types. Specify dtype option on import or set low_memory=False.\n",
      "  cgm_df = pd.read_csv(cgm_dir + filename)[['displayTime', 'glucoseValue']]\n"
     ]
    }
   ],
   "source": [
    "cgm_dir = './csv_cgm/'\n",
    "for filename in os.listdir(cgm_dir):\n",
    "  if filename[-4:] == '.csv':\n",
    "    cgm_df = pd.read_csv(cgm_dir + filename)[['displayTime', 'glucoseValue']]\n",
    "\n",
    "    # drop values that have exactly same displayTime, (only keep the first one)\n",
    "    cgm_df['displayTime'] = pd.to_datetime(cgm_df['displayTime'])\n",
    "    cgm_df.drop_duplicates(subset=['displayTime'], inplace=True)\n",
    "    cgm_df.dropna(subset=['displayTime'], inplace=True)\n",
    "\n",
    "    # count by days\n",
    "    days_df = cgm_df.groupby(pd.Grouper(key='displayTime', freq='D')).count()\n",
    "    # valid if more than 202 records in that day\n",
    "    days_df['Valid'] = [1 if i > 12 * 24 * .7 else 0 for i in days_df.glucoseValue.values]\n",
    "    days_df.rename(columns={days_df.columns.values[0]: \"Count\"}, inplace = True)\n",
    "    month = pd.DatetimeIndex(days_df.index).month\n",
    "    day = pd.DatetimeIndex(days_df.index).day\n",
    "    days_df.insert(0, 'Month', month)\n",
    "    days_df.insert(1, 'Day', day) # obtain month and date of individuals\n",
    "\n",
    "    days_df.to_csv('./cgm_count_by_day/' + filename)\n",
    "\n",
    "    # break"
   ]
  },
  {
   "cell_type": "code",
   "execution_count": null,
   "metadata": {
    "colab": {
     "base_uri": "https://localhost:8080/"
    },
    "executionInfo": {
     "elapsed": 5,
     "status": "ok",
     "timestamp": 1702350228628,
     "user": {
      "displayName": "Yanjun Cui",
      "userId": "10928157657240567222"
     },
     "user_tz": -480
    },
    "id": "VTRSsu8tf-dd",
    "outputId": "d8919b5d-60c4-4e6f-88c5-1cbfd2e70f4e"
   },
   "outputs": [
    {
     "name": "stdout",
     "output_type": "stream",
     "text": [
      "cgm_count_by_hour: total number of subjects: 108\n",
      "cgm_count_by_day: total number of subjects: 108\n"
     ]
    }
   ],
   "source": [
    "count = 0\n",
    "hour_dir = './cgm_count_by_hour/'\n",
    "for filename in os.listdir(hour_dir):\n",
    "  if filename[-4:] == '.csv':\n",
    "    count += 1\n",
    "print('cgm_count_by_hour: total number of subjects:', count)\n",
    "\n",
    "count = 0\n",
    "day_dir = '../cgm_count_by_day/'\n",
    "for filename in os.listdir(day_dir):\n",
    "  if filename[-4:] == '.csv':\n",
    "    count += 1\n",
    "print('cgm_count_by_day: total number of subjects:', count)"
   ]
  },
  {
   "cell_type": "markdown",
   "metadata": {
    "id": "rMV6Pqz6K545"
   },
   "source": [
    "# CGM summary\n",
    "\n",
    "* Subject, start, end, duration, days with record, missing days"
   ]
  },
  {
   "cell_type": "code",
   "execution_count": null,
   "metadata": {
    "id": "TtPtgOyoGKhw"
   },
   "outputs": [],
   "source": [
    "cgm_count_dir = './cgm_count_by_day/'\n",
    "\n",
    "summary_dict = {}\n",
    "\n",
    "for filename in os.listdir(cgm_count_dir):\n",
    "  if filename[-4:] == '.csv':\n",
    "    count_df = pd.read_csv(cgm_count_dir + filename)\n",
    "\n",
    "    start = count_df['displayTime'].values[0].split(' ')[0]\n",
    "    end = count_df['displayTime'].values[-1].split(' ')[0]\n",
    "    count_df['displayTime'] = pd.to_datetime(count_df['displayTime'])\n",
    "\n",
    "    duration = pd.to_timedelta(count_df.displayTime.values[-1] - count_df.displayTime.values[0]).days + 1\n",
    "    record = np.sum(count_df['Count'].values != 0)\n",
    "    missing = np.sum(count_df['Count'].values == 0)\n",
    "    valid = np.sum(count_df['Valid'].values == 1)\n",
    "\n",
    "    summary_dict.update({filename[:-4]: [start, end, duration, record, missing, valid]})\n",
    "    # break"
   ]
  },
  {
   "cell_type": "code",
   "execution_count": 2,
   "metadata": {
    "colab": {
     "base_uri": "https://localhost:8080/",
     "height": 143
    },
    "executionInfo": {
     "elapsed": 342,
     "status": "ok",
     "timestamp": 1702350304558,
     "user": {
      "displayName": "Yanjun Cui",
      "userId": "10928157657240567222"
     },
     "user_tz": -480
    },
    "id": "JBIroCxpQMAS",
    "outputId": "0bf0b3b4-3b37-47c7-c5ec-e3f76b74f804"
   },
   "outputs": [],
   "source": [
    "cgm_summary_df = pd.DataFrame(summary_dict.values(), columns=['Start', 'End', 'Duration', 'RecordDays', 'MissingDays', 'ValidDays'])\n",
    "cgm_summary_df.insert(0, \"Subject\", summary_dict.keys())\n",
    "sorted = cgm_summary_df.sort_values(by=['Duration'])\n",
    "\n",
    "# key is ordered by duration\n",
    "sorted.insert(1, \"Key\", [i for i in range(1, sorted.shape[0] + 1)])\n",
    "sorted.head(3)"
   ]
  },
  {
   "cell_type": "code",
   "execution_count": null,
   "metadata": {
    "id": "t7A1ZN3aTPQt"
   },
   "outputs": [],
   "source": [
    "sorted.to_csv('./CGM_summary.csv', index=None)"
   ]
  },
  {
   "cell_type": "markdown",
   "metadata": {
    "id": "_noFgR5RWZGU"
   },
   "source": [
    "# Demographic Summary"
   ]
  },
  {
   "cell_type": "code",
   "execution_count": null,
   "metadata": {
    "colab": {
     "base_uri": "https://localhost:8080/",
     "height": 262
    },
    "executionInfo": {
     "elapsed": 347,
     "status": "ok",
     "timestamp": 1702350313428,
     "user": {
      "displayName": "Yanjun Cui",
      "userId": "10928157657240567222"
     },
     "user_tz": -480
    },
    "id": "U8hguumTVdss",
    "outputId": "82547a07-0efa-4d8b-aca6-d985213e15b3"
   },
   "outputs": [
    {
     "data": {
      "text/html": [
       "\n",
       "  <div id=\"df-aeb760fc-5e9a-455b-bb74-fbd396a6825e\" class=\"colab-df-container\">\n",
       "    <div>\n",
       "<style scoped>\n",
       "    .dataframe tbody tr th:only-of-type {\n",
       "        vertical-align: middle;\n",
       "    }\n",
       "\n",
       "    .dataframe tbody tr th {\n",
       "        vertical-align: top;\n",
       "    }\n",
       "\n",
       "    .dataframe thead th {\n",
       "        text-align: right;\n",
       "    }\n",
       "</style>\n",
       "<table border=\"1\" class=\"dataframe\">\n",
       "  <thead>\n",
       "    <tr style=\"text-align: right;\">\n",
       "      <th></th>\n",
       "      <th>sweetgoals_id</th>\n",
       "      <th>app_id</th>\n",
       "      <th>limesurvey_id</th>\n",
       "      <th>glooko_code</th>\n",
       "      <th>tf_id</th>\n",
       "      <th>baseline_Survey</th>\n",
       "      <th>gender_redcap</th>\n",
       "      <th>sweetgoals_phone_scr_v_2</th>\n",
       "      <th>treatment</th>\n",
       "      <th>randomized</th>\n",
       "      <th>...</th>\n",
       "      <th>meter_model</th>\n",
       "      <th>cgm_model</th>\n",
       "      <th>pump_model</th>\n",
       "      <th>age_redcap</th>\n",
       "      <th>gender_limesurvey</th>\n",
       "      <th>gender_limesurvey_custom</th>\n",
       "      <th>race_eth_0</th>\n",
       "      <th>race</th>\n",
       "      <th>Hispanic</th>\n",
       "      <th>minority</th>\n",
       "    </tr>\n",
       "  </thead>\n",
       "  <tbody>\n",
       "    <tr>\n",
       "      <th>0</th>\n",
       "      <td>1</td>\n",
       "      <td>60a3fb88df46c6000cd91dfc</td>\n",
       "      <td>ds:R2fZbF9CNkscn93VHA85ObY5W1621359496605lIMof...</td>\n",
       "      <td>goldenrod-del-7808</td>\n",
       "      <td>0000</td>\n",
       "      <td>Yes</td>\n",
       "      <td>2: Female</td>\n",
       "      <td>Complete</td>\n",
       "      <td>G4</td>\n",
       "      <td>No</td>\n",
       "      <td>...</td>\n",
       "      <td>Contour Next USB</td>\n",
       "      <td>NaN</td>\n",
       "      <td>NaN</td>\n",
       "      <td>24</td>\n",
       "      <td>Woman</td>\n",
       "      <td>NaN</td>\n",
       "      <td>Mult_NoHiLa</td>\n",
       "      <td>3: Others</td>\n",
       "      <td>0: Not Hispanic</td>\n",
       "      <td>1: Yes, Minority</td>\n",
       "    </tr>\n",
       "    <tr>\n",
       "      <th>1</th>\n",
       "      <td>3</td>\n",
       "      <td>60a491e1af66c6000de88f4f</td>\n",
       "      <td>ds:hEktCHpaKlqIpg1PlU6xI8Qok1621397985638fXjla...</td>\n",
       "      <td>goldenrod-milwaukee-2917</td>\n",
       "      <td>0000</td>\n",
       "      <td>Yes</td>\n",
       "      <td>2: Female</td>\n",
       "      <td>Complete</td>\n",
       "      <td>G4</td>\n",
       "      <td>No</td>\n",
       "      <td>...</td>\n",
       "      <td>NaN</td>\n",
       "      <td>Dexcom G6</td>\n",
       "      <td>NaN</td>\n",
       "      <td>22</td>\n",
       "      <td>Woman</td>\n",
       "      <td>NaN</td>\n",
       "      <td>White_HiLa</td>\n",
       "      <td>1: White</td>\n",
       "      <td>1: Yes, Hispanic</td>\n",
       "      <td>1: Yes, Minority</td>\n",
       "    </tr>\n",
       "    <tr>\n",
       "      <th>2</th>\n",
       "      <td>5</td>\n",
       "      <td>60ac69faaf66c6000de89413</td>\n",
       "      <td>ds:R7Ut96TTXDVEkBsTtrfwyWyEM1621912058228exC1B...</td>\n",
       "      <td>purple-becker-9082</td>\n",
       "      <td>0000</td>\n",
       "      <td>Yes</td>\n",
       "      <td>2: Female</td>\n",
       "      <td>Complete</td>\n",
       "      <td>G4</td>\n",
       "      <td>No</td>\n",
       "      <td>...</td>\n",
       "      <td>NaN</td>\n",
       "      <td>Dexcom G6</td>\n",
       "      <td>Omnipod</td>\n",
       "      <td>19</td>\n",
       "      <td>Woman</td>\n",
       "      <td>NaN</td>\n",
       "      <td>White_NoHiLa</td>\n",
       "      <td>1: White</td>\n",
       "      <td>0: Not Hispanic</td>\n",
       "      <td>0: Not Minority</td>\n",
       "    </tr>\n",
       "  </tbody>\n",
       "</table>\n",
       "<p>3 rows × 41 columns</p>\n",
       "</div>\n",
       "    <div class=\"colab-df-buttons\">\n",
       "\n",
       "  <div class=\"colab-df-container\">\n",
       "    <button class=\"colab-df-convert\" onclick=\"convertToInteractive('df-aeb760fc-5e9a-455b-bb74-fbd396a6825e')\"\n",
       "            title=\"Convert this dataframe to an interactive table.\"\n",
       "            style=\"display:none;\">\n",
       "\n",
       "  <svg xmlns=\"http://www.w3.org/2000/svg\" height=\"24px\" viewBox=\"0 -960 960 960\">\n",
       "    <path d=\"M120-120v-720h720v720H120Zm60-500h600v-160H180v160Zm220 220h160v-160H400v160Zm0 220h160v-160H400v160ZM180-400h160v-160H180v160Zm440 0h160v-160H620v160ZM180-180h160v-160H180v160Zm440 0h160v-160H620v160Z\"/>\n",
       "  </svg>\n",
       "    </button>\n",
       "\n",
       "  <style>\n",
       "    .colab-df-container {\n",
       "      display:flex;\n",
       "      gap: 12px;\n",
       "    }\n",
       "\n",
       "    .colab-df-convert {\n",
       "      background-color: #E8F0FE;\n",
       "      border: none;\n",
       "      border-radius: 50%;\n",
       "      cursor: pointer;\n",
       "      display: none;\n",
       "      fill: #1967D2;\n",
       "      height: 32px;\n",
       "      padding: 0 0 0 0;\n",
       "      width: 32px;\n",
       "    }\n",
       "\n",
       "    .colab-df-convert:hover {\n",
       "      background-color: #E2EBFA;\n",
       "      box-shadow: 0px 1px 2px rgba(60, 64, 67, 0.3), 0px 1px 3px 1px rgba(60, 64, 67, 0.15);\n",
       "      fill: #174EA6;\n",
       "    }\n",
       "\n",
       "    .colab-df-buttons div {\n",
       "      margin-bottom: 4px;\n",
       "    }\n",
       "\n",
       "    [theme=dark] .colab-df-convert {\n",
       "      background-color: #3B4455;\n",
       "      fill: #D2E3FC;\n",
       "    }\n",
       "\n",
       "    [theme=dark] .colab-df-convert:hover {\n",
       "      background-color: #434B5C;\n",
       "      box-shadow: 0px 1px 3px 1px rgba(0, 0, 0, 0.15);\n",
       "      filter: drop-shadow(0px 1px 2px rgba(0, 0, 0, 0.3));\n",
       "      fill: #FFFFFF;\n",
       "    }\n",
       "  </style>\n",
       "\n",
       "    <script>\n",
       "      const buttonEl =\n",
       "        document.querySelector('#df-aeb760fc-5e9a-455b-bb74-fbd396a6825e button.colab-df-convert');\n",
       "      buttonEl.style.display =\n",
       "        google.colab.kernel.accessAllowed ? 'block' : 'none';\n",
       "\n",
       "      async function convertToInteractive(key) {\n",
       "        const element = document.querySelector('#df-aeb760fc-5e9a-455b-bb74-fbd396a6825e');\n",
       "        const dataTable =\n",
       "          await google.colab.kernel.invokeFunction('convertToInteractive',\n",
       "                                                    [key], {});\n",
       "        if (!dataTable) return;\n",
       "\n",
       "        const docLinkHtml = 'Like what you see? Visit the ' +\n",
       "          '<a target=\"_blank\" href=https://colab.research.google.com/notebooks/data_table.ipynb>data table notebook</a>'\n",
       "          + ' to learn more about interactive tables.';\n",
       "        element.innerHTML = '';\n",
       "        dataTable['output_type'] = 'display_data';\n",
       "        await google.colab.output.renderOutput(dataTable, element);\n",
       "        const docLink = document.createElement('div');\n",
       "        docLink.innerHTML = docLinkHtml;\n",
       "        element.appendChild(docLink);\n",
       "      }\n",
       "    </script>\n",
       "  </div>\n",
       "\n",
       "\n",
       "<div id=\"df-efb3960e-ec79-4700-81ad-9aa8b50bf017\">\n",
       "  <button class=\"colab-df-quickchart\" onclick=\"quickchart('df-efb3960e-ec79-4700-81ad-9aa8b50bf017')\"\n",
       "            title=\"Suggest charts\"\n",
       "            style=\"display:none;\">\n",
       "\n",
       "<svg xmlns=\"http://www.w3.org/2000/svg\" height=\"24px\"viewBox=\"0 0 24 24\"\n",
       "     width=\"24px\">\n",
       "    <g>\n",
       "        <path d=\"M19 3H5c-1.1 0-2 .9-2 2v14c0 1.1.9 2 2 2h14c1.1 0 2-.9 2-2V5c0-1.1-.9-2-2-2zM9 17H7v-7h2v7zm4 0h-2V7h2v10zm4 0h-2v-4h2v4z\"/>\n",
       "    </g>\n",
       "</svg>\n",
       "  </button>\n",
       "\n",
       "<style>\n",
       "  .colab-df-quickchart {\n",
       "      --bg-color: #E8F0FE;\n",
       "      --fill-color: #1967D2;\n",
       "      --hover-bg-color: #E2EBFA;\n",
       "      --hover-fill-color: #174EA6;\n",
       "      --disabled-fill-color: #AAA;\n",
       "      --disabled-bg-color: #DDD;\n",
       "  }\n",
       "\n",
       "  [theme=dark] .colab-df-quickchart {\n",
       "      --bg-color: #3B4455;\n",
       "      --fill-color: #D2E3FC;\n",
       "      --hover-bg-color: #434B5C;\n",
       "      --hover-fill-color: #FFFFFF;\n",
       "      --disabled-bg-color: #3B4455;\n",
       "      --disabled-fill-color: #666;\n",
       "  }\n",
       "\n",
       "  .colab-df-quickchart {\n",
       "    background-color: var(--bg-color);\n",
       "    border: none;\n",
       "    border-radius: 50%;\n",
       "    cursor: pointer;\n",
       "    display: none;\n",
       "    fill: var(--fill-color);\n",
       "    height: 32px;\n",
       "    padding: 0;\n",
       "    width: 32px;\n",
       "  }\n",
       "\n",
       "  .colab-df-quickchart:hover {\n",
       "    background-color: var(--hover-bg-color);\n",
       "    box-shadow: 0 1px 2px rgba(60, 64, 67, 0.3), 0 1px 3px 1px rgba(60, 64, 67, 0.15);\n",
       "    fill: var(--button-hover-fill-color);\n",
       "  }\n",
       "\n",
       "  .colab-df-quickchart-complete:disabled,\n",
       "  .colab-df-quickchart-complete:disabled:hover {\n",
       "    background-color: var(--disabled-bg-color);\n",
       "    fill: var(--disabled-fill-color);\n",
       "    box-shadow: none;\n",
       "  }\n",
       "\n",
       "  .colab-df-spinner {\n",
       "    border: 2px solid var(--fill-color);\n",
       "    border-color: transparent;\n",
       "    border-bottom-color: var(--fill-color);\n",
       "    animation:\n",
       "      spin 1s steps(1) infinite;\n",
       "  }\n",
       "\n",
       "  @keyframes spin {\n",
       "    0% {\n",
       "      border-color: transparent;\n",
       "      border-bottom-color: var(--fill-color);\n",
       "      border-left-color: var(--fill-color);\n",
       "    }\n",
       "    20% {\n",
       "      border-color: transparent;\n",
       "      border-left-color: var(--fill-color);\n",
       "      border-top-color: var(--fill-color);\n",
       "    }\n",
       "    30% {\n",
       "      border-color: transparent;\n",
       "      border-left-color: var(--fill-color);\n",
       "      border-top-color: var(--fill-color);\n",
       "      border-right-color: var(--fill-color);\n",
       "    }\n",
       "    40% {\n",
       "      border-color: transparent;\n",
       "      border-right-color: var(--fill-color);\n",
       "      border-top-color: var(--fill-color);\n",
       "    }\n",
       "    60% {\n",
       "      border-color: transparent;\n",
       "      border-right-color: var(--fill-color);\n",
       "    }\n",
       "    80% {\n",
       "      border-color: transparent;\n",
       "      border-right-color: var(--fill-color);\n",
       "      border-bottom-color: var(--fill-color);\n",
       "    }\n",
       "    90% {\n",
       "      border-color: transparent;\n",
       "      border-bottom-color: var(--fill-color);\n",
       "    }\n",
       "  }\n",
       "</style>\n",
       "\n",
       "  <script>\n",
       "    async function quickchart(key) {\n",
       "      const quickchartButtonEl =\n",
       "        document.querySelector('#' + key + ' button');\n",
       "      quickchartButtonEl.disabled = true;  // To prevent multiple clicks.\n",
       "      quickchartButtonEl.classList.add('colab-df-spinner');\n",
       "      try {\n",
       "        const charts = await google.colab.kernel.invokeFunction(\n",
       "            'suggestCharts', [key], {});\n",
       "      } catch (error) {\n",
       "        console.error('Error during call to suggestCharts:', error);\n",
       "      }\n",
       "      quickchartButtonEl.classList.remove('colab-df-spinner');\n",
       "      quickchartButtonEl.classList.add('colab-df-quickchart-complete');\n",
       "    }\n",
       "    (() => {\n",
       "      let quickchartButtonEl =\n",
       "        document.querySelector('#df-efb3960e-ec79-4700-81ad-9aa8b50bf017 button');\n",
       "      quickchartButtonEl.style.display =\n",
       "        google.colab.kernel.accessAllowed ? 'block' : 'none';\n",
       "    })();\n",
       "  </script>\n",
       "</div>\n",
       "    </div>\n",
       "  </div>\n"
      ],
      "text/plain": [
       "   sweetgoals_id                    app_id  \\\n",
       "0              1  60a3fb88df46c6000cd91dfc   \n",
       "1              3  60a491e1af66c6000de88f4f   \n",
       "2              5  60ac69faaf66c6000de89413   \n",
       "\n",
       "                                       limesurvey_id  \\\n",
       "0  ds:R2fZbF9CNkscn93VHA85ObY5W1621359496605lIMof...   \n",
       "1  ds:hEktCHpaKlqIpg1PlU6xI8Qok1621397985638fXjla...   \n",
       "2  ds:R7Ut96TTXDVEkBsTtrfwyWyEM1621912058228exC1B...   \n",
       "\n",
       "                glooko_code tf_id baseline_Survey gender_redcap  \\\n",
       "0        goldenrod-del-7808  0000             Yes     2: Female   \n",
       "1  goldenrod-milwaukee-2917  0000             Yes     2: Female   \n",
       "2        purple-becker-9082  0000             Yes     2: Female   \n",
       "\n",
       "  sweetgoals_phone_scr_v_2 treatment randomized  ...       meter_model  \\\n",
       "0                 Complete        G4         No  ...  Contour Next USB   \n",
       "1                 Complete        G4         No  ...               NaN   \n",
       "2                 Complete        G4         No  ...               NaN   \n",
       "\n",
       "   cgm_model  pump_model  age_redcap  gender_limesurvey  \\\n",
       "0        NaN         NaN          24              Woman   \n",
       "1  Dexcom G6         NaN          22              Woman   \n",
       "2  Dexcom G6     Omnipod          19              Woman   \n",
       "\n",
       "   gender_limesurvey_custom    race_eth_0       race          Hispanic  \\\n",
       "0                       NaN   Mult_NoHiLa  3: Others   0: Not Hispanic   \n",
       "1                       NaN    White_HiLa   1: White  1: Yes, Hispanic   \n",
       "2                       NaN  White_NoHiLa   1: White   0: Not Hispanic   \n",
       "\n",
       "           minority  \n",
       "0  1: Yes, Minority  \n",
       "1  1: Yes, Minority  \n",
       "2   0: Not Minority  \n",
       "\n",
       "[3 rows x 41 columns]"
      ]
     },
     "execution_count": 13,
     "metadata": {},
     "output_type": "execute_result"
    }
   ],
   "source": [
    "demo_file = './demographic.csv'\n",
    "demo_df = pd.read_csv(demo_file)\n",
    "demo_df.head(3)"
   ]
  },
  {
   "cell_type": "code",
   "execution_count": null,
   "metadata": {
    "colab": {
     "base_uri": "https://localhost:8080/"
    },
    "executionInfo": {
     "elapsed": 3,
     "status": "ok",
     "timestamp": 1702350316240,
     "user": {
      "displayName": "Yanjun Cui",
      "userId": "10928157657240567222"
     },
     "user_tz": -480
    },
    "id": "6bJxnvtHm5sQ",
    "outputId": "afbdccdb-d6c5-4b17-9741-1ef06b3bcdf2"
   },
   "outputs": [
    {
     "name": "stdout",
     "output_type": "stream",
     "text": [
      "['sweetgoals_id' 'app_id' 'limesurvey_id' 'glooko_code' 'tf_id'\n",
      " 'baseline_Survey' 'gender_redcap' 'sweetgoals_phone_scr_v_2' 'treatment'\n",
      " 'randomized' 'enrolled' 'SexOrient_0' 'Race1_0' 'Race2_0' 'Race3_0'\n",
      " 'Race4_0' 'Race5_0' 'Race6_0' 'Ethnicity_0' 'Income_0' 'Education_0'\n",
      " 'Employment_0' 'Insurance_0' 'a1c_0' 'state' 'glucose_device'\n",
      " 'insulin_type' 'diagnosis_duration' 'screen_date_complete' 'pump_upload'\n",
      " 'upload' 'meter_model' 'cgm_model' 'pump_model' 'age_redcap'\n",
      " 'gender_limesurvey' 'gender_limesurvey_custom' 'race_eth_0' 'race'\n",
      " 'Hispanic' 'minority']\n",
      "108\n"
     ]
    }
   ],
   "source": [
    "print(demo_df.columns.values)\n",
    "\n",
    "cgm_df = pd.read_csv('./CGM_summary.csv')\n",
    "valid_id = cgm_df['Subject'].values\n",
    "print(len(valid_id))"
   ]
  },
  {
   "cell_type": "code",
   "execution_count": null,
   "metadata": {
    "id": "vH4LdGW8V0OA"
   },
   "outputs": [],
   "source": [
    "study_id_usr_dict = {}\n",
    "usr_study_id_dict = {}\n",
    "\n",
    "for i in valid_id:\n",
    "  if i in demo_df.app_id.values:\n",
    "    study_id_usr_dict.update({demo_df[demo_df.app_id == i].sweetgoals_id.values[0]: i})\n",
    "    usr_study_id_dict.update({i: demo_df[demo_df.app_id == i].sweetgoals_id.values[0]})\n",
    "    # break"
   ]
  },
  {
   "cell_type": "code",
   "execution_count": null,
   "metadata": {
    "colab": {
     "base_uri": "https://localhost:8080/"
    },
    "executionInfo": {
     "elapsed": 6,
     "status": "ok",
     "timestamp": 1702350320411,
     "user": {
      "displayName": "Yanjun Cui",
      "userId": "10928157657240567222"
     },
     "user_tz": -480
    },
    "id": "KqccGNlyWJs1",
    "outputId": "a672639e-c1d8-4eec-8d51-73507aeea9be"
   },
   "outputs": [
    {
     "name": "stdout",
     "output_type": "stream",
     "text": [
      "the number of valid users have demographic info: 106\n"
     ]
    }
   ],
   "source": [
    "print(\"the number of valid users have demographic info:\", len(study_id_usr_dict.values()))"
   ]
  },
  {
   "cell_type": "code",
   "execution_count": null,
   "metadata": {
    "id": "8M0Ao_kyDPVh"
   },
   "outputs": [],
   "source": [
    "# record the used data for all valid users\n",
    "valid_dict = {i:[] for i in valid_id}\n",
    "\n",
    "for i in range(len(demo_df.sweetgoals_id.values)):\n",
    "  if demo_df.app_id.values[i] in valid_id:\n",
    "    # sweetgoals_id\n",
    "    valid_dict[demo_df.app_id.values[i]].append(usr_study_id_dict[demo_df.app_id.values[i]])\n",
    "    # gender\n",
    "    valid_dict[demo_df.app_id.values[i]].append(demo_df.gender_redcap.values[i])\n",
    "    # a1c\n",
    "    if not np.isnan(demo_df.a1c_0.values[i]):\n",
    "      valid_dict[demo_df.app_id.values[i]].append(demo_df.a1c_0.values[i])\n",
    "    else:\n",
    "      valid_dict[demo_df.app_id.values[i]].append('')\n",
    "    # age\n",
    "    if not np.isnan(demo_df.age_redcap.values[i]):\n",
    "      valid_dict[demo_df.app_id.values[i]].append(demo_df.age_redcap.values[i])\n",
    "    else:\n",
    "      valid_dict[demo_df.app_id.values[i]].append('')\n",
    "    # Race\n",
    "    if not pd.isnull(demo_df.race.values[i]):\n",
    "      valid_dict[demo_df.app_id.values[i]].append(demo_df.race.values[i])\n",
    "    else:\n",
    "      valid_dict[demo_df.app_id.values[i]].append('')\n",
    "    # Diabetes Duration (Yrs.)\n",
    "    if not np.isnan(demo_df.diagnosis_duration.values[i]):\n",
    "      valid_dict[demo_df.app_id.values[i]].append(demo_df.diagnosis_duration.values[i])\n",
    "    else:\n",
    "      valid_dict[demo_df.app_id.values[i]].append('')\n",
    "    # Insulin Delivery Method (e.g., multiple daily injection vs. pump treated)\n",
    "    if not pd.isnull(demo_df.insulin_type.values[i]):\n",
    "      valid_dict[demo_df.app_id.values[i]].append(demo_df.insulin_type.values[i])\n",
    "    else:\n",
    "      valid_dict[demo_df.app_id.values[i]].append('')"
   ]
  },
  {
   "cell_type": "code",
   "execution_count": null,
   "metadata": {
    "id": "mAjGbCawI-vA"
   },
   "outputs": [],
   "source": [
    "location_df = pd.read_excel('./demographic_data/state.xlsx')\n",
    "\n",
    "for i in range(len(location_df.StudyID.values)):\n",
    "  # print(i)\n",
    "  if location_df.StudyID.values[i] in study_id_usr_dict.keys():\n",
    "    valid_dict[study_id_usr_dict[location_df.StudyID.values[i]]].append(location_df.State.values[i])"
   ]
  },
  {
   "cell_type": "code",
   "execution_count": 3,
   "metadata": {
    "colab": {
     "base_uri": "https://localhost:8080/"
    },
    "executionInfo": {
     "elapsed": 5,
     "status": "ok",
     "timestamp": 1702350328674,
     "user": {
      "displayName": "Yanjun Cui",
      "userId": "10928157657240567222"
     },
     "user_tz": -480
    },
    "id": "Xi6Qhi0FQJTc",
    "outputId": "c183bcd3-8cae-4e58-e0bf-07e4a32dab30"
   },
   "outputs": [],
   "source": [
    "miss_loc_id = [k for k,v in valid_dict.items() if len(v) < 8]\n"
   ]
  },
  {
   "cell_type": "code",
   "execution_count": null,
   "metadata": {
    "id": "2LeJlT0cmIqH"
   },
   "outputs": [],
   "source": [
    "for i in range(len(demo_df.sweetgoals_id.values)):\n",
    "  # print(i)\n",
    "  if demo_df.app_id.values[i] in miss_loc_id:\n",
    "    valid_dict[demo_df.app_id.values[i]].append(demo_df.state.values[i])"
   ]
  },
  {
   "cell_type": "code",
   "execution_count": 4,
   "metadata": {
    "colab": {
     "base_uri": "https://localhost:8080/",
     "height": 143
    },
    "executionInfo": {
     "elapsed": 329,
     "status": "ok",
     "timestamp": 1702350333935,
     "user": {
      "displayName": "Yanjun Cui",
      "userId": "10928157657240567222"
     },
     "user_tz": -480
    },
    "id": "0G0M3SHHJI4w",
    "outputId": "fbec3986-1b13-4a84-c198-066aea8fee99"
   },
   "outputs": [],
   "source": [
    "record_df = pd.DataFrame(valid_dict.values(), columns=['sweetgoals_id', 'gender', 'A1c', 'age', 'race', 'diagnosis_duration', 'insulin_type', 'location'])\n",
    "record_df.insert(0, \"app_id\", valid_dict.keys())\n",
    "record_df.head(3)"
   ]
  },
  {
   "cell_type": "code",
   "execution_count": null,
   "metadata": {
    "id": "Ys2MW7b-PSRh"
   },
   "outputs": [],
   "source": [
    "record_df.to_csv('./demographic_data_summary_new.csv', index=None)"
   ]
  },
  {
   "cell_type": "markdown",
   "metadata": {
    "id": "xhtdIch46cM8"
   },
   "source": [
    "## location count"
   ]
  },
  {
   "cell_type": "code",
   "execution_count": 3,
   "metadata": {
    "colab": {
     "base_uri": "https://localhost:8080/"
    },
    "executionInfo": {
     "elapsed": 1983,
     "status": "ok",
     "timestamp": 1717094646192,
     "user": {
      "displayName": "Yanjun Cui",
      "userId": "10928157657240567222"
     },
     "user_tz": 240
    },
    "id": "9wT4XNX061NK",
    "outputId": "f0bf8b79-e40a-4101-f01a-ab2e7fb84b76"
   },
   "outputs": [
    {
     "data": {
      "text/plain": [
       "0    New Jersey\n",
       "1      New York\n",
       "2          Ohio\n",
       "Name: location, dtype: object"
      ]
     },
     "execution_count": 3,
     "metadata": {},
     "output_type": "execute_result"
    }
   ],
   "source": [
    "location_df = pd.read_csv('./demographic_data_summary_final.csv')['location']\n",
    "location_df.head(3)"
   ]
  },
  {
   "cell_type": "code",
   "execution_count": 4,
   "metadata": {
    "colab": {
     "base_uri": "https://localhost:8080/"
    },
    "executionInfo": {
     "elapsed": 16263,
     "status": "ok",
     "timestamp": 1717094665029,
     "user": {
      "displayName": "Yanjun Cui",
      "userId": "10928157657240567222"
     },
     "user_tz": 240
    },
    "id": "3LNf6Ae56BI8",
    "outputId": "0e681696-9122-4b10-e88f-2fdd90657d62"
   },
   "outputs": [
    {
     "name": "stdout",
     "output_type": "stream",
     "text": [
      "Requirement already satisfied: geopandas in /usr/local/lib/python3.10/dist-packages (0.13.2)\n",
      "Requirement already satisfied: fiona>=1.8.19 in /usr/local/lib/python3.10/dist-packages (from geopandas) (1.9.6)\n",
      "Requirement already satisfied: packaging in /usr/local/lib/python3.10/dist-packages (from geopandas) (24.0)\n",
      "Requirement already satisfied: pandas>=1.1.0 in /usr/local/lib/python3.10/dist-packages (from geopandas) (2.0.3)\n",
      "Requirement already satisfied: pyproj>=3.0.1 in /usr/local/lib/python3.10/dist-packages (from geopandas) (3.6.1)\n",
      "Requirement already satisfied: shapely>=1.7.1 in /usr/local/lib/python3.10/dist-packages (from geopandas) (2.0.4)\n",
      "Requirement already satisfied: attrs>=19.2.0 in /usr/local/lib/python3.10/dist-packages (from fiona>=1.8.19->geopandas) (23.2.0)\n",
      "Requirement already satisfied: certifi in /usr/local/lib/python3.10/dist-packages (from fiona>=1.8.19->geopandas) (2024.2.2)\n",
      "Requirement already satisfied: click~=8.0 in /usr/local/lib/python3.10/dist-packages (from fiona>=1.8.19->geopandas) (8.1.7)\n",
      "Requirement already satisfied: click-plugins>=1.0 in /usr/local/lib/python3.10/dist-packages (from fiona>=1.8.19->geopandas) (1.1.1)\n",
      "Requirement already satisfied: cligj>=0.5 in /usr/local/lib/python3.10/dist-packages (from fiona>=1.8.19->geopandas) (0.7.2)\n",
      "Requirement already satisfied: six in /usr/local/lib/python3.10/dist-packages (from fiona>=1.8.19->geopandas) (1.16.0)\n",
      "Requirement already satisfied: python-dateutil>=2.8.2 in /usr/local/lib/python3.10/dist-packages (from pandas>=1.1.0->geopandas) (2.8.2)\n",
      "Requirement already satisfied: pytz>=2020.1 in /usr/local/lib/python3.10/dist-packages (from pandas>=1.1.0->geopandas) (2023.4)\n",
      "Requirement already satisfied: tzdata>=2022.1 in /usr/local/lib/python3.10/dist-packages (from pandas>=1.1.0->geopandas) (2024.1)\n",
      "Requirement already satisfied: numpy>=1.21.0 in /usr/local/lib/python3.10/dist-packages (from pandas>=1.1.0->geopandas) (1.25.2)\n"
     ]
    }
   ],
   "source": [
    "# https://medium.com/@jl_ruiz/plot-maps-from-the-us-census-bureau-using-geopandas-and-contextily-in-python-df787647ef77\n",
    "\n",
    "!pip install geopandas\n",
    "\n",
    "import geopandas as gpd\n",
    "\n",
    "path = './tl_2022_us_state/tl_2022_us_state.shp'\n",
    "\n",
    "df_map = gpd.read_file(path)\n",
    "df_map = df_map.to_crs(\"EPSG:4326\")"
   ]
  },
  {
   "cell_type": "code",
   "execution_count": 5,
   "metadata": {
    "colab": {
     "base_uri": "https://localhost:8080/"
    },
    "executionInfo": {
     "elapsed": 7,
     "status": "ok",
     "timestamp": 1717094667129,
     "user": {
      "displayName": "Yanjun Cui",
      "userId": "10928157657240567222"
     },
     "user_tz": 240
    },
    "id": "XoBq-d7F7kFj",
    "outputId": "6f665228-e947-4351-8fd8-8d59a78e5cd0"
   },
   "outputs": [],
   "source": [
    "stusps_name_dict = {}\n",
    "for i in range(len(df_map['STUSPS'].values)):\n",
    "  stusps_name_dict.update({df_map['STUSPS'].values[i]: df_map['NAME'].values[i]})\n",
    "\n",
    "# print(stusps_name_dict)"
   ]
  },
  {
   "cell_type": "code",
   "execution_count": 7,
   "metadata": {
    "colab": {
     "base_uri": "https://localhost:8080/"
    },
    "executionInfo": {
     "elapsed": 6,
     "status": "ok",
     "timestamp": 1717094667129,
     "user": {
      "displayName": "Yanjun Cui",
      "userId": "10928157657240567222"
     },
     "user_tz": 240
    },
    "id": "ZSvUqH6_6BJJ",
    "outputId": "ec6479a2-51b4-4528-f04b-e304b7d47d9d"
   },
   "outputs": [
    {
     "name": "stdout",
     "output_type": "stream",
     "text": [
      "{'West Virginia': 0, 'Florida': 5, 'Illinois': 4, 'Minnesota': 1, 'Maryland': 6, 'Rhode Island': 1, 'Idaho': 0, 'New Hampshire': 1, 'North Carolina': 3, 'Vermont': 1, 'Connecticut': 0, 'Delaware': 0, 'New Mexico': 0, 'California': 11, 'New Jersey': 4, 'Wisconsin': 1, 'Oregon': 0, 'Nebraska': 0, 'Pennsylvania': 7, 'Washington': 0, 'Louisiana': 2, 'Georgia': 4, 'Alabama': 0, 'Utah': 5, 'Ohio': 2, 'Texas': 4, 'Colorado': 2, 'South Carolina': 4, 'Oklahoma': 1, 'Tennessee': 4, 'Wyoming': 0, 'Hawaii': 0, 'North Dakota': 1, 'Kentucky': 1, 'United States Virgin Islands': 0, 'Commonwealth of the Northern Mariana Islands': 0, 'Guam': 0, 'Maine': 0, 'New York': 8, 'Nevada': 1, 'Alaska': 0, 'American Samoa': 0, 'Michigan': 4, 'Arkansas': 0, 'Mississippi': 1, 'Missouri': 3, 'Montana': 0, 'Kansas': 0, 'Indiana': 4, 'Puerto Rico': 0, 'South Dakota': 0, 'Massachusetts': 3, 'Virginia': 4, 'District of Columbia': 0, 'Iowa': 1, 'Arizona': 4}\n",
      "108\n"
     ]
    }
   ],
   "source": [
    "state_dict = {i:0 for i in df_map.NAME.values}\n",
    "for i in location_df.values:\n",
    "  if i in state_dict.keys():\n",
    "    state_dict[i] += 1\n",
    "  elif i in stusps_name_dict.keys():\n",
    "    state_dict[stusps_name_dict[i]] += 1\n",
    "\n",
    "\n",
    "print(state_dict)\n",
    "print(np.sum(list(state_dict.values()))) "
   ]
  },
  {
   "cell_type": "code",
   "execution_count": 8,
   "metadata": {
    "executionInfo": {
     "elapsed": 4,
     "status": "ok",
     "timestamp": 1717094667129,
     "user": {
      "displayName": "Yanjun Cui",
      "userId": "10928157657240567222"
     },
     "user_tz": 240
    },
    "id": "le48YZ986BJJ"
   },
   "outputs": [],
   "source": [
    "state_lst = [[k, v] for k, v in state_dict.items()]\n",
    "state_df = pd.DataFrame(state_lst, columns=['State', 'Count'])\n",
    "state_df.to_csv('./state_count_final.csv', index=None)"
   ]
  },
  {
   "cell_type": "code",
   "execution_count": null,
   "metadata": {
    "id": "hGVbTR8F8K8G"
   },
   "outputs": [],
   "source": [
    "location_df = pd.read_csv('./demographic_data_summary_final.csv')['location']\n",
    "location_df.head(3)\n",
    "\n",
    "# https://medium.com/@jl_ruiz/plot-maps-from-the-us-census-bureau-using-geopandas-and-contextily-in-python-df787647ef77\n",
    "\n",
    "!pip install geopandas\n",
    "\n",
    "import geopandas as gpd\n",
    "\n",
    "path = './tl_2022_us_state/tl_2022_us_state.shp'\n",
    "\n",
    "df_map = gpd.read_file(path)\n",
    "df_map = df_map.to_crs(\"EPSG:4326\")\n",
    "\n",
    "df_map.head(3)\n",
    "\n",
    "stusps_name_dict = {}\n",
    "for i in range(len(df_map['STUSPS'].values)):\n",
    "  stusps_name_dict.update({df_map['STUSPS'].values[i]: df_map['NAME'].values[i]})\n",
    "\n",
    "print(stusps_name_dict)\n",
    "\n",
    "state_dict = {i:0 for i in df_map.NAME.values}\n",
    "for i in location_df.values:\n",
    "  if i in state_dict.keys():\n",
    "    state_dict[i] += 1\n",
    "  elif i in stusps_name_dict.keys():\n",
    "    state_dict[stusps_name_dict[i]] += 1\n",
    "\n",
    "\n",
    "print(state_dict)\n",
    "print(np.sum(list(state_dict.values()))) # all participants come from 49 US mainland\n",
    "\n",
    "state_lst = [[k, v] for k, v in state_dict.items()]\n",
    "state_df = pd.DataFrame(state_lst, columns=['State', 'Count'])\n",
    "state_df.to_csv('./state_count_final.csv', index=None)"
   ]
  }
 ],
 "metadata": {
  "colab": {
   "authorship_tag": "ABX9TyNUYrkTbM+3nh3cyvyFTzmR",
   "provenance": [],
   "toc_visible": true
  },
  "kernelspec": {
   "display_name": "Python 3 (ipykernel)",
   "language": "python",
   "name": "python3"
  },
  "language_info": {
   "codemirror_mode": {
    "name": "ipython",
    "version": 3
   },
   "file_extension": ".py",
   "mimetype": "text/x-python",
   "name": "python",
   "nbconvert_exporter": "python",
   "pygments_lexer": "ipython3",
   "version": "3.10.6"
  }
 },
 "nbformat": 4,
 "nbformat_minor": 1
}
