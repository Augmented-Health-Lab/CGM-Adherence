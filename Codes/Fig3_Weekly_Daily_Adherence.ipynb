{
 "cells": [
  {
   "cell_type": "code",
   "execution_count": null,
   "id": "24472eb0",
   "metadata": {
    "colab": {
     "base_uri": "https://localhost:8080/"
    },
    "executionInfo": {
     "elapsed": 25511,
     "status": "ok",
     "timestamp": 1716842866614,
     "user": {
      "displayName": "Yanjun Cui",
      "userId": "10928157657240567222"
     },
     "user_tz": 240
    },
    "id": "sJDd8oXk0iM2",
    "outputId": "bbaee613-2fe9-49b9-8b9c-29fe71668af6",
    "scrolled": true
   },
   "outputs": [],
   "source": [
    "from google.colab import drive\n",
    "drive.mount('/content/drive')"
   ]
  },
  {
   "cell_type": "code",
   "execution_count": null,
   "id": "766ee506",
   "metadata": {
    "executionInfo": {
     "elapsed": 532,
     "status": "ok",
     "timestamp": 1716842867144,
     "user": {
      "displayName": "Yanjun Cui",
      "userId": "10928157657240567222"
     },
     "user_tz": 240
    },
    "id": "rhX8B7So00_A"
   },
   "outputs": [],
   "source": [
    "import pandas as pd\n",
    "import numpy as np\n",
    "import csv\n",
    "import os\n",
    "from datetime import date, timedelta, datetime\n",
    "import matplotlib.pyplot as plt\n",
    "import matplotlib.dates as mdates"
   ]
  },
  {
   "cell_type": "markdown",
   "id": "06c209fc",
   "metadata": {},
   "source": [
    "# Weekly"
   ]
  },
  {
   "cell_type": "markdown",
   "id": "67acc4b7",
   "metadata": {
    "id": "lsIwok7LeYsz"
   },
   "source": [
    "## Each day of the week (fig 3A)"
   ]
  },
  {
   "cell_type": "code",
   "execution_count": null,
   "id": "1d5af000",
   "metadata": {
    "id": "a5S2VTLhknnP"
   },
   "outputs": [],
   "source": [
    "record_dir = './cgm_count_by_day/'"
   ]
  },
  {
   "cell_type": "code",
   "execution_count": null,
   "id": "0c753f68",
   "metadata": {
    "colab": {
     "base_uri": "https://localhost:8080/"
    },
    "executionInfo": {
     "elapsed": 1357,
     "status": "ok",
     "timestamp": 1715619434610,
     "user": {
      "displayName": "Yanjun Cui",
      "userId": "10928157657240567222"
     },
     "user_tz": 240
    },
    "id": "Z8XmzwMvhYgA",
    "outputId": "b3515ad0-0da1-4a7b-87f6-87b5b202bbf9"
   },
   "outputs": [],
   "source": [
    "nums = 0\n",
    "for filename in os.listdir(record_dir):\n",
    "  if filename[-4:] == '.csv':\n",
    "    nums += 1\n",
    "print(nums)"
   ]
  },
  {
   "cell_type": "code",
   "execution_count": null,
   "id": "14ede3ef",
   "metadata": {
    "id": "Ebmx3OnFNRx0"
   },
   "outputs": [],
   "source": [
    "week_summary_normalized = []\n",
    "\n",
    "for filename in os.listdir(record_dir):\n",
    "  if filename[-4:] == '.csv':\n",
    "    df = pd.read_csv(record_dir + filename)\n",
    "    date_lst = [i.split(' ')[0] for i in df['displayTime'].values]\n",
    "\n",
    "    df['Weekday'] = [datetime.strptime(i, '%Y-%m-%d').weekday()  for i in date_lst]\n",
    "    # https://pythontic.com/datetime/date/weekday\n",
    "    # 0 - Monday, 1 - Tuesday, ... , 6 - Sunday\n",
    "\n",
    "    week_dict = {i:[] for i in range(7)}\n",
    "    for i in df.values:\n",
    "      if i[3] > 288:\n",
    "        week_dict[i[5]].append(1)\n",
    "      else:\n",
    "        week_dict[i[5]].append(i[3] / 288)\n",
    "    # print(week_dict)\n",
    "\n",
    "    weekday_avg = [np.mean(v) for _, v in week_dict.items()]\n",
    "    # print(weekday_avg)\n",
    "    overall = [] # avg adherence ratio of all days\n",
    "    for i in week_dict.values():\n",
    "      overall += i\n",
    "    all_avg = np.mean(overall)\n",
    "    # print(len(overall))\n",
    "    normalized_avg = [(i - all_avg) / all_avg for i in weekday_avg]\n",
    "    week_summary_normalized.append([filename[:-4]] + normalized_avg)\n",
    "    # print(week_summary)\n",
    "    # break"
   ]
  },
  {
   "cell_type": "code",
   "execution_count": null,
   "id": "4a937db7",
   "metadata": {
    "id": "5VdRr2XUNqBA"
   },
   "outputs": [],
   "source": [
    "df_week = pd.DataFrame(week_summary_normalized, columns = ['ID', 'Mon', 'Tue', 'Wed', 'Thurs', 'Fri', 'Sat', 'Sun'])\n",
    "df_week.to_csv('./weekday_summary_normalized.csv', index=False)"
   ]
  },
  {
   "cell_type": "code",
   "execution_count": null,
   "id": "c85bfd35",
   "metadata": {
    "id": "5ta2L_FFb335"
   },
   "outputs": [],
   "source": [
    "week_summary_normalized = pd.read_csv('./weekday_summary_normalized.csv')\n",
    "week_summary_arr = np.array(week_summary_normalized)\n",
    "week_mean = [np.mean(week_summary_arr[:, i].astype('float64')) for i in range(1, 8)]\n",
    "week_std = [np.std(week_summary_arr[:, i].astype('float64')) for i in range(1, 8)]"
   ]
  },
  {
   "cell_type": "code",
   "execution_count": null,
   "id": "77d84dae",
   "metadata": {
    "colab": {
     "base_uri": "https://localhost:8080/",
     "height": 379
    },
    "executionInfo": {
     "elapsed": 1570,
     "status": "ok",
     "timestamp": 1707254499858,
     "user": {
      "displayName": "Yanjun Cui",
      "userId": "10928157657240567222"
     },
     "user_tz": 300
    },
    "id": "JBmBDncxedpT",
    "outputId": "0a25d88f-b174-4c63-97e9-4021a27494d0",
    "scrolled": false
   },
   "outputs": [],
   "source": [
    "fig, ax = plt.subplots()\n",
    "fig.set_size_inches(10, 4)\n",
    "label = ['Mon', 'Tue', 'Wed', 'Thu', 'Fri', 'Sat', 'Sun']\n",
    "week_mean_percentage = [i * 100 for i in week_mean]\n",
    "\n",
    "ax.set_axisbelow(True)\n",
    "ax.yaxis.grid(color='gray', alpha= .2)\n",
    "\n",
    "col = []\n",
    "for val in week_mean_percentage:\n",
    "  if val >= 0:\n",
    "    col.append('#06D6A0')\n",
    "  else:\n",
    "    col.append('#FFD166')\n",
    "\n",
    "plt.bar(label, week_mean_percentage, color=col)\n",
    "for i, v in enumerate(week_mean_percentage):\n",
    "  if v >= 0:\n",
    "    plt.text(i, v , str(round(v, 2)), ha='center', va='bottom', fontsize=12)\n",
    "  else:\n",
    "    plt.text(i, v - .17, str(round(v, 2)), ha='center', va='bottom', fontsize=12)\n",
    "\n",
    "ax.axhline(y = 0, c='gray')\n",
    "ax.yaxis.grid(color='gray', alpha= .2)\n",
    "ax.set_zorder(0)\n",
    "\n",
    "plt.yticks(np.arange(-1.5, 2., step=.5), fontsize = 12)\n",
    "plt.xticks(fontsize = 12)\n",
    "plt.ylabel('Change in Adherence Trends (%)', fontsize = 14)\n",
    "\n",
    "plt.savefig(\"./figures/adherence_weekday.png\", bbox_inches='tight')\n",
    "plt.savefig('./final_figures/fig3/adherence_weekday.png',bbox_inches='tight')\n",
    "plt.savefig('./final_figures/fig3/adherence_weekday.pdf',bbox_inches='tight')\n",
    "\n",
    "plt.show()"
   ]
  },
  {
   "cell_type": "markdown",
   "id": "dc33ffb2",
   "metadata": {
    "id": "heWOGeIPqNOG"
   },
   "source": [
    "## Weekdays / Weekends combine (fig 3B)"
   ]
  },
  {
   "cell_type": "code",
   "execution_count": null,
   "id": "beec30b2",
   "metadata": {
    "id": "_0lBILi0skCp"
   },
   "outputs": [],
   "source": [
    "record_dir = './cgm_count_by_day/'\n",
    "# week_summary_normalized = []\n",
    "high_low_normalized = []\n",
    "Mon_Thu_lst, Fri_Sun_lst = [], []\n",
    "\n",
    "for filename in os.listdir(record_dir):\n",
    "  if filename[-4:] == '.csv':\n",
    "    df = pd.read_csv(record_dir + filename)\n",
    "    date_lst = [i.split(' ')[0] for i in df['displayTime'].values]\n",
    "\n",
    "    df['Weekday'] = [datetime.strptime(i, '%Y-%m-%d').weekday()  for i in date_lst]\n",
    "    # https://pythontic.com/datetime/date/weekday\n",
    "    # 0 - Monday, 1 - Tuesday, ... , 6 - Sunday\n",
    "\n",
    "    week_dict = {i:[] for i in range(7)}\n",
    "    for i in df.values:\n",
    "      if i[3] > 288:\n",
    "        week_dict[i[5]].append(1)\n",
    "      else:\n",
    "        week_dict[i[5]].append(i[3] / 288)\n",
    "    # print(week_dict)\n",
    "\n",
    "    # Mon - Thu, Fri - Sun\n",
    "    high_lst, low_lst = [], []\n",
    "    for k,v in week_dict.items():\n",
    "      if k <= 3:\n",
    "        high_lst += v\n",
    "      else:\n",
    "        low_lst += v\n",
    "    high_avg, low_avg = np.mean(high_lst), np.mean(low_lst)\n",
    "    Mon_Thu_lst.append(high_avg)\n",
    "    Fri_Sun_lst.append(low_avg)\n",
    "    all_avg = np.mean(high_lst + low_lst) # avg of all day's adherence ratio\n",
    "    # print(len(overall))\n",
    "    normalized_avg = [(i - all_avg) / all_avg for i in [high_avg, low_avg]]\n",
    "    high_low_normalized.append([filename[:-4]] + normalized_avg)\n",
    "    # print(week_summary)"
   ]
  },
  {
   "cell_type": "code",
   "execution_count": null,
   "id": "ac8b1118",
   "metadata": {
    "colab": {
     "base_uri": "https://localhost:8080/"
    },
    "executionInfo": {
     "elapsed": 7,
     "status": "ok",
     "timestamp": 1715713118578,
     "user": {
      "displayName": "Yanjun Cui",
      "userId": "10928157657240567222"
     },
     "user_tz": 240
    },
    "id": "-eWEWIdvsUCi",
    "outputId": "9df32cf0-abb1-4e6f-ac3d-36aadc0192d1",
    "scrolled": true
   },
   "outputs": [],
   "source": [
    "high_low_arr = np.array(high_low_normalized)\n",
    "high_low_mean = [np.mean(high_low_arr[:, i].astype('float64')) * 100 for i in range(1, 3)]\n",
    "print(high_low_mean)\n",
    "\n",
    "high_low_std = [np.std(high_low_arr[:, i].astype('float64')) * 100 for i in range(1, 3)]\n",
    "print(high_low_std)"
   ]
  },
  {
   "cell_type": "code",
   "execution_count": null,
   "id": "8ef46f2b",
   "metadata": {
    "colab": {
     "base_uri": "https://localhost:8080/",
     "height": 379
    },
    "executionInfo": {
     "elapsed": 1049,
     "status": "ok",
     "timestamp": 1707254518721,
     "user": {
      "displayName": "Yanjun Cui",
      "userId": "10928157657240567222"
     },
     "user_tz": 300
    },
    "id": "HTrnJks8edsw",
    "outputId": "f2325029-9009-42d0-c964-7e516702b7ec"
   },
   "outputs": [],
   "source": [
    "fig, ax = plt.subplots()\n",
    "fig.set_size_inches(3, 4)\n",
    "ax.set_axisbelow(True)\n",
    "ax.yaxis.grid(color='gray', alpha= .2)\n",
    "\n",
    "label = ['Mon-Thu', 'Fri-Sun']\n",
    "high_low_per = [i * 100 for i in high_low_mean]\n",
    "\n",
    "col = []\n",
    "for val in low_high_per:\n",
    "  if val >= 0:\n",
    "    col.append('#06D6A0')\n",
    "  else:\n",
    "    col.append('#FFD166')\n",
    "\n",
    "plt.bar(label, high_low_per, color=col)\n",
    "for i, v in enumerate(high_low_per):\n",
    "  if v >= 0:\n",
    "    plt.text(i, v + .001, str(round(v, 2)), ha='center', va='bottom', fontsize=12)\n",
    "  else:\n",
    "    plt.text(i, v - .09, str(round(v, 2)), ha='center', va='bottom', fontsize=12)\n",
    "\n",
    "ax.axhline(y = 0, c='gray')\n",
    "plt.yticks(np.arange(-.7, .9, step=.2), fontsize=12)\n",
    "plt.xticks(fontsize=12)\n",
    "plt.ylabel('Change in Adherence Trends (%)', fontsize = 14)\n",
    "\n",
    "plt.savefig(\"./figures/adherence_weekday_group.png\",bbox_inches='tight')\n",
    "plt.savefig('./final_figures/fig3/adherence_weekday_group.png',bbox_inches='tight')\n",
    "plt.savefig('./final_figures/fig3/adherence_weekday_group.pdf',bbox_inches='tight')\n",
    "\n",
    "plt.show()"
   ]
  },
  {
   "cell_type": "markdown",
   "id": "bac1e53b",
   "metadata": {
    "id": "4bELX7e6ZLMf"
   },
   "source": [
    "## Paired T-test"
   ]
  },
  {
   "cell_type": "code",
   "execution_count": null,
   "id": "8456788a",
   "metadata": {
    "colab": {
     "base_uri": "https://localhost:8080/"
    },
    "executionInfo": {
     "elapsed": 169,
     "status": "ok",
     "timestamp": 1715713262559,
     "user": {
      "displayName": "Yanjun Cui",
      "userId": "10928157657240567222"
     },
     "user_tz": 240
    },
    "id": "81R6iM1dnCyJ",
    "outputId": "2740348b-9d57-4da6-f7bc-394ddfaf685c"
   },
   "outputs": [],
   "source": [
    "# paired t-test\n",
    "\n",
    "from scipy.stats import ttest_rel\n",
    "\n",
    "low_adh = high_low_arr[:, 2]\n",
    "high_adh = high_low_arr[:, 1]\n",
    "\n",
    "ttest_rel([float(i) for i in low_adh], [float(i) for i in high_adh])"
   ]
  },
  {
   "cell_type": "markdown",
   "id": "a158e6f8",
   "metadata": {
    "id": "YSuTp42Hy8d2"
   },
   "source": [
    "# Daily adherence "
   ]
  },
  {
   "cell_type": "markdown",
   "id": "a1738e49",
   "metadata": {},
   "source": [
    "## Hourly Bar plot (fig 3C)"
   ]
  },
  {
   "cell_type": "code",
   "execution_count": null,
   "id": "21cc1bfa",
   "metadata": {
    "id": "JHZDSl5s2qqD"
   },
   "outputs": [],
   "source": [
    "hour_root = './cgm_count_by_hour/'\n",
    "day_root = './cgm_count_by_day/'\n",
    "df_summary = pd.read_csv('./CGM_summary.csv')\n",
    "users = df_summary.Subject.values"
   ]
  },
  {
   "cell_type": "code",
   "execution_count": null,
   "id": "7e9e8592",
   "metadata": {
    "id": "8J262KbK2qqE"
   },
   "outputs": [],
   "source": [
    "# hour_dict = {k:[] for k in np.arange(0, 24, 1)}\n",
    "hour_adh_dict = {k:[] for k in np.arange(0, 24, 1)}\n",
    "\n",
    "for i in users:\n",
    "  day_df = pd.read_csv(day_root + i + '.csv')\n",
    "  hour_df = pd.read_csv(hour_root + i + '.csv')\n",
    "  hour_df['Date'] = [i.split(' ')[0] for i in hour_df.displayTime.values]\n",
    "\n",
    "  # only use the days that have cgm records\n",
    "  non_empty_date = []\n",
    "  for i in day_df.values:\n",
    "    if i[3] != 0:\n",
    "      non_empty_date.append(i[0].split(' ')[0])\n",
    "\n",
    "  cur_hour_dict = {k:[] for k in np.arange(0, 24, 1)}\n",
    "  for i in non_empty_date:\n",
    "    cur_hour_df = hour_df[hour_df['Date'] == i]\n",
    "    for j in cur_hour_df.values:\n",
    "      if j[1] <= 12:\n",
    "        cur_hour_dict[j[3]].append(j[1] / 12)\n",
    "      else:\n",
    "        cur_hour_dict[j[3]].append(1)\n",
    "\n",
    "  for k,v in hour_adh_dict.items():\n",
    "    # avg adherence of each subject\n",
    "    hour_adh_dict[k].append(np.mean(cur_hour_dict[k]))\n",
    "\n",
    "  # break"
   ]
  },
  {
   "cell_type": "code",
   "execution_count": null,
   "id": "2c4df6e7",
   "metadata": {
    "colab": {
     "base_uri": "https://localhost:8080/"
    },
    "executionInfo": {
     "elapsed": 12,
     "status": "ok",
     "timestamp": 1707253537463,
     "user": {
      "displayName": "Yanjun Cui",
      "userId": "10928157657240567222"
     },
     "user_tz": 300
    },
    "id": "GDcOH16BbYbf",
    "outputId": "99f8d9cd-5522-417c-c5e1-78485165ee2e"
   },
   "outputs": [],
   "source": [
    "hour_adh_mean = [np.mean(v) for k,v in hour_adh_dict.items()]\n",
    "avg = np.mean(hour_adh_mean)\n",
    "hour_mean = [(i - avg) / avg for i in hour_adh_mean]\n",
    "print(hour_mean) # changed percentage\n",
    "print(avg)"
   ]
  },
  {
   "cell_type": "code",
   "execution_count": null,
   "id": "694642a3",
   "metadata": {
    "colab": {
     "base_uri": "https://localhost:8080/",
     "height": 315
    },
    "executionInfo": {
     "elapsed": 2620,
     "status": "ok",
     "timestamp": 1707254480998,
     "user": {
      "displayName": "Yanjun Cui",
      "userId": "10928157657240567222"
     },
     "user_tz": 300
    },
    "id": "v0tLHdF4ewEA",
    "outputId": "c257143c-6d56-46fb-ad79-d8b316318a36"
   },
   "outputs": [],
   "source": [
    "fig, ax = plt.subplots()\n",
    "fig.set_size_inches(15, 4)\n",
    "\n",
    "label =[\"%d%s\" % (n % 12 or 12, [\"AM\", \"PM\"][n > 11]) for n in range(24)]\n",
    "hour_mean_percentage = [i * 100 for i in hour_mean]\n",
    "\n",
    "col = []\n",
    "for val in hour_mean_percentage:\n",
    "  if val >= 0:\n",
    "    col.append('#06D6A0')\n",
    "  else:\n",
    "    col.append('#FFD166')\n",
    "\n",
    "ax.set_axisbelow(True)\n",
    "ax.yaxis.grid(color='gray', alpha= .2)\n",
    "\n",
    "ax.bar(label, hour_mean_percentage, color=col)\n",
    "for i, v in enumerate(hour_mean_percentage):\n",
    "  if v >= 0:\n",
    "    plt.text(i, v + .01, str(round(v, 2)), ha='center', va='bottom', fontsize=11)\n",
    "  else:\n",
    "    plt.text(i, v - .17, str(round(v, 2)), ha='center', va='bottom', fontsize=11)\n",
    "\n",
    "ax.axhline(y = 0, c='gray')\n",
    "\n",
    "plt.yticks(np.arange(-1.5, 1.5, step=.5), fontsize=12)\n",
    "plt.xticks(fontsize=11)\n",
    "plt.ylabel('Change in Adherence Trends (%)', fontsize = 14)\n",
    "\n",
    "plt.savefig(\"./figures/hourly_adherence/hourly_adherence_all.png\", bbox_inches='tight')\n",
    "plt.savefig('./final_figures/fig3/hourly_adherence.png',bbox_inches='tight')\n",
    "plt.savefig('./final_figures/fig3/hourly_adherence.pdf',bbox_inches='tight')\n",
    "\n",
    "plt.show()"
   ]
  },
  {
   "cell_type": "markdown",
   "id": "6f4cb209",
   "metadata": {
    "id": "xDpLOGAO2I9L"
   },
   "source": [
    "## Daytime/ Nighttime combine (fig 3D)\n",
    "* high: 6am - 6pm, low: 7pm - 5am\n"
   ]
  },
  {
   "cell_type": "code",
   "execution_count": null,
   "id": "e20c33f6",
   "metadata": {
    "id": "9wjfZ6bl2MeG"
   },
   "outputs": [],
   "source": [
    "hour_root = './cgm_count_by_hour/'\n",
    "day_root = './cgm_count_by_day/'\n",
    "df_summary = pd.read_csv('./CGM_summary.csv')\n",
    "users = df_summary.Subject.values"
   ]
  },
  {
   "cell_type": "code",
   "execution_count": null,
   "id": "10a3dbb1",
   "metadata": {
    "id": "eKJjVjk_Z-pk"
   },
   "outputs": [],
   "source": [
    "hour_adh_dict = {k:[] for k in np.arange(0, 24, 1)}\n",
    "\n",
    "for i in users:\n",
    "  day_df = pd.read_csv(day_root + i + '.csv')\n",
    "  hour_df = pd.read_csv(hour_root + i + '.csv')\n",
    "  hour_df['Date'] = [i.split(' ')[0] for i in hour_df.displayTime.values]\n",
    "\n",
    "  # only use the days that have cgm records\n",
    "  non_empty_date = []\n",
    "  for i in day_df.values:\n",
    "    if i[3] != 0:\n",
    "      non_empty_date.append(i[0].split(' ')[0])\n",
    "\n",
    "  cur_hour_dict = {k:[] for k in np.arange(0, 24, 1)}\n",
    "  for i in non_empty_date:\n",
    "    cur_hour_df = hour_df[hour_df['Date'] == i]\n",
    "    for j in cur_hour_df.values:\n",
    "      if j[1] <= 12:\n",
    "        cur_hour_dict[j[3]].append(j[1] / 12)\n",
    "      else:\n",
    "        cur_hour_dict[j[3]].append(1)\n",
    "\n",
    "  for k,v in hour_adh_dict.items():\n",
    "    # hour_dict[k].append((np.mean(cur_hour_dict[k]) - sum_mean) / sum_mean)\n",
    "    hour_adh_dict[k].append(np.mean(cur_hour_dict[k]))\n",
    "\n",
    "  # break"
   ]
  },
  {
   "cell_type": "code",
   "execution_count": null,
   "id": "64b87b51",
   "metadata": {
    "id": "XuRy70CCcDvI"
   },
   "outputs": [],
   "source": [
    "hour_adh_mean = [np.mean(v) for k,v in hour_adh_dict.items()]\n",
    "avg = np.mean(hour_adh_mean)"
   ]
  },
  {
   "cell_type": "code",
   "execution_count": null,
   "id": "b258d6d4",
   "metadata": {
    "colab": {
     "base_uri": "https://localhost:8080/"
    },
    "executionInfo": {
     "elapsed": 5,
     "status": "ok",
     "timestamp": 1715626238402,
     "user": {
      "displayName": "Yanjun Cui",
      "userId": "10928157657240567222"
     },
     "user_tz": 240
    },
    "id": "2aOu3ZcobF83",
    "outputId": "91810ca7-4f96-4881-95dd-675d113bbeff",
    "scrolled": true
   },
   "outputs": [],
   "source": [
    "low_adh, high_adh = [], []\n",
    "low_adh_val, high_adh_val = [], []\n",
    "\n",
    "for i in range(len(hour_adh_dict[0])):\n",
    "  cur_low, cur_high = [], []\n",
    "  for k,v in hour_adh_dict.items():\n",
    "    if k <= 5 or k >= 19:\n",
    "      cur_low.append(v[i])\n",
    "    else:\n",
    "      cur_high.append(v[i])\n",
    "\n",
    "  # normalized_avg\n",
    "  low_adh.append((np.mean(cur_low) - avg) / avg)\n",
    "  high_adh.append((np.mean(cur_high) - avg) / avg)\n",
    "\n",
    "  low_adh_val.append(np.mean(cur_low))\n",
    "  high_adh_val.append(np.mean(cur_high))\n",
    "\n",
    "# print(low_adh, '\\n', high_adh, '\\n', len(low_adh))"
   ]
  },
  {
   "cell_type": "code",
   "execution_count": null,
   "id": "1aec6247",
   "metadata": {
    "colab": {
     "base_uri": "https://localhost:8080/"
    },
    "executionInfo": {
     "elapsed": 232,
     "status": "ok",
     "timestamp": 1715626329570,
     "user": {
      "displayName": "Yanjun Cui",
      "userId": "10928157657240567222"
     },
     "user_tz": 240
    },
    "id": "KqPjthxZQ-Mj",
    "outputId": "6539c460-5b80-4b22-d2cf-11f9073a2ad6"
   },
   "outputs": [],
   "source": [
    "print(np.mean(high_adh) * 100 , np.mean(low_adh)* 100)\n",
    "print(np.std(high_adh)* 100, np.std(low_adh)* 100)"
   ]
  },
  {
   "cell_type": "code",
   "execution_count": null,
   "id": "cb838ee1",
   "metadata": {
    "colab": {
     "base_uri": "https://localhost:8080/",
     "height": 379
    },
    "executionInfo": {
     "elapsed": 364,
     "status": "ok",
     "timestamp": 1712778706790,
     "user": {
      "displayName": "Yanjun Cui",
      "userId": "10928157657240567222"
     },
     "user_tz": 240
    },
    "id": "38bW6uJf2NX-",
    "outputId": "26fc3308-5afe-4b60-b004-bc0228f0d031",
    "scrolled": true
   },
   "outputs": [],
   "source": [
    "fig, ax = plt.subplots()\n",
    "fig.set_size_inches(3, 4)\n",
    "ax.set_axisbelow(True)\n",
    "ax.yaxis.grid(color='gray', alpha= .2)\n",
    "\n",
    "label = ['6AM-6PM', '7PM-5AM']\n",
    "low_high_per = [i * 100 for i in [np.mean(high_adh), np.mean(low_adh)]]\n",
    "\n",
    "col = []\n",
    "for val in low_high_per:\n",
    "  if val >= 0:\n",
    "    col.append('#06D6A0')\n",
    "  else:\n",
    "    col.append('#FFD166')\n",
    "\n",
    "plt.bar(label, low_high_per, color=col)\n",
    "for i, v in enumerate(low_high_per):\n",
    "  if v >= 0:\n",
    "    plt.text(i, v + .001, str(round(v, 2)), ha='center', va='bottom', fontsize=12)\n",
    "  else:\n",
    "    plt.text(i, v - .09, str(round(v, 2)), ha='center', va='bottom', fontsize=12)\n",
    "\n",
    "ax.axhline(y = 0, c='gray')\n",
    "plt.yticks(np.arange(-.7, .9, step=.2), fontsize=12)\n",
    "plt.xticks(fontsize=12)\n",
    "plt.ylabel('Change in Adherence Trends (%)', fontsize = 14)\n",
    "\n",
    "plt.savefig(\"./figures/adherence_daily_group.png\",bbox_inches='tight')\n",
    "plt.show()"
   ]
  },
  {
   "cell_type": "markdown",
   "id": "ad5e59b2",
   "metadata": {
    "id": "ZFiOlXM12NnF"
   },
   "source": [
    "## paired t-Test"
   ]
  },
  {
   "cell_type": "code",
   "execution_count": null,
   "id": "f6857ac5",
   "metadata": {
    "colab": {
     "base_uri": "https://localhost:8080/"
    },
    "executionInfo": {
     "elapsed": 341,
     "status": "ok",
     "timestamp": 1715626338347,
     "user": {
      "displayName": "Yanjun Cui",
      "userId": "10928157657240567222"
     },
     "user_tz": 240
    },
    "id": "4fiqU7qZkfVT",
    "outputId": "344220db-6f9b-4f15-cb4e-d15196b11fa6"
   },
   "outputs": [],
   "source": [
    "# https://docs.scipy.org/doc/scipy/reference/generated/scipy.stats.ttest_rel.html\n",
    "# https://www.jmp.com/en_us/statistics-knowledge-portal/t-test/paired-t-test.html\n",
    "\n",
    "from scipy.stats import ttest_rel\n",
    "ttest_rel(high_adh, low_adh)"
   ]
  }
 ],
 "metadata": {
  "kernelspec": {
   "display_name": "Python 3 (ipykernel)",
   "language": "python",
   "name": "python3"
  },
  "language_info": {
   "codemirror_mode": {
    "name": "ipython",
    "version": 3
   },
   "file_extension": ".py",
   "mimetype": "text/x-python",
   "name": "python",
   "nbconvert_exporter": "python",
   "pygments_lexer": "ipython3",
   "version": "3.10.6"
  }
 },
 "nbformat": 4,
 "nbformat_minor": 5
}
