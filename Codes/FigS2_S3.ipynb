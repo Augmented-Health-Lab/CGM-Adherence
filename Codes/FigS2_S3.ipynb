{
 "cells": [
  {
   "cell_type": "code",
   "execution_count": null,
   "id": "a532ddf6",
   "metadata": {
    "colab": {
     "base_uri": "https://localhost:8080/"
    },
    "executionInfo": {
     "elapsed": 25511,
     "status": "ok",
     "timestamp": 1716842866614,
     "user": {
      "displayName": "Yanjun Cui",
      "userId": "10928157657240567222"
     },
     "user_tz": 240
    },
    "id": "sJDd8oXk0iM2",
    "outputId": "bbaee613-2fe9-49b9-8b9c-29fe71668af6",
    "scrolled": false
   },
   "outputs": [],
   "source": [
    "from google.colab import drive\n",
    "drive.mount('/content/drive')"
   ]
  },
  {
   "cell_type": "code",
   "execution_count": null,
   "id": "de6c3188",
   "metadata": {
    "executionInfo": {
     "elapsed": 532,
     "status": "ok",
     "timestamp": 1716842867144,
     "user": {
      "displayName": "Yanjun Cui",
      "userId": "10928157657240567222"
     },
     "user_tz": 240
    },
    "id": "rhX8B7So00_A"
   },
   "outputs": [],
   "source": [
    "import pandas as pd\n",
    "import numpy as np\n",
    "import csv\n",
    "import os\n",
    "from datetime import date, timedelta, datetime\n",
    "import matplotlib.pyplot as plt\n",
    "import matplotlib.dates as mdates"
   ]
  },
  {
   "cell_type": "markdown",
   "id": "0f6e3c79",
   "metadata": {
    "id": "XHB-OnU7ES6X"
   },
   "source": [
    "# Supplementary figures"
   ]
  },
  {
   "cell_type": "markdown",
   "id": "a0816498",
   "metadata": {
    "id": "OGi53MAOlcrp"
   },
   "source": [
    "## Individuals' CGM summary (FigS2)"
   ]
  },
  {
   "cell_type": "code",
   "execution_count": null,
   "id": "a46cf63b",
   "metadata": {
    "id": "GEb2Pgg0N0Aw"
   },
   "outputs": [],
   "source": [
    "from datetime import date, timedelta, datetime\n",
    "import matplotlib.pyplot as plt\n",
    "import matplotlib.patches as mpatches\n",
    "import matplotlib.dates as mdates"
   ]
  },
  {
   "cell_type": "code",
   "execution_count": null,
   "id": "2dd731c2",
   "metadata": {
    "id": "PABSIKkEEvQo"
   },
   "outputs": [],
   "source": [
    "individual_root = './cgm_count_by_day/'"
   ]
  },
  {
   "cell_type": "code",
   "execution_count": null,
   "id": "cfaaffcc",
   "metadata": {
    "id": "ItDHUAetoJyD"
   },
   "outputs": [],
   "source": [
    "def get_valid_list(filename):\n",
    "    # key = id_key_dict[filename[:-4]]\n",
    "    df = pd.read_csv(individual_root + filename)\n",
    "    date_list = df['displayTime'].values.tolist()\n",
    "\n",
    "    count_lst = list(df['Count'].values)\n",
    "    start = datetime.strptime(date_list[0].split(' ')[0], '%Y-%m-%d').date()\n",
    "    end = datetime.strptime(date_list[-1].split(' ')[0], '%Y-%m-%d').date()\n",
    "    date_range = {start + timedelta(i): 0 for i in range((end - start).days + 1)}\n",
    "    # print(count_lst)\n",
    "\n",
    "    for i in range(len(date_list)):\n",
    "      cur_date = datetime.strptime(date_list[i].split(' ')[0], '%Y-%m-%d').date()\n",
    "      if count_lst[i] >= 202:\n",
    "        date_range[cur_date] = 2\n",
    "      elif count_lst[i] > 0 and count_lst[i] < 202:\n",
    "        date_range[cur_date] = 1\n",
    "      else:\n",
    "        date_range[cur_date] = 0\n",
    "\n",
    "    return list(date_range.values())\n",
    "  # break"
   ]
  },
  {
   "cell_type": "code",
   "execution_count": null,
   "id": "16edcbd6",
   "metadata": {
    "id": "6DxkrtgFcsXx"
   },
   "outputs": [],
   "source": [
    "from matplotlib import pyplot as plt\n",
    "\n",
    "def stacked_bar_plot(combined_valid_list, subjects):\n",
    "  fig, ax = plt.subplots(figsize=(10, 20))\n",
    "\n",
    "  for j in range(len(combined_valid_list)):\n",
    "    bottom = 0\n",
    "    for i in range(len(combined_valid_list[j])):\n",
    "      if combined_valid_list[j][i] == 0: # no data record\n",
    "        ax.barh(j, 1, left=bottom, color = '#FFD166')\n",
    "      elif combined_valid_list[j][i] == 1: # 0 - 70% data record\n",
    "        ax.barh(j, 1, left=bottom, color = \"#F78C6B\")\n",
    "      if combined_valid_list[j][i] == 2: # > 70% data record\n",
    "        ax.barh(j, 1, left=bottom, color = \"#06D6A0\")\n",
    "      bottom += 1\n",
    "\n",
    "  valid_patch = mpatches.Patch(color=\"#06D6A0\", label='High adherence')\n",
    "  invalid_patch = mpatches.Patch(color=\"#F78C6B\", label='Partial adherence')\n",
    "  norecord_patch = mpatches.Patch(color='#FFD166', label='No adherence')\n",
    "  ax.legend(handles=[valid_patch, invalid_patch, norecord_patch], fontsize = 16, shadow = True)\n",
    "\n",
    "  ax.set_yticks(range(len(subjects)))\n",
    "  ax.set_yticklabels(subjects)\n",
    "\n",
    "  ax.set_ylabel(\"Subjects\", fontsize=14)\n",
    "  ax.set_xlabel(\"# of days\", fontsize=14)\n",
    "\n",
    "  for i in range(500, 2500, 500):\n",
    "    ax.axvline(x = i, c='#073B4C', linestyle='--', alpha = .3)\n",
    "  plt.ylim(-2,108 + 2)\n",
    "\n",
    "  plt.savefig(\"./figures/individual_adherence.png\", bbox_inches='tight')\n",
    "  plt.savefig('./final_figures/supplementary/individual_adherence.png',bbox_inches='tight')\n",
    "  plt.savefig('./final_figures/supplementary/individual_adherence.pdf',bbox_inches='tight')\n",
    "\n",
    "  plt.show()"
   ]
  },
  {
   "cell_type": "code",
   "execution_count": null,
   "id": "cc2aed5e",
   "metadata": {
    "id": "pIA_4oLUQ8lX"
   },
   "outputs": [],
   "source": [
    "df = pd.read_csv('./CGM_summary.csv')\n",
    "\n",
    "id_list = list(df['Key'].values)\n",
    "subjects = list(df['Subject'].values)"
   ]
  },
  {
   "cell_type": "code",
   "execution_count": null,
   "id": "8b4fc23f",
   "metadata": {
    "colab": {
     "base_uri": "https://localhost:8080/",
     "height": 1000
    },
    "executionInfo": {
     "elapsed": 621873,
     "status": "ok",
     "timestamp": 1707252693918,
     "user": {
      "displayName": "Yanjun Cui",
      "userId": "10928157657240567222"
     },
     "user_tz": 300
    },
    "id": "EJMtKF0Q1g5v",
    "outputId": "56feeaab-d187-49b3-9136-cf98c7220d31",
    "scrolled": false
   },
   "outputs": [],
   "source": [
    "combined_valid_list = []\n",
    "\n",
    "for i in range(len(id_list)):\n",
    "    filename = subjects[i] + '.csv'\n",
    "    valid_list = get_valid_list(filename)\n",
    "    # print(valid_list)\n",
    "    combined_valid_list.append(valid_list)\n",
    "\n",
    "# draw plots for three different terms\n",
    "stacked_bar_plot(combined_valid_list, id_list)\n",
    "# break"
   ]
  },
  {
   "cell_type": "markdown",
   "id": "bf71664e",
   "metadata": {
    "id": "_9yZBRbnuiiT"
   },
   "source": [
    "## CGM HIGH adherence days (FigS3)"
   ]
  },
  {
   "cell_type": "code",
   "execution_count": null,
   "id": "208555f5",
   "metadata": {
    "colab": {
     "base_uri": "https://localhost:8080/",
     "height": 206
    },
    "executionInfo": {
     "elapsed": 524,
     "status": "ok",
     "timestamp": 1716843049075,
     "user": {
      "displayName": "Yanjun Cui",
      "userId": "10928157657240567222"
     },
     "user_tz": 240
    },
    "id": "ix8u07Dlrttj",
    "outputId": "cf6fd588-a36e-4b07-a2d6-67b4b4a7c8dd"
   },
   "outputs": [],
   "source": [
    "df = pd.read_csv('./CGM_summary.csv')\n",
    "df.head()"
   ]
  },
  {
   "cell_type": "code",
   "execution_count": null,
   "id": "fcacae16",
   "metadata": {
    "colab": {
     "base_uri": "https://localhost:8080/",
     "height": 206
    },
    "executionInfo": {
     "elapsed": 202,
     "status": "ok",
     "timestamp": 1716843049275,
     "user": {
      "displayName": "Yanjun Cui",
      "userId": "10928157657240567222"
     },
     "user_tz": 240
    },
    "id": "kKnrSx711VJ0",
    "outputId": "f73bc306-54e4-4260-ddea-3949d7b88520"
   },
   "outputs": [],
   "source": [
    "df['ValidRate'] = df.ValidDays / df.Duration * 100\n",
    "valid_df = df[['Subject', 'ValidRate']]\n",
    "valid_df.head()"
   ]
  },
  {
   "cell_type": "code",
   "execution_count": null,
   "id": "c136e4bc",
   "metadata": {
    "colab": {
     "base_uri": "https://localhost:8080/"
    },
    "executionInfo": {
     "elapsed": 4,
     "status": "ok",
     "timestamp": 1716843049599,
     "user": {
      "displayName": "Yanjun Cui",
      "userId": "10928157657240567222"
     },
     "user_tz": 240
    },
    "id": "EpSSzc0C2DiY",
    "outputId": "e48f419a-9c27-45e5-8122-bf1e11c9dea8"
   },
   "outputs": [],
   "source": [
    "valid_dict = {valid_df.Subject.values[i]:valid_df.ValidRate.values[i] for i in range(len(valid_df.Subject.values))}\n",
    "valid_dict = dict(sorted(valid_dict.items(), key=lambda item: item[1]))"
   ]
  },
  {
   "cell_type": "code",
   "execution_count": null,
   "id": "c0a7627b",
   "metadata": {
    "colab": {
     "base_uri": "https://localhost:8080/"
    },
    "executionInfo": {
     "elapsed": 3,
     "status": "ok",
     "timestamp": 1716843050308,
     "user": {
      "displayName": "Yanjun Cui",
      "userId": "10928157657240567222"
     },
     "user_tz": 240
    },
    "id": "Ute0UDvDMLwd",
    "outputId": "e369c538-f51a-440c-99f6-fe936d4ab5ae"
   },
   "outputs": [],
   "source": [
    "g1 = [i for i in list(valid_dict.values()) if i < 40]\n",
    "g2 = [i for i in list(valid_dict.values()) if i < 70 and i >= 40]\n",
    "g4 = [i for i in list(valid_dict.values()) if i >= 70]\n",
    "print(len(g1), len(g2), len(g4))"
   ]
  },
  {
   "cell_type": "code",
   "execution_count": null,
   "id": "719f7ea6",
   "metadata": {
    "colab": {
     "base_uri": "https://localhost:8080/",
     "height": 393
    },
    "executionInfo": {
     "elapsed": 7890,
     "status": "ok",
     "timestamp": 1716843059058,
     "user": {
      "displayName": "Yanjun Cui",
      "userId": "10928157657240567222"
     },
     "user_tz": 240
    },
    "id": "xe2nhBAU2i_X",
    "outputId": "8227f9c9-f6aa-49c1-f14e-008aae83a511",
    "scrolled": false
   },
   "outputs": [],
   "source": [
    "import seaborn as sns\n",
    "\n",
    "fig = plt.figure(figsize=(6, 4))\n",
    "bins = np.arange(0, 105, 5)\n",
    "\n",
    "sns.histplot(g1, color = '#EF476F', edgecolor = '#EF476F', alpha = 0.2, bins=bins[:9], label='<40% of days w/ high adherence (n='+str(len(g1))+')')\n",
    "sns.histplot(g2, color = '#F78C6B', edgecolor = '#F78C6B', alpha = 0.2, bins=bins[8:15], label='40-70% of days w/ high adherence (n='+str(len(g2))+')')\n",
    "# sns.histplot(g3, kde=True, color = '#06D6A0', edgecolor = '#06D6A0', alpha = 0.05, binwidth = 2, label='50-70% of days with high adherence(n='+str(len(g3))+')')\n",
    "sns.histplot(g4, color = '#118AB2', edgecolor = '#118AB2', alpha = 0.2, bins=bins[14:21], label='>70% of days w/ high adherence (n='+str(len(g4))+')')\n",
    "\n",
    "\n",
    "plt.ylabel('Number of Subjects',  fontsize = 14)\n",
    "plt.xlabel('% of days with high CGM adherence / Subject', fontsize = 14)\n",
    "plt.xlim(0, 100)\n",
    "plt.legend(ncol=1)\n",
    "\n",
    "plt.savefig('./figures/highAdh_final.png', bbox_inches='tight')\n",
    "plt.savefig('./final_figures/supplementary/FigS3_CGM_high_adherence.png',bbox_inches='tight')\n",
    "plt.savefig('./final_figures/supplementary/FigS3_CGM_high_adherence.pdf',bbox_inches='tight')\n",
    "\n",
    "plt.show()"
   ]
  },
  {
   "cell_type": "code",
   "execution_count": null,
   "id": "6b29ef5b",
   "metadata": {},
   "outputs": [],
   "source": []
  }
 ],
 "metadata": {
  "kernelspec": {
   "display_name": "Python 3 (ipykernel)",
   "language": "python",
   "name": "python3"
  },
  "language_info": {
   "codemirror_mode": {
    "name": "ipython",
    "version": 3
   },
   "file_extension": ".py",
   "mimetype": "text/x-python",
   "name": "python",
   "nbconvert_exporter": "python",
   "pygments_lexer": "ipython3",
   "version": "3.10.6"
  }
 },
 "nbformat": 4,
 "nbformat_minor": 5
}
