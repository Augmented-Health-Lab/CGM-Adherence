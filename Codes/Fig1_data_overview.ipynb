{
 "cells": [
  {
   "cell_type": "code",
   "execution_count": null,
   "id": "24fefe9b",
   "metadata": {
    "colab": {
     "base_uri": "https://localhost:8080/"
    },
    "executionInfo": {
     "elapsed": 25511,
     "status": "ok",
     "timestamp": 1716842866614,
     "user": {
      "displayName": "Yanjun Cui",
      "userId": "10928157657240567222"
     },
     "user_tz": 240
    },
    "id": "sJDd8oXk0iM2",
    "outputId": "bbaee613-2fe9-49b9-8b9c-29fe71668af6",
    "scrolled": true
   },
   "outputs": [],
   "source": [
    "from google.colab import drive\n",
    "drive.mount('/content/drive')"
   ]
  },
  {
   "cell_type": "code",
   "execution_count": null,
   "id": "89863ae5",
   "metadata": {
    "executionInfo": {
     "elapsed": 532,
     "status": "ok",
     "timestamp": 1716842867144,
     "user": {
      "displayName": "Yanjun Cui",
      "userId": "10928157657240567222"
     },
     "user_tz": 240
    },
    "id": "rhX8B7So00_A"
   },
   "outputs": [],
   "source": [
    "import pandas as pd\n",
    "import numpy as np\n",
    "import csv\n",
    "import os\n",
    "from datetime import date, timedelta, datetime\n",
    "import matplotlib.pyplot as plt\n",
    "import matplotlib.dates as mdates"
   ]
  },
  {
   "cell_type": "markdown",
   "id": "c5ca47b8",
   "metadata": {
    "id": "TEDn8mdzIfVo"
   },
   "source": [
    "# Adherence distribution (fig 1B and 1C)"
   ]
  },
  {
   "cell_type": "code",
   "execution_count": null,
   "id": "2c647dc2",
   "metadata": {
    "id": "qAkhGh4tIfkM"
   },
   "outputs": [],
   "source": [
    "individual_valid_summary = './cgm_count_by_day/'\n",
    "adh_ratio = []\n",
    "for filename in os.listdir(individual_valid_summary):\n",
    "  if filename[-4:] == '.csv':\n",
    "    df = pd.read_csv(individual_valid_summary + filename)\n",
    "    cur_ratio = [i / 288 if i <= 288 else 1 for i in df.Count.values]\n",
    "    adh_ratio += cur_ratio\n",
    "    # break\n",
    "\n",
    "adh_ratio = [i * 100 for i in adh_ratio]"
   ]
  },
  {
   "cell_type": "code",
   "execution_count": null,
   "id": "6cb81ea7",
   "metadata": {
    "colab": {
     "base_uri": "https://localhost:8080/"
    },
    "executionInfo": {
     "elapsed": 3,
     "status": "ok",
     "timestamp": 1706820711577,
     "user": {
      "displayName": "Yanjun Cui",
      "userId": "10928157657240567222"
     },
     "user_tz": 300
    },
    "id": "0vyNJcafddar",
    "outputId": "af1401d6-6d68-4cd0-a376-2ed64412e96f"
   },
   "outputs": [],
   "source": [
    "no_adh = 0\n",
    "partial_adh = 0\n",
    "adh = 0\n",
    "\n",
    "for i in adh_ratio:\n",
    "  if i == 0:\n",
    "    no_adh +=1\n",
    "  elif i >= 70:\n",
    "    adh +=1\n",
    "  else:\n",
    "    partial_adh += 1\n",
    "\n",
    "print(no_adh, partial_adh, adh)\n",
    "print('total days:', no_adh+partial_adh+adh)"
   ]
  },
  {
   "cell_type": "code",
   "execution_count": null,
   "id": "0459fc01",
   "metadata": {
    "id": "FKv2FwDNAXcU"
   },
   "outputs": [],
   "source": [
    "total = no_adh+partial_adh+adh\n",
    "values = {'Total':total, 'High adherence \\n[70%, 100%]':adh, 'Partial adherence \\n(0, 70%)': partial_adh, 'No adherence': no_adh}\n",
    "percentage = {'Total':100, 'High adherence \\n[70%, 100%]':adh/total * 100, 'Partial adherence \\n(0, 70%)': partial_adh/total * 100, 'No adherence': no_adh/total * 100}\n",
    "# percentage"
   ]
  },
  {
   "cell_type": "code",
   "execution_count": null,
   "id": "378cdf7f",
   "metadata": {
    "colab": {
     "base_uri": "https://localhost:8080/",
     "height": 398
    },
    "executionInfo": {
     "elapsed": 1051,
     "status": "ok",
     "timestamp": 1706820822644,
     "user": {
      "displayName": "Yanjun Cui",
      "userId": "10928157657240567222"
     },
     "user_tz": 300
    },
    "id": "1I1ixADrWbo2",
    "outputId": "16643753-cb66-4b34-8c98-9bac1298375b"
   },
   "outputs": [],
   "source": [
    "fig, ax = plt.subplots(figsize=(8, 4))\n",
    "ax.spines['right'].set_color('none')\n",
    "ax.spines['top'].set_color('none')\n",
    "colors= ['#118AB2', '#06D6A0', '#F78C6B', '#FFD166']\n",
    "\n",
    "bar = ax.bar(values.keys(), values.values(), color=colors,zorder=3)\n",
    "for i in range(len(bar)):\n",
    "    height = bar[i].get_height()\n",
    "    plt.text(bar[i].get_x() + bar[i].get_width() / 2.0, height, str(round(list(percentage.values())[i], 1)) + '%',\n",
    "             ha='center', va='bottom', fontsize=16)\n",
    "\n",
    "# plt.ylabel('CGM data in this study (days)')\n",
    "ax.yaxis.grid(color='gray', alpha= .2)\n",
    "ax.set_zorder(0)\n",
    "ax.set_ylabel('CGM data in this study (days)', fontsize=16)\n",
    "\n",
    "# plt.yticks(fontsize = 12)\n",
    "plt.xticks(fontsize = 12)\n",
    "plt.yticks([0,20000,40000,60000,80000,100000, 120000],\n",
    "           [\"0\", \"20K\", \"40K\", \"60K\", \"80K\", \"100k\", \"120k\"], fontsize = 12)\n",
    "\n",
    "# ax.set_xticks([])\n",
    "# handles = [plt.Rectangle((0,0),1,1, color=colors[i]) for i in range(len(list(values.keys())))]\n",
    "# plt.legend(handles, list(values.keys()),fontsize=14)\n",
    "\n",
    "plt.savefig('./figures/cgm_overview_multi_bar.png', bbox_inches='tight')\n",
    "plt.savefig('./final_figures/cgm_overview_bar.png',bbox_inches='tight')\n",
    "plt.savefig('./cgm_overview_bar.pdf',bbox_inches='tight')\n",
    "\n",
    "plt.show()"
   ]
  },
  {
   "cell_type": "markdown",
   "id": "d4a7813e",
   "metadata": {
    "id": "KEN3Z3g0jIOH"
   },
   "source": [
    "### Box plot"
   ]
  },
  {
   "cell_type": "code",
   "execution_count": null,
   "id": "67c669e8",
   "metadata": {
    "id": "OAZdyKuSjKKw"
   },
   "outputs": [],
   "source": [
    "df_summary = pd.read_csv('./CGM_summary.csv')\n",
    "total = df_summary.Duration.values\n",
    "no_adh = df_summary.MissingDays.values\n",
    "high_adh = df_summary.ValidDays.values\n",
    "partial_adh = np.array(df_summary.RecordDays.values) - np.array(high_adh)"
   ]
  },
  {
   "cell_type": "code",
   "execution_count": null,
   "id": "ee3984f8",
   "metadata": {
    "colab": {
     "base_uri": "https://localhost:8080/",
     "height": 396
    },
    "executionInfo": {
     "elapsed": 2504,
     "status": "ok",
     "timestamp": 1706754511728,
     "user": {
      "displayName": "Yanjun Cui",
      "userId": "10928157657240567222"
     },
     "user_tz": 300
    },
    "id": "N8sc3IDmjxtj",
    "outputId": "6cb5f2f9-b125-44e3-adfe-31ab551d2832",
    "scrolled": false
   },
   "outputs": [],
   "source": [
    "fig, ax = plt.subplots(figsize=(8, 4))\n",
    "labels =['Total\\n days / subject', 'High adherence\\n days / subject', 'Partial adherence\\n days / subject', 'No adherence\\n days / subject']\n",
    "colors= ['#118AB2', '#06D6A0', '#F78C6B', '#FFD166']\n",
    "\n",
    "data = [total, high_adh, partial_adh, no_adh]\n",
    "bp = ax.boxplot(data, notch=True, medianprops = dict(color = \"#EF476F\", linewidth = 1.5), patch_artist=True)\n",
    "\n",
    "for box, color in zip(bp['boxes'], colors):\n",
    "  box.set_facecolor(color)\n",
    "\n",
    "plt.xticks([1, 2, 3, 4], labels)\n",
    "# ax.spines['right'].set_color('none')\n",
    "# ax.spines['top'].set_color('none')\n",
    "ax.yaxis.grid(color='gray', alpha= .2)\n",
    "ax.set_zorder(0)\n",
    "ax.set_ylabel('CGM data / subject (days)', fontsize=16)\n",
    "\n",
    "plt.yticks(fontsize = 12)\n",
    "plt.xticks(fontsize = 12)\n",
    "\n",
    "plt.savefig('./figures/cgm_overview_boxplot.png', bbox_inches='tight')\n",
    "plt.savefig('./final_figures/cgm_overview_boxplot.png',bbox_inches='tight')\n",
    "plt.savefig('./final_figures/cgm_overview_boxplot.pdf',bbox_inches='tight')\n",
    "plt.show()"
   ]
  },
  {
   "cell_type": "markdown",
   "id": "a44782f9",
   "metadata": {
    "id": "2j8wRp7JTu-y"
   },
   "source": [
    "# Demographic info (fig 1D)"
   ]
  },
  {
   "cell_type": "code",
   "execution_count": null,
   "id": "b9eb269b",
   "metadata": {
    "executionInfo": {
     "elapsed": 1237,
     "status": "ok",
     "timestamp": 1717095682976,
     "user": {
      "displayName": "Yanjun Cui",
      "userId": "10928157657240567222"
     },
     "user_tz": 240
    },
    "id": "D0bnoLwtAJxL"
   },
   "outputs": [],
   "source": [
    "df = pd.read_csv('./demographic_data_summary_final.csv')"
   ]
  },
  {
   "cell_type": "markdown",
   "id": "ee55f6be",
   "metadata": {
    "id": "vSPE2LtukQHI"
   },
   "source": [
    "## Gender"
   ]
  },
  {
   "cell_type": "code",
   "execution_count": null,
   "id": "c89793a6",
   "metadata": {
    "colab": {
     "base_uri": "https://localhost:8080/"
    },
    "executionInfo": {
     "elapsed": 151,
     "status": "ok",
     "timestamp": 1717095948430,
     "user": {
      "displayName": "Yanjun Cui",
      "userId": "10928157657240567222"
     },
     "user_tz": 240
    },
    "id": "QbFyz7ldkRDN",
    "outputId": "cb06e4c4-c9e1-4167-802a-9176835585e1"
   },
   "outputs": [],
   "source": [
    "gender_lst = []\n",
    "for i in range(len(df.sweetgoals_id.values)):\n",
    "  gender_lst.append(df.gender.values[i])\n",
    "print(len(gender_lst))"
   ]
  },
  {
   "cell_type": "code",
   "execution_count": null,
   "id": "adaed100",
   "metadata": {
    "colab": {
     "base_uri": "https://localhost:8080/"
    },
    "executionInfo": {
     "elapsed": 3,
     "status": "ok",
     "timestamp": 1717095949176,
     "user": {
      "displayName": "Yanjun Cui",
      "userId": "10928157657240567222"
     },
     "user_tz": 240
    },
    "id": "T4beOtvclqdQ",
    "outputId": "d28157eb-24b0-441f-d3ef-2af0c6e24347"
   },
   "outputs": [],
   "source": [
    "sex_dict = {}\n",
    "for i in df.gender.unique():\n",
    "  sex_dict.update({i: gender_lst.count(i)})\n",
    "\n",
    "sex_dict = {k: v for k, v in sex_dict.items() if v}\n",
    "\n",
    "print(sex_dict)"
   ]
  },
  {
   "cell_type": "code",
   "execution_count": null,
   "id": "78af1355",
   "metadata": {
    "colab": {
     "base_uri": "https://localhost:8080/"
    },
    "executionInfo": {
     "elapsed": 171,
     "status": "ok",
     "timestamp": 1717095950614,
     "user": {
      "displayName": "Yanjun Cui",
      "userId": "10928157657240567222"
     },
     "user_tz": 240
    },
    "id": "skq2tDCfAxfy",
    "outputId": "2c2bb416-dbd2-4f78-9044-1527373d2b7f"
   },
   "outputs": [],
   "source": [
    "sex_dict['N/A'] = sex_dict[list(sex_dict.keys())[2]]\n",
    "del sex_dict[list(sex_dict.keys())[3]]\n",
    "print(sex_dict)"
   ]
  },
  {
   "cell_type": "code",
   "execution_count": null,
   "id": "5ff13e3e",
   "metadata": {
    "colab": {
     "base_uri": "https://localhost:8080/",
     "height": 392
    },
    "executionInfo": {
     "elapsed": 1315,
     "status": "ok",
     "timestamp": 1717095951928,
     "user": {
      "displayName": "Yanjun Cui",
      "userId": "10928157657240567222"
     },
     "user_tz": 240
    },
    "id": "GBo6t2ocmIY_",
    "outputId": "d21d6789-5253-4408-b14d-14f919de267c"
   },
   "outputs": [],
   "source": [
    "fig, ax = plt.subplots(figsize=(6, 4))\n",
    "ax.spines['right'].set_color('none')\n",
    "ax.spines['top'].set_color('none')\n",
    "\n",
    "bar_container = ax.bar(['Male', 'Female', 'N/A'], [26, 78, 4], color='#FFD166')\n",
    "ax.bar_label(bar_container, fmt='{:,.0f}', fontsize = 20)\n",
    "ax.set_ylabel('Count', fontsize=20)\n",
    "plt.yticks(fontsize = 18)\n",
    "plt.xticks(fontsize = 18)\n",
    "plt.savefig('./figures/demographic/gender.jpg',bbox_inches='tight')\n",
    "plt.savefig('./final_figures/demographic/gender.png',bbox_inches='tight')\n",
    "plt.savefig('./final_figures/demographic/gender.pdf',bbox_inches='tight')\n",
    "\n",
    "plt.show()"
   ]
  },
  {
   "cell_type": "markdown",
   "id": "28f8b6e5",
   "metadata": {
    "id": "KzP8F--6m_Kd"
   },
   "source": [
    "## HbA1c"
   ]
  },
  {
   "cell_type": "code",
   "execution_count": null,
   "id": "64489d03",
   "metadata": {
    "colab": {
     "base_uri": "https://localhost:8080/"
    },
    "executionInfo": {
     "elapsed": 137,
     "status": "ok",
     "timestamp": 1717095781555,
     "user": {
      "displayName": "Yanjun Cui",
      "userId": "10928157657240567222"
     },
     "user_tz": 240
    },
    "id": "dTFhDtt3nAiO",
    "outputId": "938c857f-a658-4d63-b2d6-93a9192dfb1b"
   },
   "outputs": [],
   "source": [
    "a1c_lst = []\n",
    "for i in range(len(df.sweetgoals_id.values)):\n",
    "  # print(i)\n",
    "  if not np.isnan(df.A1c.values[i]):\n",
    "    a1c_lst.append(df.A1c.values[i])\n",
    "\n",
    "print(\"The number of subjects have a1c values:\", len(a1c_lst))"
   ]
  },
  {
   "cell_type": "code",
   "execution_count": null,
   "id": "333a8ada",
   "metadata": {
    "colab": {
     "base_uri": "https://localhost:8080/"
    },
    "executionInfo": {
     "elapsed": 151,
     "status": "ok",
     "timestamp": 1717095784951,
     "user": {
      "displayName": "Yanjun Cui",
      "userId": "10928157657240567222"
     },
     "user_tz": 240
    },
    "id": "O2UPJ4ftn9lS",
    "outputId": "c0114bb1-3028-41a7-b857-9450847f22ce"
   },
   "outputs": [],
   "source": [
    "print('The number of subjects does not have A1c:', 108 - len(a1c_lst))\n",
    "print(\"avg and std:\", round(np.mean(a1c_lst), 2), round(np.std(a1c_lst), 2))"
   ]
  },
  {
   "cell_type": "code",
   "execution_count": null,
   "id": "bf7ae19c",
   "metadata": {
    "colab": {
     "base_uri": "https://localhost:8080/"
    },
    "executionInfo": {
     "elapsed": 138,
     "status": "ok",
     "timestamp": 1717095798058,
     "user": {
      "displayName": "Yanjun Cui",
      "userId": "10928157657240567222"
     },
     "user_tz": 240
    },
    "id": "5-fUjEuMWjEV",
    "outputId": "dadab41f-1155-4d32-a015-cbba7bdc25d8"
   },
   "outputs": [],
   "source": [
    "a1c_dict = {'[6,8)':0, '[8,10)':0, '[10,12)':0, '[12,15)':0}\n",
    "for i in a1c_lst:\n",
    "  if i >= 6 and i < 8 :\n",
    "    a1c_dict['[6,8)'] += 1\n",
    "  elif i >= 8 and i < 10:\n",
    "    a1c_dict['[8,10)'] += 1\n",
    "  elif i >= 10 and i < 12:\n",
    "    a1c_dict['[10,12)'] += 1\n",
    "  elif i >= 12:\n",
    "    a1c_dict['[12,15)'] += 1\n",
    "\n",
    "a1c_dict.update({'N/A': 108 - len(a1c_lst)})\n",
    "print(a1c_dict)"
   ]
  },
  {
   "cell_type": "code",
   "execution_count": null,
   "id": "9ed1ec54",
   "metadata": {
    "colab": {
     "base_uri": "https://localhost:8080/",
     "height": 421
    },
    "executionInfo": {
     "elapsed": 1762,
     "status": "ok",
     "timestamp": 1717095806016,
     "user": {
      "displayName": "Yanjun Cui",
      "userId": "10928157657240567222"
     },
     "user_tz": 240
    },
    "id": "U9DGCWmqnREj",
    "outputId": "db365e89-9b66-4a81-b0a6-ee868e918bec"
   },
   "outputs": [],
   "source": [
    "fig, ax = plt.subplots(figsize=(6, 4))\n",
    "ax.spines['right'].set_color('none')\n",
    "ax.spines['top'].set_color('none')\n",
    "\n",
    "bar_container = ax.bar(a1c_dict.keys(), a1c_dict.values(), color='#F78C6B', alpha=.8)\n",
    "ax.bar_label(bar_container, fmt='{:,.0f}', fontsize = 20)\n",
    "\n",
    "ax.set_ylabel('Count', fontsize=20)\n",
    "ax.set_xlabel('Hemoglobin A1c (%)', fontsize=20)\n",
    "plt.yticks(fontsize = 16)\n",
    "plt.xticks(fontsize = 16)\n",
    "\n",
    "plt.savefig('./figures/demographic/HbA1c.jpg', bbox_inches='tight')\n",
    "plt.savefig('./final_figures/demographic/HbA1c.png',bbox_inches='tight')\n",
    "plt.savefig('./final_figures/demographic/HbA1c.pdf',bbox_inches='tight')\n",
    "\n",
    "plt.show()"
   ]
  },
  {
   "cell_type": "markdown",
   "id": "d00785db",
   "metadata": {
    "id": "hfc8UkJwIeqY"
   },
   "source": [
    "## Diagnosis Duration"
   ]
  },
  {
   "cell_type": "code",
   "execution_count": null,
   "id": "e3a3d53b",
   "metadata": {
    "colab": {
     "base_uri": "https://localhost:8080/"
    },
    "executionInfo": {
     "elapsed": 153,
     "status": "ok",
     "timestamp": 1717095811205,
     "user": {
      "displayName": "Yanjun Cui",
      "userId": "10928157657240567222"
     },
     "user_tz": 240
    },
    "id": "i5VGlYTvIgxx",
    "outputId": "b27bfa27-6286-4528-beca-40336a27c8ea"
   },
   "outputs": [],
   "source": [
    "diag_lst = []\n",
    "for i in range(len(df.sweetgoals_id.values)):\n",
    "  # print(i)\n",
    "  if not np.isnan(df.diagnosis_duration.values[i]):\n",
    "    diag_lst.append(df.diagnosis_duration.values[i])\n",
    "# print(len(diag_lst), diag_lst)"
   ]
  },
  {
   "cell_type": "code",
   "execution_count": null,
   "id": "a4995749",
   "metadata": {
    "colab": {
     "base_uri": "https://localhost:8080/"
    },
    "executionInfo": {
     "elapsed": 149,
     "status": "ok",
     "timestamp": 1717095813140,
     "user": {
      "displayName": "Yanjun Cui",
      "userId": "10928157657240567222"
     },
     "user_tz": 240
    },
    "id": "XgaUbZZvI6gt",
    "outputId": "dbf616b0-06d4-40dc-d2da-a93cf4ce9049"
   },
   "outputs": [],
   "source": [
    "print('The number of subjects does not have diagnosis duration:', 108 - len(diag_lst))\n",
    "print(\"avg and std:\", round(np.mean(diag_lst), 2), round(np.std(diag_lst), 2))"
   ]
  },
  {
   "cell_type": "code",
   "execution_count": null,
   "id": "fc880495",
   "metadata": {
    "colab": {
     "base_uri": "https://localhost:8080/"
    },
    "executionInfo": {
     "elapsed": 140,
     "status": "ok",
     "timestamp": 1717095818278,
     "user": {
      "displayName": "Yanjun Cui",
      "userId": "10928157657240567222"
     },
     "user_tz": 240
    },
    "id": "0lB6PnjNXt1V",
    "outputId": "88d307ca-5fce-40f8-ceac-9cfa33590cad"
   },
   "outputs": [],
   "source": [
    "diag_dict = {'[2,7)':0, '[7,15)':0, '[15,23)':0, '[23,27]':0}\n",
    "for i in diag_lst:\n",
    "  if i >= 2 and i < 7 :\n",
    "    diag_dict['[2,7)'] += 1\n",
    "  elif i >= 7 and i < 15:\n",
    "    diag_dict['[7,15)'] += 1\n",
    "  elif i >= 15 and i < 23:\n",
    "    diag_dict['[15,23)'] += 1\n",
    "  elif i >= 23:\n",
    "    diag_dict['[23,27]'] += 1\n",
    "\n",
    "diag_dict.update({'N/A': 108 - len(diag_lst)})\n",
    "print(diag_dict)"
   ]
  },
  {
   "cell_type": "code",
   "execution_count": null,
   "id": "44e8d742",
   "metadata": {
    "colab": {
     "base_uri": "https://localhost:8080/",
     "height": 421
    },
    "executionInfo": {
     "elapsed": 1794,
     "status": "ok",
     "timestamp": 1717095824681,
     "user": {
      "displayName": "Yanjun Cui",
      "userId": "10928157657240567222"
     },
     "user_tz": 240
    },
    "id": "20nQ7NHoJCbz",
    "outputId": "6022e313-b760-403e-832c-7871ca22fcb8"
   },
   "outputs": [],
   "source": [
    "fig, ax = plt.subplots(figsize=(6, 4))\n",
    "ax.spines['right'].set_color('none')\n",
    "ax.spines['top'].set_color('none')\n",
    "\n",
    "bar_container = ax.bar(diag_dict.keys(), diag_dict.values(), color='#06D6A0')\n",
    "ax.bar_label(bar_container, fmt='{:,.0f}', fontsize = 20)\n",
    "# ax.set(ylabel='Count', xlabel='Years since T1D Diagnosis')\n",
    "ax.set_ylabel('Count', fontsize=20)\n",
    "ax.set_xlabel('Years since T1D Diagnosis', fontsize=20)\n",
    "plt.yticks(fontsize = 16)\n",
    "plt.xticks(fontsize = 16)\n",
    "\n",
    "plt.savefig('./figures/demographic/diag_duration.jpg', bbox_inches='tight')\n",
    "plt.savefig('./final_figures/demographic/diagnosis_duration.png',bbox_inches='tight')\n",
    "plt.savefig('./final_figures/demographic/diagnosis_duration.pdf',bbox_inches='tight')\n",
    "\n",
    "plt.show()"
   ]
  },
  {
   "cell_type": "markdown",
   "id": "eef305b1",
   "metadata": {
    "id": "LbyA8HvtoSzI"
   },
   "source": [
    "## Age"
   ]
  },
  {
   "cell_type": "code",
   "execution_count": null,
   "id": "ebdb21bc",
   "metadata": {
    "colab": {
     "base_uri": "https://localhost:8080/"
    },
    "executionInfo": {
     "elapsed": 160,
     "status": "ok",
     "timestamp": 1717096015271,
     "user": {
      "displayName": "Yanjun Cui",
      "userId": "10928157657240567222"
     },
     "user_tz": 240
    },
    "id": "UTxdBsuhoTgn",
    "outputId": "8fbed78c-211a-4d5c-e2ad-cd357d9d4a85"
   },
   "outputs": [],
   "source": [
    "age_lst = []\n",
    "for i in range(len(df.sweetgoals_id.values)):\n",
    "  # print(i)\n",
    "  if not np.isnan(df.age.values[i]):\n",
    "    age_lst.append(df.age.values[i])\n",
    "# print(len(age_lst),age_lst)"
   ]
  },
  {
   "cell_type": "code",
   "execution_count": null,
   "id": "918613d9",
   "metadata": {
    "colab": {
     "base_uri": "https://localhost:8080/"
    },
    "executionInfo": {
     "elapsed": 2,
     "status": "ok",
     "timestamp": 1717096016001,
     "user": {
      "displayName": "Yanjun Cui",
      "userId": "10928157657240567222"
     },
     "user_tz": 240
    },
    "id": "6n98HfR7pXcD",
    "outputId": "afda77f2-3b0f-47ad-bfbf-b7d1124f747e"
   },
   "outputs": [],
   "source": [
    "print('The number of subjects does not have age:', 108 - len(age_lst))\n",
    "print(\"avg and std:\", round(np.mean(age_lst), 2), round(np.std(age_lst), 2))\n",
    "print(max(age_lst))"
   ]
  },
  {
   "cell_type": "code",
   "execution_count": null,
   "id": "54ea862a",
   "metadata": {
    "colab": {
     "base_uri": "https://localhost:8080/"
    },
    "executionInfo": {
     "elapsed": 173,
     "status": "ok",
     "timestamp": 1717096017319,
     "user": {
      "displayName": "Yanjun Cui",
      "userId": "10928157657240567222"
     },
     "user_tz": 240
    },
    "id": "qjD4zWIybI79",
    "outputId": "71cc83b6-4249-4aef-f997-2d7740d0b5cd"
   },
   "outputs": [],
   "source": [
    "age_dict = {'19-21':0, '22-25':0, '26-29':0}\n",
    "for i in age_lst:\n",
    "  if i >= 19 and i <= 21 :\n",
    "    age_dict['19-21'] += 1\n",
    "  elif i >= 22 and i <= 25:\n",
    "    age_dict['22-25'] += 1\n",
    "  elif i >= 26 and i <= 30:\n",
    "    age_dict['26-29'] += 1\n",
    "\n",
    "# age_dict.update({'N/A': 108 - len(age_lst)})\n",
    "print(age_dict)"
   ]
  },
  {
   "cell_type": "code",
   "execution_count": null,
   "id": "9acba10f",
   "metadata": {
    "colab": {
     "base_uri": "https://localhost:8080/",
     "height": 425
    },
    "executionInfo": {
     "elapsed": 1719,
     "status": "ok",
     "timestamp": 1717096021205,
     "user": {
      "displayName": "Yanjun Cui",
      "userId": "10928157657240567222"
     },
     "user_tz": 240
    },
    "id": "mIMnSnypos0r",
    "outputId": "ad621ab7-57cd-490e-b786-6862710864e8"
   },
   "outputs": [],
   "source": [
    "fig, ax = plt.subplots(figsize=(6, 4))\n",
    "ax.spines['right'].set_color('none')\n",
    "ax.spines['top'].set_color('none')\n",
    "\n",
    "bar_container = ax.bar(age_dict.keys(), age_dict.values(), color='#EF476F', alpha=.7)\n",
    "ax.bar_label(bar_container, fmt='{:,.0f}', fontsize = 20)\n",
    "# ax.set(ylabel='Count', xlabel='Age (Years)')\n",
    "ax.set_ylabel('Count', fontsize=20)\n",
    "ax.set_xlabel('Age (Years)', fontsize=20)\n",
    "plt.yticks(fontsize = 18)\n",
    "plt.xticks(fontsize = 18)\n",
    "\n",
    "plt.savefig('./figures/demographic/age.jpg', bbox_inches='tight')\n",
    "plt.savefig('./final_figures/demographic/age.png',bbox_inches='tight')\n",
    "plt.savefig('./final_figures/demographic/age.pdf',bbox_inches='tight')\n",
    "\n",
    "plt.show()"
   ]
  },
  {
   "cell_type": "markdown",
   "id": "04ef9421",
   "metadata": {
    "id": "ywPcaZ24lWsR"
   },
   "source": [
    "# One week CGM example (fig 1E)"
   ]
  },
  {
   "cell_type": "code",
   "execution_count": null,
   "id": "6e418dbc",
   "metadata": {
    "colab": {
     "base_uri": "https://localhost:8080/",
     "height": 337
    },
    "executionInfo": {
     "elapsed": 914,
     "status": "ok",
     "timestamp": 1707159257943,
     "user": {
      "displayName": "Yanjun Cui",
      "userId": "10928157657240567222"
     },
     "user_tz": 300
    },
    "id": "oalYZX5bf7Ts",
    "outputId": "d976c222-2612-4ec9-fee4-8e5b7da25505"
   },
   "outputs": [],
   "source": [
    "cgm_root = './csv_cgm/'\n",
    "subject_id = '.'\n",
    "df = pd.read_csv(cgm_root + subject_id + '.csv')"
   ]
  },
  {
   "cell_type": "code",
   "execution_count": null,
   "id": "0af25530",
   "metadata": {
    "colab": {
     "base_uri": "https://localhost:8080/"
    },
    "executionInfo": {
     "elapsed": 2,
     "status": "ok",
     "timestamp": 1707159258156,
     "user": {
      "displayName": "Yanjun Cui",
      "userId": "10928157657240567222"
     },
     "user_tz": 300
    },
    "id": "A8C8grN1qQwJ",
    "outputId": "709e1ab8-2442-42d9-aa18-392823a9515b"
   },
   "outputs": [],
   "source": [
    "app_id = '.'\n",
    "demo_df = pd.read_csv('./CGM_summary.csv')\n",
    "\n",
    "for i in demo_df.values:\n",
    "  if app_id == i[0]:\n",
    "    print(i[1])\n",
    "    break"
   ]
  },
  {
   "cell_type": "code",
   "execution_count": null,
   "id": "2e18a89c",
   "metadata": {
    "colab": {
     "base_uri": "https://localhost:8080/",
     "height": 310
    },
    "executionInfo": {
     "elapsed": 379,
     "status": "ok",
     "timestamp": 1707159259666,
     "user": {
      "displayName": "Yanjun Cui",
      "userId": "10928157657240567222"
     },
     "user_tz": 300
    },
    "id": "C61gCScGgojk",
    "outputId": "31a2c78b-aee6-4d54-f5a1-868cdd0c3ee1"
   },
   "outputs": [],
   "source": [
    "date = []\n",
    "time = []\n",
    "date_time = df[\"displayTime\"].tolist()\n",
    "timestamp1 = []\n",
    "for i in range(len(df)):\n",
    "  date2, time2 = date_time[i].split('T')\n",
    "  timestamp2 = date2 + ' ' + time2\n",
    "  date.append(date2)\n",
    "  time.append(time2)\n",
    "  timestamp1.append(timestamp2)\n",
    "\n",
    "df = df.drop(['systemTime', 'guid', 'updatedAt', 'syncTimestamp'], axis=1)\n",
    "df['date1'] = date\n",
    "df['time'] = time\n",
    "df['date'] = timestamp1\n",
    "df.head()"
   ]
  },
  {
   "cell_type": "code",
   "execution_count": null,
   "id": "929fce93",
   "metadata": {
    "id": "6pb0KA08h_le"
   },
   "outputs": [],
   "source": [
    "df['date'] = pd.to_datetime(df['date'])\n",
    "df['week'] = df['date'].dt.strftime('%W')\n",
    "df['year'] = df['date'].dt.strftime('%Y')\n",
    "df['day'] = df['date'].dt.strftime('%a')"
   ]
  },
  {
   "cell_type": "code",
   "execution_count": null,
   "id": "cdf89a23",
   "metadata": {
    "colab": {
     "base_uri": "https://localhost:8080/",
     "height": 982
    },
    "executionInfo": {
     "elapsed": 4,
     "status": "ok",
     "timestamp": 1707159265326,
     "user": {
      "displayName": "Yanjun Cui",
      "userId": "10928157657240567222"
     },
     "user_tz": 300
    },
    "id": "qxdG_mnMiwcf",
    "outputId": "594aff9a-1817-4023-825e-3796318c2ab0"
   },
   "outputs": [],
   "source": [
    "df_date = df[df['year'] == '2022']\n",
    "week_data = df_date[df_date['week']=='23'] # week start at 0, so this is the 24th week of the year.\n",
    "week_data"
   ]
  },
  {
   "cell_type": "code",
   "execution_count": null,
   "id": "bc31fb98",
   "metadata": {
    "colab": {
     "base_uri": "https://localhost:8080/"
    },
    "executionInfo": {
     "elapsed": 216,
     "status": "ok",
     "timestamp": 1707159266542,
     "user": {
      "displayName": "Yanjun Cui",
      "userId": "10928157657240567222"
     },
     "user_tz": 300
    },
    "id": "jIsTlmtMmIrM",
    "outputId": "3c668fb6-b70c-47c3-8a64-c610acec643d"
   },
   "outputs": [],
   "source": [
    "week_data.date1.unique()"
   ]
  },
  {
   "cell_type": "code",
   "execution_count": null,
   "id": "192c3f0d",
   "metadata": {
    "colab": {
     "base_uri": "https://localhost:8080/",
     "height": 1000
    },
    "executionInfo": {
     "elapsed": 223,
     "status": "ok",
     "timestamp": 1707159268114,
     "user": {
      "displayName": "Yanjun Cui",
      "userId": "10928157657240567222"
     },
     "user_tz": 300
    },
    "id": "k0aCnoBFjHBF",
    "outputId": "f4c1b8e5-de78-4707-fada-3a832ed10770"
   },
   "outputs": [],
   "source": [
    "mon = week_data[week_data.day == 'Mon']\n",
    "tue = week_data[week_data.day == 'Tue']\n",
    "wed = week_data[week_data.day == 'Wed']\n",
    "thu = week_data[week_data.day == 'Thu']\n",
    "fri = week_data[week_data.day == 'Fri']\n",
    "sat = week_data[week_data.day == 'Sat']\n",
    "sun = week_data[week_data.day == 'Sun']\n",
    "\n",
    "mon['timestamp'] = pd.to_datetime(mon['date'], format='%M:%S.%f') + timedelta(days = 6)\n",
    "tue['timestamp'] = pd.to_datetime(tue['date'], format='%M:%S.%f') + timedelta(days = 5)\n",
    "wed['timestamp'] = pd.to_datetime(wed['date'], format='%M:%S.%f') + timedelta(days = 4)\n",
    "thu['timestamp'] = pd.to_datetime(thu['date'], format='%M:%S.%f') + timedelta(days = 3)\n",
    "fri['timestamp'] = pd.to_datetime(fri['date'], format='%M:%S.%f') + timedelta(days = 2)\n",
    "sat['timestamp'] = pd.to_datetime(sat['date'], format='%M:%S.%f') + timedelta(days = 1)\n",
    "sun['timestamp'] = pd.to_datetime(sun['date'], format='%M:%S.%f')\n",
    "\n",
    "all_data = pd.concat([mon,tue,wed,thu,fri,sat,sun])\n",
    "all_data.tail()"
   ]
  },
  {
   "cell_type": "code",
   "execution_count": null,
   "id": "5c75ddec",
   "metadata": {
    "colab": {
     "base_uri": "https://localhost:8080/"
    },
    "executionInfo": {
     "elapsed": 204,
     "status": "ok",
     "timestamp": 1707159269724,
     "user": {
      "displayName": "Yanjun Cui",
      "userId": "10928157657240567222"
     },
     "user_tz": 300
    },
    "id": "ZrqV2gxj2knq",
    "outputId": "af27a37a-74d2-4bc4-d578-f12d38692017"
   },
   "outputs": [],
   "source": [
    "def get_oneday_plt(weekday_df):\n",
    "  time_split = []\n",
    "  start, end = 0, 0\n",
    "  for i in range(len(weekday_df.values)-1):\n",
    "    diff = (weekday_df.values[i+1][12] - weekday_df.values[i][12]) / np.timedelta64(1, 'm')\n",
    "    if diff >= 10:\n",
    "      end = i\n",
    "      time_split.append([start, end])\n",
    "      start = i+1\n",
    "  end = i\n",
    "  time_split.append([start, end])\n",
    "  return time_split\n",
    "\n",
    "get_oneday_plt(sat)"
   ]
  },
  {
   "cell_type": "code",
   "execution_count": null,
   "id": "cd00e1da",
   "metadata": {
    "id": "n7aH44ikdKwO"
   },
   "outputs": [],
   "source": [
    "all_data.to_csv('./oneweek_example.csv')"
   ]
  },
  {
   "cell_type": "code",
   "execution_count": null,
   "id": "fe47c5f3",
   "metadata": {
    "colab": {
     "base_uri": "https://localhost:8080/",
     "height": 464
    },
    "executionInfo": {
     "elapsed": 12182,
     "status": "ok",
     "timestamp": 1707159290631,
     "user": {
      "displayName": "Yanjun Cui",
      "userId": "10928157657240567222"
     },
     "user_tz": 300
    },
    "id": "UR9dnLabjgCg",
    "outputId": "423b9263-d191-48e3-e2a1-f1b4124fe80f",
    "scrolled": false
   },
   "outputs": [],
   "source": [
    "import matplotlib.dates as dates\n",
    "import matplotlib.ticker as ticker\n",
    "\n",
    "fig = plt.figure(figsize=(15, 5))\n",
    "ax = fig.add_subplot(111)\n",
    "ax.margins(.1, .5)\n",
    "\n",
    "xfmt = dates.DateFormatter('%l %p')\n",
    "h_loc = dates.HourLocator(byhour=range(0,24,3))\n",
    "ax.xaxis.set_minor_locator(dates.HourLocator())\n",
    "ax.xaxis.set_major_locator(h_loc)\n",
    "ax.xaxis.set_major_formatter(xfmt)\n",
    "# ax.set_ylim(0, 400)\n",
    "ax.yaxis.set_minor_locator(ticker.AutoMinorLocator())\n",
    "ax.yaxis.set_major_locator(ticker.LinearLocator())\n",
    "ax.yaxis.set_major_formatter(ticker.FormatStrFormatter(\"%d\"))\n",
    "ax.grid(True)\n",
    "ax.tick_params(axis='both', which='major', labelsize=15)\n",
    "ax.set_xlabel(\"Time of Day\\n\", fontsize=16)\n",
    "ax.set_ylabel(\"Blood Glucose (mg/dL)\", fontsize=16)\n",
    "ax.set_title('Subject 32, Week: 24, Year: 2022', fontweight = 'bold', fontsize=16)\n",
    "\n",
    "pd.plotting.register_matplotlib_converters()\n",
    "split = get_oneday_plt(mon)\n",
    "for i in split:\n",
    "  l1 = ax.plot(mon['timestamp'][i[0]:i[1]], mon['glucoseValue'][i[0]:i[1]], '--', linewidth=2, color='#F78C6B', dashes = (2, 4), label= \"Mon\")\n",
    "split = get_oneday_plt(tue)\n",
    "for i in split:\n",
    "  l2 = ax.plot(tue['timestamp'][i[0]:i[1]], tue['glucoseValue'][i[0]:i[1]], '-.', linewidth=2, color='#EF476F', dashes = (4, 2), label= \"Tue\")\n",
    "split = get_oneday_plt(wed)\n",
    "for i in split:\n",
    "  l3 = ax.plot(wed['timestamp'][i[0]:i[1]], wed['glucoseValue'][i[0]:i[1]], '--g', linewidth=2, dashes = (5, 3, 10, 3), label= \"Wed\")\n",
    "split = get_oneday_plt(thu)\n",
    "for i in split:\n",
    "  l4 = ax.plot(thu['timestamp'][i[0]:i[1]], thu['glucoseValue'][i[0]:i[1]], '--', linewidth=2, color ='#FFD166', label= \"Thursday\")\n",
    "split = get_oneday_plt(fri)\n",
    "for i in split:\n",
    "  l5 = ax.plot(fri['timestamp'][i[0]:i[1]], fri['glucoseValue'][i[0]:i[1]], '--',linewidth=2, color='#06D6A0' , dashes = (10, 3, 10, 3), label= \"Fri\")\n",
    "split = get_oneday_plt(sat)\n",
    "for i in split:\n",
    "  l6 = ax.plot(sat['timestamp'][i[0]:i[1]], sat['glucoseValue'][i[0]:i[1]], '-.', linewidth=2, color='#118AB2', label= \"Sat\")\n",
    "split = get_oneday_plt(sun)\n",
    "for i in split:\n",
    "  l7 = ax.plot(sun['timestamp'][i[0]:i[1]], sun['glucoseValue'][i[0]:i[1]], '--', linewidth=2, color='olive', label= \"Sun\")\n",
    "\n",
    "\n",
    "ax.plot([min(all_data['timestamp']), max(all_data['timestamp'])], [180, 180], linewidth=2, color ='#073B4C', label = 'high')\n",
    "ax.plot([min(all_data['timestamp']), max(all_data['timestamp'])], [70, 70], linewidth=2, color ='#073B4C', label = 'low')\n",
    "ax.annotate('180', (max(all_data['timestamp']) + timedelta(minutes = 30), 180), fontsize=16, color ='#073B4C', fontweight = 'bold')\n",
    "ax.annotate('70', (max(all_data['timestamp'])  + timedelta(minutes = 30), 70), fontsize=16, color ='#073B4C', fontweight = 'bold')\n",
    "lines = l1 + l2 + l3 + l4 + l5 + l6 + l7\n",
    "labels = [l.get_label() for l in lines]\n",
    "ax.legend(lines, labels, loc = 'upper right',  ncol = 7, fontsize = 15)\n",
    "plt.grid(color='gray', linewidth=0.5, linestyle = ':')\n",
    "plt.ylim((0,480))\n",
    "plt.yticks(np.arange(0, 480, step=40))\n",
    "\n",
    "plt.savefig(\"./figures/supplementary_2.png\", bbox_inches='tight')\n"
   ]
  },
  {
   "cell_type": "markdown",
   "id": "0c503e19",
   "metadata": {
    "id": "AFmQHWRx-VKF"
   },
   "source": [
    "# TIR / TAR / mean BG"
   ]
  },
  {
   "cell_type": "code",
   "execution_count": null,
   "id": "029f5ae5",
   "metadata": {
    "id": "a7RO15r4euRv"
   },
   "outputs": [],
   "source": [
    "individual_valid_summary = './cgm_count_by_day/'\n",
    "cgm_root = \"./csv_cgm/\""
   ]
  },
  {
   "cell_type": "code",
   "execution_count": null,
   "id": "fbf6891a",
   "metadata": {
    "colab": {
     "base_uri": "https://localhost:8080/"
    },
    "executionInfo": {
     "elapsed": 1838089,
     "status": "ok",
     "timestamp": 1705606970684,
     "user": {
      "displayName": "Yanjun Cui",
      "userId": "10928157657240567222"
     },
     "user_tz": 300
    },
    "id": "oJ_ttUOvfbim",
    "outputId": "71cac908-2fec-4a60-c5c3-389295e74e6d"
   },
   "outputs": [],
   "source": [
    "TIR_lst, TAR_lst, TBR_lst = [], [], []\n",
    "mean_lst = []\n",
    "gluc_var_lst = []\n",
    "\n",
    "for filename in os.listdir(individual_valid_summary):\n",
    "  if filename[-4:] == '.csv':\n",
    "    ind_df = pd.read_csv(individual_valid_summary + filename)\n",
    "    valid_ind_df = ind_df[ind_df['Valid'] == 1]\n",
    "    valid_ind_date = [i.split(' ')[0] for i in valid_ind_df['displayTime'].values]\n",
    "    cgm_df = pd.read_csv(cgm_root + filename)[['displayTime', 'glucoseValue']]\n",
    "\n",
    "    # drop values that have exactly same displayTime, (only keep the first one)\n",
    "    cgm_df['time'] = pd.to_datetime(cgm_df['displayTime'], utc=True, infer_datetime_format=True)\n",
    "    cgm_df.drop_duplicates(subset=['time'], inplace=True)\n",
    "    cgm_df.dropna(subset=['time'], inplace=True)\n",
    "\n",
    "    cgm_df['Date'] = [i.split('T')[0] for i in cgm_df.displayTime.values]\n",
    "    valid_mask = cgm_df['Date'].isin(valid_ind_date)\n",
    "    valid_cgm_df = cgm_df[valid_mask]\n",
    "\n",
    "    for i in valid_ind_date:\n",
    "      glucose_daily = valid_cgm_df[valid_cgm_df.Date == i].glucoseValue.values\n",
    "      mean_lst.append(np.mean(glucose_daily))\n",
    "      TIR_gluc = [j for j in glucose_daily if j >= 70 and j <= 180]\n",
    "      TIR_lst.append(len(TIR_gluc) / len(glucose_daily))\n",
    "      TAR_gluc = [j for j in glucose_daily if j > 180]\n",
    "      TAR_lst.append(len(TAR_gluc) / len(glucose_daily))\n",
    "      TBR_gluc = [j for j in glucose_daily if j < 70]\n",
    "      TBR_lst.append(len(TBR_gluc) / len(glucose_daily))\n",
    "\n",
    "      gluc_var = np.std(glucose_daily) / np.mean(glucose_daily)\n",
    "      gluc_var_lst.append(gluc_var)\n",
    "\n",
    "    # break"
   ]
  },
  {
   "cell_type": "code",
   "execution_count": null,
   "id": "c62b1e79",
   "metadata": {
    "colab": {
     "base_uri": "https://localhost:8080/"
    },
    "executionInfo": {
     "elapsed": 528,
     "status": "ok",
     "timestamp": 1705606986953,
     "user": {
      "displayName": "Yanjun Cui",
      "userId": "10928157657240567222"
     },
     "user_tz": 300
    },
    "id": "AtRv44N2EymY",
    "outputId": "da8e45e9-6431-4faa-8a45-fb1b5c3406eb"
   },
   "outputs": [],
   "source": [
    "print(\"Total valid count\", len(TIR_lst))\n",
    "print('TIR:', round(np.mean(TIR_lst), 4), round(np.std(TIR_lst), 4))\n",
    "print('mean:', round(np.mean(mean_lst), 2), round(np.std(mean_lst), 2))\n",
    "print('glucose variability:', round(np.mean(gluc_var_lst), 2), round(np.std(gluc_var_lst), 2))"
   ]
  },
  {
   "cell_type": "code",
   "execution_count": null,
   "id": "0510418c",
   "metadata": {
    "colab": {
     "base_uri": "https://localhost:8080/"
    },
    "executionInfo": {
     "elapsed": 558,
     "status": "ok",
     "timestamp": 1705606990706,
     "user": {
      "displayName": "Yanjun Cui",
      "userId": "10928157657240567222"
     },
     "user_tz": 300
    },
    "id": "SeL2ypbt1lZl",
    "outputId": "4441b932-0e66-4fd3-c79d-e06cf7e320e1"
   },
   "outputs": [],
   "source": [
    "print('TAR:', round(np.mean(TAR_lst), 4), round(np.std(TAR_lst), 4))\n",
    "print('TBR:', round(np.mean(TBR_lst), 4), round(np.std(TBR_lst), 4))"
   ]
  },
  {
   "cell_type": "code",
   "execution_count": null,
   "id": "108f3da6",
   "metadata": {
    "colab": {
     "base_uri": "https://localhost:8080/"
    },
    "executionInfo": {
     "elapsed": 875,
     "status": "ok",
     "timestamp": 1703071896205,
     "user": {
      "displayName": "Yanjun Cui",
      "userId": "10928157657240567222"
     },
     "user_tz": -480
    },
    "id": "UX5syP7FTMd2",
    "outputId": "b7a2dc89-b3de-4772-ad1f-d493196f6beb"
   },
   "outputs": [],
   "source": [
    "summary_lst = [TIR_lst, TAR_lst, TBR_lst, mean_lst, gluc_var_lst]\n",
    "summary_T = np.array(summary_lst).T\n",
    "print(np.array(summary_lst).shape, summary_T.shape)\n",
    "df = pd.DataFrame(summary_T, columns=['TIR', 'TAR', 'TBR', 'meanBG', 'GlucoseVar'])\n",
    "df.to_csv('./summary_TIR_meanBG_gluVar.csv', index=None)"
   ]
  },
  {
   "cell_type": "markdown",
   "id": "13993a52",
   "metadata": {
    "id": "dfBko-WzRWyo"
   },
   "source": [
    "## Blood Glucose figures (fig 1F)"
   ]
  },
  {
   "cell_type": "code",
   "execution_count": null,
   "id": "f33c72f4",
   "metadata": {
    "id": "pyqhv-mHxuHo"
   },
   "outputs": [],
   "source": [
    "df = pd.read_csv('./summary_TIR_meanBG_gluVar.csv')\n",
    "TIR_lst = df.TIR.values"
   ]
  },
  {
   "cell_type": "code",
   "execution_count": null,
   "id": "b29e0c79",
   "metadata": {
    "colab": {
     "base_uri": "https://localhost:8080/",
     "height": 398
    },
    "executionInfo": {
     "elapsed": 8139,
     "status": "ok",
     "timestamp": 1706827427570,
     "user": {
      "displayName": "Yanjun Cui",
      "userId": "10928157657240567222"
     },
     "user_tz": 300
    },
    "id": "sXeLdqtcQhbS",
    "outputId": "eea10a68-2eb5-42ad-cc36-879eeb8b49b7"
   },
   "outputs": [],
   "source": [
    "import seaborn as sns\n",
    "\n",
    "fig = plt.figure(figsize=(6, 4))\n",
    "sns.histplot([i* 100 for i in TIR_lst], kde=True, color = '#06D6A0', edgecolor = '#06D6A0', alpha = 0.1, binwidth = 1)\n",
    "plt.axvline(x = round(np.mean(TIR_lst), 3) * 100, c='#073B4C', linestyle='--')\n",
    "plt.annotate('Mean = ' + str(round(np.mean(TIR_lst), 3) * 100) + '%', xy =(30, 2300), color = '#073B4C', fontsize = 12,\n",
    "             bbox=dict(boxstyle=\"round\",\n",
    "                   ec='white',\n",
    "                   fc='white',\n",
    "                   ))\n",
    "\n",
    "plt.axvline(x = 70, c='#EF476F', linestyle='--')\n",
    "plt.annotate('Target >= ' + str(70.00) + '%', xy =(65, 2300), color = '#EF476F', fontsize = 12,\n",
    "             bbox=dict(boxstyle=\"round\",\n",
    "                   ec='white',\n",
    "                   fc='white',\n",
    "                   ))\n",
    "plt.ylabel('Number of Days',  fontsize = 14)\n",
    "plt.xlabel('Time in Range/Day (%)', fontsize = 14)\n",
    "plt.xticks(fontsize=12)\n",
    "plt.yticks(fontsize=12)\n",
    "# plt.xlim(0, 70)\n",
    "# plt.axvspan(0, 70, facecolor = '#06D6A0', alpha = .1)\n",
    "\n",
    "plt.savefig('./figures/TIR_valid_day.jpg', bbox_inches='tight')\n",
    "plt.savefig('./final_figures/CGM variables/TIR_valid_day.png',bbox_inches='tight')\n",
    "plt.savefig('./final_figures/CGM variables/TIR_valid_day.pdf',bbox_inches='tight')\n",
    "\n",
    "plt.show()"
   ]
  },
  {
   "cell_type": "code",
   "execution_count": null,
   "id": "dbb4d79b",
   "metadata": {
    "id": "Ft2KAXdh16yh"
   },
   "outputs": [],
   "source": [
    "df = pd.read_csv('./summary_TIR_meanBG_gluVar.csv')\n",
    "TAR_lst = df.TAR.values"
   ]
  },
  {
   "cell_type": "code",
   "execution_count": null,
   "id": "ea5e1ca5",
   "metadata": {
    "colab": {
     "base_uri": "https://localhost:8080/",
     "height": 398
    },
    "executionInfo": {
     "elapsed": 4750,
     "status": "ok",
     "timestamp": 1706827441892,
     "user": {
      "displayName": "Yanjun Cui",
      "userId": "10928157657240567222"
     },
     "user_tz": 300
    },
    "id": "tNzT2-0Z16yp",
    "outputId": "d4418a2f-c90b-49eb-e573-13f5bb1a3d12"
   },
   "outputs": [],
   "source": [
    "import seaborn as sns\n",
    "\n",
    "fig = plt.figure(figsize=(6, 4))\n",
    "sns.histplot([i* 100 for i in TAR_lst], kde=True, color = '#FFD166', edgecolor = '#FFD166', alpha = 0.1, binwidth = 1)\n",
    "plt.axvline(x = round(np.mean(TAR_lst), 3) * 100, c='#073B4C', linestyle='--')\n",
    "plt.annotate('Mean = ' + str(round(np.mean(TAR_lst), 3) * 100) + '%', xy =(40, 2300), color = '#073B4C', fontsize = 12,\n",
    "             bbox=dict(boxstyle=\"round\",\n",
    "                   ec='white',\n",
    "                   fc='white',\n",
    "                   ))\n",
    "\n",
    "plt.axvline(x = 25, c='#EF476F', linestyle='--')\n",
    "plt.annotate('Target <= ' + str(25.00) + '%', xy =(0, 2300), color = '#EF476F', fontsize = 12,\n",
    "             bbox=dict(boxstyle=\"round\",\n",
    "                   ec='white',\n",
    "                   fc='white',\n",
    "                   ))\n",
    "plt.ylabel('Number of Days',  fontsize = 14)\n",
    "plt.xlabel('Time Above Range/Day (%)', fontsize = 14)\n",
    "plt.xticks(fontsize=12)\n",
    "plt.yticks(fontsize=12)\n",
    "\n",
    "plt.savefig('./figures/TAR_valid_day.jpg', bbox_inches='tight')\n",
    "plt.savefig('./final_figures/CGM variables/TAR_valid_day.png',bbox_inches='tight')\n",
    "plt.savefig('./final_figures/CGM variables/TAR_valid_day.pdf',bbox_inches='tight')\n",
    "\n",
    "plt.show()"
   ]
  },
  {
   "cell_type": "code",
   "execution_count": null,
   "id": "cd5897e0",
   "metadata": {
    "id": "f8PuF2HNkTal"
   },
   "outputs": [],
   "source": [
    "df = pd.read_csv('./summary_TIR_meanBG_gluVar.csv')\n",
    "mean_lst = df.meanBG.values\n",
    "# df.head()"
   ]
  },
  {
   "cell_type": "code",
   "execution_count": null,
   "id": "3f464a71",
   "metadata": {
    "colab": {
     "base_uri": "https://localhost:8080/",
     "height": 399
    },
    "executionInfo": {
     "elapsed": 6575,
     "status": "ok",
     "timestamp": 1706827472126,
     "user": {
      "displayName": "Yanjun Cui",
      "userId": "10928157657240567222"
     },
     "user_tz": 300
    },
    "id": "zVTrKIBSgzmM",
    "outputId": "43831bd6-2a06-475e-ba89-28aa39d7cb2c",
    "scrolled": false
   },
   "outputs": [],
   "source": [
    "import seaborn as sns\n",
    "\n",
    "fig = plt.figure(figsize=(6, 4))\n",
    "sns.histplot([i for i in mean_lst], kde=True, color = '#F78C6B', edgecolor = '#F78C6B', alpha = 0.1, binwidth = 1)\n",
    "plt.axvline(x = np.mean(mean_lst), c='#073B4C', linestyle='--')\n",
    "plt.annotate('Mean = ' + str(round(np.mean(mean_lst), 1)) + 'mg/dL', xy =(200, 750), color = '#073B4C', fontsize = 12,\n",
    "             bbox=dict(boxstyle=\"round\",\n",
    "                   ec='white',\n",
    "                   fc='white',\n",
    "                   ))\n",
    "plt.ylabel('Number of Days',  fontsize = 14)\n",
    "plt.xlabel('Mean Blood Glucose/Day (mg/dL)', fontsize = 14)\n",
    "plt.xticks(fontsize=12)\n",
    "plt.yticks(fontsize=12)\n",
    "\n",
    "plt.savefig('./figures/meanBG_valid_day.jpg', bbox_inches='tight')\n",
    "plt.savefig('./final_figures/CGM variables/meanBG_valid_day.png',bbox_inches='tight')\n",
    "plt.savefig('./final_figures/CGM variables/meanBG_valid_day.pdf',bbox_inches='tight')\n",
    "\n",
    "plt.show()"
   ]
  },
  {
   "cell_type": "code",
   "execution_count": null,
   "id": "eac15881",
   "metadata": {},
   "outputs": [],
   "source": []
  }
 ],
 "metadata": {
  "kernelspec": {
   "display_name": "Python 3 (ipykernel)",
   "language": "python",
   "name": "python3"
  },
  "language_info": {
   "codemirror_mode": {
    "name": "ipython",
    "version": 3
   },
   "file_extension": ".py",
   "mimetype": "text/x-python",
   "name": "python",
   "nbconvert_exporter": "python",
   "pygments_lexer": "ipython3",
   "version": "3.10.6"
  }
 },
 "nbformat": 4,
 "nbformat_minor": 5
}
