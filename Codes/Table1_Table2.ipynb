{
 "cells": [
  {
   "cell_type": "code",
   "execution_count": null,
   "metadata": {
    "colab": {
     "base_uri": "https://localhost:8080/"
    },
    "executionInfo": {
     "elapsed": 25511,
     "status": "ok",
     "timestamp": 1716842866614,
     "user": {
      "displayName": "Yanjun Cui",
      "userId": "10928157657240567222"
     },
     "user_tz": 240
    },
    "id": "sJDd8oXk0iM2",
    "outputId": "bbaee613-2fe9-49b9-8b9c-29fe71668af6",
    "scrolled": true
   },
   "outputs": [],
   "source": [
    "from google.colab import drive\n",
    "drive.mount('/content/drive')"
   ]
  },
  {
   "cell_type": "code",
   "execution_count": null,
   "metadata": {
    "executionInfo": {
     "elapsed": 532,
     "status": "ok",
     "timestamp": 1716842867144,
     "user": {
      "displayName": "Yanjun Cui",
      "userId": "10928157657240567222"
     },
     "user_tz": 240
    },
    "id": "rhX8B7So00_A"
   },
   "outputs": [],
   "source": [
    "import pandas as pd\n",
    "import numpy as np\n",
    "import csv\n",
    "import os\n",
    "from datetime import date, timedelta, datetime\n",
    "import matplotlib.pyplot as plt\n",
    "import matplotlib.dates as mdates"
   ]
  },
  {
   "cell_type": "markdown",
   "metadata": {},
   "source": [
    "# Table 1"
   ]
  },
  {
   "cell_type": "code",
   "execution_count": null,
   "metadata": {
    "colab": {
     "base_uri": "https://localhost:8080/",
     "height": 216
    },
    "executionInfo": {
     "elapsed": 275,
     "status": "ok",
     "timestamp": 1717098816392,
     "user": {
      "displayName": "Yanjun Cui",
      "userId": "10928157657240567222"
     },
     "user_tz": 240
    },
    "id": "5l4ySz8V37FE",
    "outputId": "88de3429-92b0-46ec-b6b3-a1f874bec5b1"
   },
   "outputs": [],
   "source": [
    "demo_df = pd.read_csv('./demographic_data_summary_final.csv')\n",
    "demo_df.head(3)"
   ]
  },
  {
   "cell_type": "code",
   "execution_count": null,
   "metadata": {
    "executionInfo": {
     "elapsed": 2495,
     "status": "ok",
     "timestamp": 1717098819734,
     "user": {
      "displayName": "Yanjun Cui",
      "userId": "10928157657240567222"
     },
     "user_tz": 240
    },
    "id": "PTFrR46Y37FE"
   },
   "outputs": [],
   "source": [
    "adh_dir = './cgm_count_by_day/'\n",
    "adh_lst = []\n",
    "\n",
    "for filename in os.listdir(adh_dir):\n",
    "  if filename[-4:] == '.csv':\n",
    "    df = pd.read_csv(adh_dir + filename)\n",
    "    valid = list(df.Valid.values)\n",
    "    short_valid = valid[:30].count(1) / 30\n",
    "    long_valid = valid.count(1) / len(valid)\n",
    "    valid = 1 if long_valid >= .7 else 0 # long term adherence is valid if long_valid > .7\n",
    "    adh_lst.append([filename[:-4], short_valid, long_valid, valid])\n",
    "    # break"
   ]
  },
  {
   "cell_type": "code",
   "execution_count": null,
   "metadata": {
    "colab": {
     "base_uri": "https://localhost:8080/"
    },
    "executionInfo": {
     "elapsed": 113,
     "status": "ok",
     "timestamp": 1717098822129,
     "user": {
      "displayName": "Yanjun Cui",
      "userId": "10928157657240567222"
     },
     "user_tz": 240
    },
    "id": "XH6z6dPU37FF",
    "outputId": "e495c626-8a1e-44cb-c9e3-6648081a3889"
   },
   "outputs": [],
   "source": [
    "valid_num = [i[3] for i in adh_lst].count(1)\n",
    "invalid_num = [i[3] for i in adh_lst].count(0)\n",
    "print(valid_num, invalid_num)"
   ]
  },
  {
   "cell_type": "code",
   "execution_count": null,
   "metadata": {
    "executionInfo": {
     "elapsed": 108,
     "status": "ok",
     "timestamp": 1717098823065,
     "user": {
      "displayName": "Yanjun Cui",
      "userId": "10928157657240567222"
     },
     "user_tz": 240
    },
    "id": "WDF6Wbyb37FF"
   },
   "outputs": [],
   "source": [
    "df_adh = pd.DataFrame(adh_lst, columns=['app_id', 'short_valid', 'long_valid', 'adherence'])"
   ]
  },
  {
   "cell_type": "code",
   "execution_count": null,
   "metadata": {
    "colab": {
     "base_uri": "https://localhost:8080/",
     "height": 216
    },
    "executionInfo": {
     "elapsed": 100,
     "status": "ok",
     "timestamp": 1717098827865,
     "user": {
      "displayName": "Yanjun Cui",
      "userId": "10928157657240567222"
     },
     "user_tz": 240
    },
    "id": "TJ9d_VAk37FF",
    "outputId": "566c93e3-7aee-4812-a78f-7c676dde9700"
   },
   "outputs": [],
   "source": [
    "df_merge = pd.merge(demo_df, df_adh, on=\"app_id\")\n",
    "df_merge.head(3)"
   ]
  },
  {
   "cell_type": "code",
   "execution_count": null,
   "metadata": {
    "executionInfo": {
     "elapsed": 95,
     "status": "ok",
     "timestamp": 1717098829153,
     "user": {
      "displayName": "Yanjun Cui",
      "userId": "10928157657240567222"
     },
     "user_tz": 240
    },
    "id": "z7VGkCzd37FF"
   },
   "outputs": [],
   "source": [
    "gender = []\n",
    "for i in df_merge.gender.values:\n",
    "  if i == '1: Male':\n",
    "    gender.append(1)\n",
    "  elif i == '2: Female':\n",
    "    gender.append(2)\n",
    "  elif i == '3: Other':\n",
    "    gender.append(3)\n",
    "  else:\n",
    "    gender.append(0)\n",
    "\n",
    "race = []\n",
    "for i in df_merge.race.values:\n",
    "  if i == '1: White':\n",
    "    race.append(1)\n",
    "  elif i == '2: Black':\n",
    "    race.append(2)\n",
    "  elif i == '3: Others':\n",
    "    race.append(3)\n",
    "  else:\n",
    "    race.append(0)\n",
    "\n",
    "ins_type = []\n",
    "for i in df_merge.insulin_type.values:\n",
    "  if i == 'Insulin pump':\n",
    "    ins_type.append(1)\n",
    "  elif i == 'Multiple daily injections':\n",
    "    ins_type.append(2)\n",
    "  else:\n",
    "    ins_type.append(0)"
   ]
  },
  {
   "cell_type": "code",
   "execution_count": null,
   "metadata": {
    "colab": {
     "base_uri": "https://localhost:8080/",
     "height": 313
    },
    "executionInfo": {
     "elapsed": 111,
     "status": "ok",
     "timestamp": 1717098830119,
     "user": {
      "displayName": "Yanjun Cui",
      "userId": "10928157657240567222"
     },
     "user_tz": 240
    },
    "id": "zwCWFvoV37FF",
    "outputId": "379ce93d-9862-43f0-d5dd-eeac5ee34542",
    "scrolled": true
   },
   "outputs": [],
   "source": [
    "df_merge.insert(3, 'Gender', gender)\n",
    "df_merge.insert(7, 'Race', race)\n",
    "df_merge.insert(10, 'Insulin_type', ins_type)\n",
    "df_merge.head()"
   ]
  },
  {
   "cell_type": "code",
   "execution_count": null,
   "metadata": {
    "colab": {
     "base_uri": "https://localhost:8080/",
     "height": 143
    },
    "executionInfo": {
     "elapsed": 138,
     "status": "ok",
     "timestamp": 1717098830930,
     "user": {
      "displayName": "Yanjun Cui",
      "userId": "10928157657240567222"
     },
     "user_tz": 240
    },
    "id": "TakDqGh_37FF",
    "outputId": "ca1362c5-b2df-4109-c98a-b3252fe34a61"
   },
   "outputs": [],
   "source": [
    "new_df = df_merge.drop(['app_id', 'gender', 'race', 'insulin_type', 'sweetgoals_id', 'location', 'long_valid'], axis=1)\n",
    "new_df.head(3)"
   ]
  },
  {
   "cell_type": "code",
   "execution_count": null,
   "metadata": {
    "executionInfo": {
     "elapsed": 338,
     "status": "ok",
     "timestamp": 1717098832302,
     "user": {
      "displayName": "Yanjun Cui",
      "userId": "10928157657240567222"
     },
     "user_tz": 240
    },
    "id": "6j5-z8ftpzfq"
   },
   "outputs": [],
   "source": [
    "new_df.to_csv('./multi_model_predictors.csv', index=None)"
   ]
  },
  {
   "cell_type": "code",
   "execution_count": null,
   "metadata": {
    "executionInfo": {
     "elapsed": 112,
     "status": "ok",
     "timestamp": 1717098837537,
     "user": {
      "displayName": "Yanjun Cui",
      "userId": "10928157657240567222"
     },
     "user_tz": 240
    },
    "id": "28BFRJM8iNyX"
   },
   "outputs": [],
   "source": [
    "from scipy.stats.contingency import odds_ratio\n",
    "def get_odds(exposed_cases, unexposed_cases, exposed_noncases, unexposed_noncases):\n",
    "  res = odds_ratio([[exposed_cases, unexposed_cases], [exposed_noncases, unexposed_noncases]])\n",
    "  print('odds ratio', res.statistic)\n",
    "  print('95% CI', res.confidence_interval(confidence_level=0.95))"
   ]
  },
  {
   "cell_type": "code",
   "execution_count": null,
   "metadata": {
    "executionInfo": {
     "elapsed": 124,
     "status": "ok",
     "timestamp": 1717098838352,
     "user": {
      "displayName": "Yanjun Cui",
      "userId": "10928157657240567222"
     },
     "user_tz": 240
    },
    "id": "pyo1S6sqr1A9"
   },
   "outputs": [],
   "source": [
    "import scipy.stats as stats\n",
    "def get_fisher_p(exposed_cases, unexposed_cases, exposed_noncases, unexposed_noncases):\n",
    "  table = [[exposed_cases, unexposed_cases], [exposed_noncases, unexposed_noncases]]\n",
    "  _, pvalue = stats.fisher_exact(table)\n",
    "  print(\"p-Value:\", pvalue)\n",
    "  # return pvalue"
   ]
  },
  {
   "cell_type": "code",
   "execution_count": null,
   "metadata": {
    "executionInfo": {
     "elapsed": 1,
     "status": "ok",
     "timestamp": 1717098839438,
     "user": {
      "displayName": "Yanjun Cui",
      "userId": "10928157657240567222"
     },
     "user_tz": 240
    },
    "id": "r2z2p2dyiNyX"
   },
   "outputs": [],
   "source": [
    "# reference\n",
    "def get_unexposed(unexposed_df):\n",
    "  print('unexposed:', unexposed_df.shape)\n",
    "  unexposed_cases = list(unexposed_df.adherence.values).count(1) # high ahderence (what we want to find)\n",
    "  unexposed_noncases = list(unexposed_df.adherence.values).count(0)\n",
    "  print(unexposed_cases, unexposed_noncases)\n",
    "  return unexposed_cases, unexposed_noncases"
   ]
  },
  {
   "cell_type": "code",
   "execution_count": null,
   "metadata": {
    "executionInfo": {
     "elapsed": 1,
     "status": "ok",
     "timestamp": 1717098839901,
     "user": {
      "displayName": "Yanjun Cui",
      "userId": "10928157657240567222"
     },
     "user_tz": 240
    },
    "id": "b3IawlhviNyX"
   },
   "outputs": [],
   "source": [
    "def get_exposed(exposed_df):\n",
    "  print('exposed:', exposed_df.shape)\n",
    "  exposed_cases = list(exposed_df.adherence.values).count(1)\n",
    "  exposed_noncases = list(exposed_df.adherence.values).count(0)\n",
    "  print(exposed_cases, exposed_noncases)\n",
    "  return exposed_cases, exposed_noncases"
   ]
  },
  {
   "cell_type": "code",
   "execution_count": null,
   "metadata": {
    "colab": {
     "base_uri": "https://localhost:8080/"
    },
    "executionInfo": {
     "elapsed": 201,
     "status": "ok",
     "timestamp": 1717098840505,
     "user": {
      "displayName": "Yanjun Cui",
      "userId": "10928157657240567222"
     },
     "user_tz": 240
    },
    "id": "mXCxMZiGiNyY",
    "outputId": "0fce53f6-a4bc-4a89-b927-2a2928d3a63f"
   },
   "outputs": [],
   "source": [
    "age = {1:[19, 21], 2:[22, 25], 3:[26, 29]}\n",
    "\n",
    "for i in range(2, 4):\n",
    "  print('---', age[i])\n",
    "  unexposed_df = new_df[new_df['age']>= 19][new_df['age']<= 21]\n",
    "  exposed_df = new_df[new_df['age']>= age[i][0]][new_df['age']<= age[i][1]]\n",
    "  exposed_cases, exposed_noncases = get_exposed(exposed_df)\n",
    "  unexposed_cases, unexposed_noncases =  get_unexposed(unexposed_df)\n",
    "  get_odds(exposed_cases, unexposed_cases, exposed_noncases, unexposed_noncases)\n",
    "  get_fisher_p(exposed_cases, unexposed_cases, exposed_noncases, unexposed_noncases)"
   ]
  },
  {
   "cell_type": "code",
   "execution_count": null,
   "metadata": {
    "colab": {
     "base_uri": "https://localhost:8080/"
    },
    "executionInfo": {
     "elapsed": 205,
     "status": "ok",
     "timestamp": 1717098841446,
     "user": {
      "displayName": "Yanjun Cui",
      "userId": "10928157657240567222"
     },
     "user_tz": 240
    },
    "id": "x_R_eOvrqXQF",
    "outputId": "87efd903-1a77-467d-a432-6ca7d73cdec2"
   },
   "outputs": [],
   "source": [
    "exposed_df1 = new_df[new_df['A1c']> 7.5][new_df['A1c']<= 9]\n",
    "exposed_df2 = new_df[new_df['A1c']> 9]\n",
    "a1c = {2: '(7.5, 9]', 3:'>9'}\n",
    "exposed_ = {2:exposed_df1, 3: exposed_df2}\n",
    "\n",
    "for i in range(2, 4):\n",
    "  print('---', a1c[i])\n",
    "  unexposed_df = new_df[new_df['A1c']>= 6][new_df['A1c']<= 7.5]\n",
    "  exposed_df = exposed_[i]\n",
    "  exposed_cases, exposed_noncases = get_exposed(exposed_df)\n",
    "  unexposed_cases, unexposed_noncases =  get_unexposed(unexposed_df)\n",
    "  get_odds(exposed_cases, unexposed_cases, exposed_noncases, unexposed_noncases)\n",
    "  get_fisher_p(exposed_cases, unexposed_cases, exposed_noncases, unexposed_noncases)"
   ]
  },
  {
   "cell_type": "code",
   "execution_count": null,
   "metadata": {
    "colab": {
     "base_uri": "https://localhost:8080/"
    },
    "executionInfo": {
     "elapsed": 141,
     "status": "ok",
     "timestamp": 1717098842120,
     "user": {
      "displayName": "Yanjun Cui",
      "userId": "10928157657240567222"
     },
     "user_tz": 240
    },
    "id": "4jeniYantY9G",
    "outputId": "ec6ae27b-3e67-45d1-e9d7-b4f946096fde"
   },
   "outputs": [],
   "source": [
    "print('gender')\n",
    "unexposed_df = new_df[new_df['Gender'] == 1]\n",
    "exposed_df = new_df[new_df['Gender'] == 2]\n",
    "exposed_cases, exposed_noncases = get_exposed(exposed_df)\n",
    "unexposed_cases, unexposed_noncases =  get_unexposed(unexposed_df)\n",
    "get_odds(exposed_cases, unexposed_cases, exposed_noncases, unexposed_noncases)\n",
    "get_fisher_p(exposed_cases, unexposed_cases, exposed_noncases, unexposed_noncases)"
   ]
  },
  {
   "cell_type": "code",
   "execution_count": null,
   "metadata": {
    "colab": {
     "base_uri": "https://localhost:8080/"
    },
    "executionInfo": {
     "elapsed": 107,
     "status": "ok",
     "timestamp": 1717098843370,
     "user": {
      "displayName": "Yanjun Cui",
      "userId": "10928157657240567222"
     },
     "user_tz": 240
    },
    "id": "mz-pRXXuumcb",
    "outputId": "e63edec7-a29c-4b69-c959-6d94e29f0d92"
   },
   "outputs": [],
   "source": [
    "exposed_df1 = new_df[new_df['diagnosis_duration']> 7][new_df['diagnosis_duration']<= 15]\n",
    "exposed_df2 = new_df[new_df['diagnosis_duration']> 15]\n",
    "a1c = {2: '(7, 15]', 3:'> 15'}\n",
    "exposed_ = {2:exposed_df1, 3: exposed_df2}\n",
    "\n",
    "for i in range(2, 4):\n",
    "  print('---', a1c[i])\n",
    "  unexposed_df = new_df[new_df['diagnosis_duration']>= 2][new_df['diagnosis_duration']<= 7]\n",
    "  exposed_df = exposed_[i]\n",
    "  exposed_cases, exposed_noncases = get_exposed(exposed_df)\n",
    "  unexposed_cases, unexposed_noncases =  get_unexposed(unexposed_df)\n",
    "  get_odds(exposed_cases, unexposed_cases, exposed_noncases, unexposed_noncases)\n",
    "  get_fisher_p(exposed_cases, unexposed_cases, exposed_noncases, unexposed_noncases)"
   ]
  },
  {
   "cell_type": "code",
   "execution_count": null,
   "metadata": {
    "colab": {
     "base_uri": "https://localhost:8080/"
    },
    "executionInfo": {
     "elapsed": 102,
     "status": "ok",
     "timestamp": 1717098844048,
     "user": {
      "displayName": "Yanjun Cui",
      "userId": "10928157657240567222"
     },
     "user_tz": 240
    },
    "id": "bHtUGBcct3J-",
    "outputId": "8dc38f79-a22d-493d-e46e-17246c426455"
   },
   "outputs": [],
   "source": [
    "print('short valid')\n",
    "unexposed_df = new_df[new_df['short_valid'] >= 0.7]\n",
    "exposed_df = new_df[new_df['short_valid'] < 0.7]\n",
    "exposed_cases, exposed_noncases = get_exposed(exposed_df)\n",
    "unexposed_cases, unexposed_noncases =  get_unexposed(unexposed_df)\n",
    "get_odds(exposed_cases, unexposed_cases, exposed_noncases, unexposed_noncases)\n",
    "get_fisher_p(exposed_cases, unexposed_cases, exposed_noncases, unexposed_noncases)"
   ]
  },
  {
   "cell_type": "code",
   "execution_count": null,
   "metadata": {
    "colab": {
     "base_uri": "https://localhost:8080/"
    },
    "executionInfo": {
     "elapsed": 95,
     "status": "ok",
     "timestamp": 1717098844691,
     "user": {
      "displayName": "Yanjun Cui",
      "userId": "10928157657240567222"
     },
     "user_tz": 240
    },
    "id": "0DiVxOLXudOS",
    "outputId": "5b7be88d-24e9-4d94-8d0c-e80b8e2642d8",
    "scrolled": true
   },
   "outputs": [],
   "source": [
    "print('Insurance')\n",
    "unexposed_df = new_df[new_df['Insurance_0'] == 1] # private as ref\n",
    "exposed_df = new_df[new_df['Insurance_0'] == 2]\n",
    "exposed_cases, exposed_noncases = get_exposed(exposed_df)\n",
    "unexposed_cases, unexposed_noncases =  get_unexposed(unexposed_df)\n",
    "get_odds(exposed_cases, unexposed_cases, exposed_noncases, unexposed_noncases)\n",
    "get_fisher_p(exposed_cases, unexposed_cases, exposed_noncases, unexposed_noncases)"
   ]
  },
  {
   "cell_type": "markdown",
   "metadata": {
    "id": "GIQJ4DQokjkc"
   },
   "source": [
    "# Table 2"
   ]
  },
  {
   "cell_type": "markdown",
   "metadata": {
    "id": "AXt1hLKG62C3"
   },
   "source": [
    "## Demographic"
   ]
  },
  {
   "cell_type": "code",
   "execution_count": null,
   "metadata": {
    "colab": {
     "base_uri": "https://localhost:8080/",
     "height": 216
    },
    "executionInfo": {
     "elapsed": 161,
     "status": "ok",
     "timestamp": 1717096273857,
     "user": {
      "displayName": "Yanjun Cui",
      "userId": "10928157657240567222"
     },
     "user_tz": 240
    },
    "id": "ct505Kq6_1Dn",
    "outputId": "f611cf61-491f-4f78-d6ce-cde2d8e58bc0"
   },
   "outputs": [],
   "source": [
    "demo_file = './demographic_data_summary_final.csv'\n",
    "df = pd.read_csv(demo_file)\n",
    "df.head(3)"
   ]
  },
  {
   "cell_type": "code",
   "execution_count": null,
   "metadata": {
    "colab": {
     "base_uri": "https://localhost:8080/"
    },
    "executionInfo": {
     "elapsed": 156,
     "status": "ok",
     "timestamp": 1717096275687,
     "user": {
      "displayName": "Yanjun Cui",
      "userId": "10928157657240567222"
     },
     "user_tz": 240
    },
    "id": "Rpi_YRSlmJnQ",
    "outputId": "7062dd5e-d108-40bc-a4b4-eedef5002099"
   },
   "outputs": [],
   "source": [
    "print('total number of subject:', df.app_id.count())"
   ]
  },
  {
   "cell_type": "code",
   "execution_count": null,
   "metadata": {
    "colab": {
     "base_uri": "https://localhost:8080/"
    },
    "executionInfo": {
     "elapsed": 161,
     "status": "ok",
     "timestamp": 1717096277440,
     "user": {
      "displayName": "Yanjun Cui",
      "userId": "10928157657240567222"
     },
     "user_tz": 240
    },
    "id": "vsNlOHtLj-9E",
    "outputId": "0ab0fe88-d12b-4ef1-ec8f-d00300f9450d"
   },
   "outputs": [],
   "source": [
    "race_dict = {}\n",
    "race_lst = list(df.race.values)\n",
    "for i in df.race.unique():\n",
    "  race_dict.update({i: race_lst.count(i)})\n",
    "\n",
    "print(race_dict)"
   ]
  },
  {
   "cell_type": "code",
   "execution_count": null,
   "metadata": {
    "colab": {
     "base_uri": "https://localhost:8080/"
    },
    "executionInfo": {
     "elapsed": 156,
     "status": "ok",
     "timestamp": 1717096304921,
     "user": {
      "displayName": "Yanjun Cui",
      "userId": "10928157657240567222"
     },
     "user_tz": 240
    },
    "id": "lXSaRnlmlM1a",
    "outputId": "c359e370-ecf3-4f34-8bff-11336f725ac9"
   },
   "outputs": [],
   "source": [
    "type_dict = {}\n",
    "type_lst = list(df.insulin_type.values)\n",
    "for i in df.insulin_type.unique():\n",
    "  type_dict.update({i: type_lst.count(i)})\n",
    "\n",
    "print(type_dict)"
   ]
  },
  {
   "cell_type": "code",
   "execution_count": null,
   "metadata": {
    "colab": {
     "base_uri": "https://localhost:8080/"
    },
    "executionInfo": {
     "elapsed": 156,
     "status": "ok",
     "timestamp": 1717096312373,
     "user": {
      "displayName": "Yanjun Cui",
      "userId": "10928157657240567222"
     },
     "user_tz": 240
    },
    "id": "opgoveQfpCA9",
    "outputId": "48fbc2f5-a655-498f-aadf-688f8298c2f9"
   },
   "outputs": [],
   "source": [
    "age = df.age.values[~np.isnan(df.age.values)]\n",
    "\n",
    "print('age avg and std:', np.mean(age), '+/', np.std(age)) # only keep intergers?\n",
    "print('age range:', np.min(age), '-' , np.max(age))\n",
    "print('not available:', len(df.age.values[np.isnan(df.age.values)]))"
   ]
  },
  {
   "cell_type": "code",
   "execution_count": null,
   "metadata": {
    "colab": {
     "base_uri": "https://localhost:8080/"
    },
    "executionInfo": {
     "elapsed": 2,
     "status": "ok",
     "timestamp": 1717096314759,
     "user": {
      "displayName": "Yanjun Cui",
      "userId": "10928157657240567222"
     },
     "user_tz": 240
    },
    "id": "RkDRFt5K5FUf",
    "outputId": "9855ab18-505c-4a48-b6d5-c79be4d15c12"
   },
   "outputs": [],
   "source": [
    "gender_lst = []\n",
    "for i in range(len(df.sweetgoals_id.values)):\n",
    "  gender_lst.append(df.gender.values[i])\n",
    "print(len(gender_lst))"
   ]
  },
  {
   "cell_type": "code",
   "execution_count": null,
   "metadata": {
    "colab": {
     "base_uri": "https://localhost:8080/"
    },
    "executionInfo": {
     "elapsed": 2,
     "status": "ok",
     "timestamp": 1717096318352,
     "user": {
      "displayName": "Yanjun Cui",
      "userId": "10928157657240567222"
     },
     "user_tz": 240
    },
    "id": "RXKbEfLz5FUf",
    "outputId": "f3100a51-1c75-4cfe-c16a-fda92490fd1e"
   },
   "outputs": [],
   "source": [
    "sex_dict = {}\n",
    "for i in df.gender.unique():\n",
    "  sex_dict.update({i: gender_lst.count(i)})\n",
    "\n",
    "sex_dict = {k: v for k, v in sex_dict.items() if v}\n",
    "\n",
    "print(sex_dict)"
   ]
  },
  {
   "cell_type": "code",
   "execution_count": null,
   "metadata": {
    "colab": {
     "base_uri": "https://localhost:8080/"
    },
    "executionInfo": {
     "elapsed": 189,
     "status": "ok",
     "timestamp": 1717096325741,
     "user": {
      "displayName": "Yanjun Cui",
      "userId": "10928157657240567222"
     },
     "user_tz": 240
    },
    "id": "I05tSt3Z5FUf",
    "outputId": "b11e6ae3-d70f-446c-80e3-1b0e35d4b016"
   },
   "outputs": [],
   "source": [
    "sex_dict['Unknown'] = sex_dict[list(sex_dict.keys())[2]]\n",
    "del sex_dict[list(sex_dict.keys())[3]]\n",
    "print(sex_dict)"
   ]
  },
  {
   "cell_type": "code",
   "execution_count": null,
   "metadata": {
    "colab": {
     "base_uri": "https://localhost:8080/"
    },
    "executionInfo": {
     "elapsed": 176,
     "status": "ok",
     "timestamp": 1717096331528,
     "user": {
      "displayName": "Yanjun Cui",
      "userId": "10928157657240567222"
     },
     "user_tz": 240
    },
    "id": "BXdC1Z915FUg",
    "outputId": "db38a2c0-5907-470a-d645-b9378663f57b"
   },
   "outputs": [],
   "source": [
    "diag_lst = []\n",
    "for i in range(len(df.sweetgoals_id.values)):\n",
    "  # print(i)\n",
    "  if not np.isnan(df.diagnosis_duration.values[i]):\n",
    "    diag_lst.append(df.diagnosis_duration.values[i])\n",
    "print(len(diag_lst), diag_lst)"
   ]
  },
  {
   "cell_type": "code",
   "execution_count": null,
   "metadata": {
    "colab": {
     "base_uri": "https://localhost:8080/"
    },
    "executionInfo": {
     "elapsed": 187,
     "status": "ok",
     "timestamp": 1717096332977,
     "user": {
      "displayName": "Yanjun Cui",
      "userId": "10928157657240567222"
     },
     "user_tz": 240
    },
    "id": "oMztfTBs5FUg",
    "outputId": "1dd67f65-25b5-4613-b691-5eeceaccc5bb"
   },
   "outputs": [],
   "source": [
    "print(\"avg and std:\", round(np.mean(diag_lst), 2), round(np.std(diag_lst), 2))\n",
    "print('diag duration range:', np.min(diag_lst), '-' , np.max(diag_lst))\n",
    "print('The number of subjects does not have diagnosis duration:', 108 - len(diag_lst))"
   ]
  },
  {
   "cell_type": "code",
   "execution_count": null,
   "metadata": {
    "colab": {
     "base_uri": "https://localhost:8080/"
    },
    "executionInfo": {
     "elapsed": 154,
     "status": "ok",
     "timestamp": 1717096334409,
     "user": {
      "displayName": "Yanjun Cui",
      "userId": "10928157657240567222"
     },
     "user_tz": 240
    },
    "id": "XxLFBL145FUf",
    "outputId": "7be0202d-18dc-4ab4-f884-917a90a94f96"
   },
   "outputs": [],
   "source": [
    "a1c_lst = []\n",
    "for i in range(len(df.sweetgoals_id.values)):\n",
    "  # print(i)\n",
    "  if not np.isnan(df.A1c.values[i]):\n",
    "    a1c_lst.append(df.A1c.values[i])\n",
    "\n",
    "print(\"The number of subjects have a1c values:\", len(a1c_lst))"
   ]
  },
  {
   "cell_type": "code",
   "execution_count": null,
   "metadata": {
    "colab": {
     "base_uri": "https://localhost:8080/"
    },
    "executionInfo": {
     "elapsed": 183,
     "status": "ok",
     "timestamp": 1717096335412,
     "user": {
      "displayName": "Yanjun Cui",
      "userId": "10928157657240567222"
     },
     "user_tz": 240
    },
    "id": "r7WPR-lr5FUf",
    "outputId": "5865d762-a7e7-41dc-967c-9659b34bdf83"
   },
   "outputs": [],
   "source": [
    "print(\"avg and std:\", round(np.mean(a1c_lst), 2), round(np.std(a1c_lst), 2))\n",
    "print('a1c range:', np.min(a1c_lst), '-' , np.max(a1c_lst))\n",
    "print('The number of subjects does not have A1c:', 108 - len(a1c_lst))"
   ]
  },
  {
   "cell_type": "code",
   "execution_count": null,
   "metadata": {
    "colab": {
     "base_uri": "https://localhost:8080/"
    },
    "executionInfo": {
     "elapsed": 159,
     "status": "ok",
     "timestamp": 1717097174154,
     "user": {
      "displayName": "Yanjun Cui",
      "userId": "10928157657240567222"
     },
     "user_tz": 240
    },
    "id": "d7vY1b8b93Vg",
    "outputId": "8aeb28ae-2c91-42e9-ed5f-d7a8c1c6f022"
   },
   "outputs": [],
   "source": [
    "insurance_list = pd.Series(list(df.Insurance_0.values)).fillna(0).tolist()\n",
    "\n",
    "insurance_dict = {}\n",
    "for i in [0, 1, 2]:\n",
    "  insurance_dict.update({i: insurance_list.count(i)})\n",
    "\n",
    "# insurance_dict = {k: v for k, v in insurance_dict.items() if v}\n",
    "\n",
    "print(insurance_dict)"
   ]
  },
  {
   "cell_type": "markdown",
   "metadata": {
    "id": "CtDzaXZ6657e"
   },
   "source": [
    "## CGM data"
   ]
  },
  {
   "cell_type": "code",
   "execution_count": null,
   "metadata": {
    "colab": {
     "base_uri": "https://localhost:8080/",
     "height": 143
    },
    "executionInfo": {
     "elapsed": 7,
     "status": "ok",
     "timestamp": 1704585734761,
     "user": {
      "displayName": "Yanjun Cui",
      "userId": "10928157657240567222"
     },
     "user_tz": 300
    },
    "id": "cKedmPCXN_e5",
    "outputId": "3ae2bfe7-60ed-409b-d483-1e55a00f82f2"
   },
   "outputs": [],
   "source": [
    "id = df.app_id.values\n",
    "demo_file = './demographic.csv'\n",
    "cgm_model_df = pd.read_csv(demo_file)[['app_id', 'cgm_model']]\n",
    "# cgm_model_df.head(3)"
   ]
  },
  {
   "cell_type": "code",
   "execution_count": null,
   "metadata": {
    "colab": {
     "base_uri": "https://localhost:8080/"
    },
    "executionInfo": {
     "elapsed": 204,
     "status": "ok",
     "timestamp": 1704586997153,
     "user": {
      "displayName": "Yanjun Cui",
      "userId": "10928157657240567222"
     },
     "user_tz": 300
    },
    "id": "YJh5Wt56TGSH",
    "outputId": "e0da07b2-0e2a-412b-e009-e11928c943d8"
   },
   "outputs": [],
   "source": [
    "model_lst = []\n",
    "for i in cgm_model_df.values:\n",
    "  if i[0] in id:\n",
    "    model_lst.append(i[1])\n",
    "print(len(model_lst))"
   ]
  },
  {
   "cell_type": "code",
   "execution_count": null,
   "metadata": {
    "colab": {
     "base_uri": "https://localhost:8080/"
    },
    "executionInfo": {
     "elapsed": 253,
     "status": "ok",
     "timestamp": 1704587020253,
     "user": {
      "displayName": "Yanjun Cui",
      "userId": "10928157657240567222"
     },
     "user_tz": 300
    },
    "id": "mME84OHOOjMv",
    "outputId": "9a2feb01-0421-41ee-e296-3e9dd41f4d40"
   },
   "outputs": [],
   "source": [
    "model_dict = {}\n",
    "for i in cgm_model_df.cgm_model.unique():\n",
    "  model_dict.update({i: model_lst.count(i)})\n",
    "\n",
    "model_dict = {k: v for k, v in model_dict.items() if v}\n",
    "\n",
    "print(model_dict)"
   ]
  },
  {
   "cell_type": "code",
   "execution_count": null,
   "metadata": {
    "colab": {
     "base_uri": "https://localhost:8080/"
    },
    "executionInfo": {
     "elapsed": 3,
     "status": "ok",
     "timestamp": 1704587108811,
     "user": {
      "displayName": "Yanjun Cui",
      "userId": "10928157657240567222"
     },
     "user_tz": 300
    },
    "id": "7xjRqFf4S5Fk",
    "outputId": "832e0b1b-5349-4dc4-d7b7-9a26e12720b8"
   },
   "outputs": [],
   "source": [
    "print('dexcom:', 91 + 7 + 4 + 1, '\\nmedtronic:', 1, '\\nunknown:', 108 - 106 + 2)"
   ]
  },
  {
   "cell_type": "code",
   "execution_count": null,
   "metadata": {
    "colab": {
     "base_uri": "https://localhost:8080/",
     "height": 216
    },
    "executionInfo": {
     "elapsed": 807,
     "status": "ok",
     "timestamp": 1704583717922,
     "user": {
      "displayName": "Yanjun Cui",
      "userId": "10928157657240567222"
     },
     "user_tz": 300
    },
    "id": "JP2ejcASrs7q",
    "outputId": "4cd06f00-aab2-4a22-e2f0-030f3f3afb53"
   },
   "outputs": [],
   "source": [
    "cgm_summary = './CGM_summary.csv'\n",
    "\n",
    "cgm_df = pd.read_csv(cgm_summary)\n",
    "cgm_df.head(3)"
   ]
  },
  {
   "cell_type": "code",
   "execution_count": null,
   "metadata": {
    "colab": {
     "base_uri": "https://localhost:8080/"
    },
    "executionInfo": {
     "elapsed": 165,
     "status": "ok",
     "timestamp": 1704587739835,
     "user": {
      "displayName": "Yanjun Cui",
      "userId": "10928157657240567222"
     },
     "user_tz": 300
    },
    "id": "tDJNlu7xG2AH",
    "outputId": "0f616768-b29e-4edc-c9aa-75427939c215"
   },
   "outputs": [],
   "source": [
    "print('total duration:', np.sum(cgm_df.Duration.values))\n",
    "\n",
    "print('duration avg and std:', np.mean(cgm_df.Duration.values), np.std(cgm_df.Duration.values))\n",
    "print('range:', np.min(cgm_df.Duration.values), '-', np.max(cgm_df.Duration.values))\n",
    "\n",
    "print('total dyas without data record:', np.sum(cgm_df.MissingDays.values))\n",
    "print('total dyas with more than 70% daily data record:', np.sum(cgm_df.ValidDays.values))"
   ]
  },
  {
   "cell_type": "code",
   "execution_count": null,
   "metadata": {
    "colab": {
     "base_uri": "https://localhost:8080/",
     "height": 143
    },
    "executionInfo": {
     "elapsed": 136,
     "status": "ok",
     "timestamp": 1704585513695,
     "user": {
      "displayName": "Yanjun Cui",
      "userId": "10928157657240567222"
     },
     "user_tz": 300
    },
    "id": "NUoDzwpgHEMj",
    "outputId": "ca871c3d-b40f-4ca0-a637-dde7f50219e5"
   },
   "outputs": [],
   "source": [
    "# for days with more than 70% record\n",
    "cgm_df2 = pd.read_csv('./summary_TIR_meanBG_gluVar.csv')\n",
    "cgm_df2.head(3)"
   ]
  },
  {
   "cell_type": "code",
   "execution_count": null,
   "metadata": {
    "colab": {
     "base_uri": "https://localhost:8080/"
    },
    "executionInfo": {
     "elapsed": 143,
     "status": "ok",
     "timestamp": 1704585514733,
     "user": {
      "displayName": "Yanjun Cui",
      "userId": "10928157657240567222"
     },
     "user_tz": 300
    },
    "id": "LPBDd46eIu5k",
    "outputId": "08c48594-e7c4-418f-f18f-3e1d37079884"
   },
   "outputs": [],
   "source": [
    "meanBG = cgm_df2.meanBG.values\n",
    "\n",
    "print('daily mean BG avg and std:', np.round(np.mean(meanBG), 2), np.round(np.std(meanBG), 2))\n",
    "print('range:', np.round(np.min(meanBG), 2), '-', np.max(meanBG))"
   ]
  },
  {
   "cell_type": "code",
   "execution_count": null,
   "metadata": {
    "colab": {
     "base_uri": "https://localhost:8080/"
    },
    "executionInfo": {
     "elapsed": 3,
     "status": "ok",
     "timestamp": 1704585515246,
     "user": {
      "displayName": "Yanjun Cui",
      "userId": "10928157657240567222"
     },
     "user_tz": 300
    },
    "id": "WY2vcGmxM_zQ",
    "outputId": "0e3b1165-49cd-4775-8210-408cdcc14d80"
   },
   "outputs": [],
   "source": [
    "TIR = cgm_df2.TIR.values\n",
    "\n",
    "print('daily TIR avg and std:', np.round(np.mean(TIR), 4), np.round(np.std(TIR), 4))\n",
    "print('range:', np.min(TIR), '-', np.max(TIR))"
   ]
  },
  {
   "cell_type": "markdown",
   "metadata": {},
   "source": [
    "# Other paper data"
   ]
  },
  {
   "cell_type": "markdown",
   "metadata": {
    "id": "eiMnPsHluNoU"
   },
   "source": [
    "## High adherence ratio"
   ]
  },
  {
   "cell_type": "code",
   "execution_count": null,
   "metadata": {
    "colab": {
     "base_uri": "https://localhost:8080/",
     "height": 424
    },
    "executionInfo": {
     "elapsed": 562,
     "status": "ok",
     "timestamp": 1715106956754,
     "user": {
      "displayName": "Yanjun Cui",
      "userId": "10928157657240567222"
     },
     "user_tz": 240
    },
    "id": "d3T9tY4V1zsi",
    "outputId": "f0dc4612-c852-4455-ebb9-50bc7c59a52a"
   },
   "outputs": [],
   "source": [
    "df_valid = pd.read_csv('./yearly_adherence_trends.csv')\n",
    "df_valid"
   ]
  },
  {
   "cell_type": "code",
   "execution_count": null,
   "metadata": {
    "colab": {
     "base_uri": "https://localhost:8080/"
    },
    "executionInfo": {
     "elapsed": 179,
     "status": "ok",
     "timestamp": 1715107018453,
     "user": {
      "displayName": "Yanjun Cui",
      "userId": "10928157657240567222"
     },
     "user_tz": 240
    },
    "id": "GEi5i41JuQuO",
    "outputId": "032ab3d2-7b45-4431-b4de-4768313d86aa"
   },
   "outputs": [],
   "source": [
    "lst = list(df_valid.Valid_ratio.values)\n",
    "print(min(df_valid.Valid_ratio.values), lst.index(min(df_valid.Valid_ratio.values)), df_valid.values[lst.index(min(df_valid.Valid_ratio.values))])\n",
    "print(max(df_valid.Valid_ratio.values), lst.index(max(df_valid.Valid_ratio.values)), df_valid.values[lst.index(max(df_valid.Valid_ratio.values))])"
   ]
  },
  {
   "cell_type": "code",
   "execution_count": null,
   "metadata": {
    "id": "lGYEUF5euaZl"
   },
   "outputs": [],
   "source": []
  }
 ],
 "metadata": {
  "colab": {
   "authorship_tag": "ABX9TyMLYnvOpBoR1AEnDEjC2KGD",
   "provenance": [],
   "toc_visible": true
  },
  "kernelspec": {
   "display_name": "Python 3 (ipykernel)",
   "language": "python",
   "name": "python3"
  },
  "language_info": {
   "codemirror_mode": {
    "name": "ipython",
    "version": 3
   },
   "file_extension": ".py",
   "mimetype": "text/x-python",
   "name": "python",
   "nbconvert_exporter": "python",
   "pygments_lexer": "ipython3",
   "version": "3.10.6"
  }
 },
 "nbformat": 4,
 "nbformat_minor": 1
}
