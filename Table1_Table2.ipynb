{
 "cells": [
  {
   "cell_type": "code",
   "execution_count": 1,
   "metadata": {
    "colab": {
     "base_uri": "https://localhost:8080/"
    },
    "executionInfo": {
     "elapsed": 25511,
     "status": "ok",
     "timestamp": 1716842866614,
     "user": {
      "displayName": "Yanjun Cui",
      "userId": "10928157657240567222"
     },
     "user_tz": 240
    },
    "id": "sJDd8oXk0iM2",
    "outputId": "bbaee613-2fe9-49b9-8b9c-29fe71668af6",
    "scrolled": true
   },
   "outputs": [
    {
     "name": "stdout",
     "output_type": "stream",
     "text": [
      "Mounted at /content/drive\n"
     ]
    }
   ],
   "source": [
    "from google.colab import drive\n",
    "drive.mount('/content/drive')"
   ]
  },
  {
   "cell_type": "code",
   "execution_count": 2,
   "metadata": {
    "executionInfo": {
     "elapsed": 532,
     "status": "ok",
     "timestamp": 1716842867144,
     "user": {
      "displayName": "Yanjun Cui",
      "userId": "10928157657240567222"
     },
     "user_tz": 240
    },
    "id": "rhX8B7So00_A"
   },
   "outputs": [],
   "source": [
    "import pandas as pd\n",
    "import numpy as np\n",
    "import csv\n",
    "import os\n",
    "from datetime import date, timedelta, datetime\n",
    "import matplotlib.pyplot as plt\n",
    "import matplotlib.dates as mdates"
   ]
  },
  {
   "cell_type": "markdown",
   "metadata": {},
   "source": [
    "# Table 1"
   ]
  },
  {
   "cell_type": "code",
   "execution_count": 1,
   "metadata": {
    "colab": {
     "base_uri": "https://localhost:8080/",
     "height": 216
    },
    "executionInfo": {
     "elapsed": 275,
     "status": "ok",
     "timestamp": 1717098816392,
     "user": {
      "displayName": "Yanjun Cui",
      "userId": "10928157657240567222"
     },
     "user_tz": 240
    },
    "id": "5l4ySz8V37FE",
    "outputId": "88de3429-92b0-46ec-b6b3-a1f874bec5b1"
   },
   "outputs": [],
   "source": [
    "demo_df = pd.read_csv('./demographic_data_summary_final.csv')\n",
    "demo_df.head(3)"
   ]
  },
  {
   "cell_type": "code",
   "execution_count": 9,
   "metadata": {
    "executionInfo": {
     "elapsed": 2495,
     "status": "ok",
     "timestamp": 1717098819734,
     "user": {
      "displayName": "Yanjun Cui",
      "userId": "10928157657240567222"
     },
     "user_tz": 240
    },
    "id": "PTFrR46Y37FE"
   },
   "outputs": [],
   "source": [
    "adh_dir = './cgm_count_by_day/'\n",
    "adh_lst = []\n",
    "\n",
    "for filename in os.listdir(adh_dir):\n",
    "  if filename[-4:] == '.csv':\n",
    "    df = pd.read_csv(adh_dir + filename)\n",
    "    valid = list(df.Valid.values)\n",
    "    short_valid = valid[:30].count(1) / 30\n",
    "    long_valid = valid.count(1) / len(valid)\n",
    "    valid = 1 if long_valid >= .7 else 0 # long term adherence is valid if long_valid > .7\n",
    "    adh_lst.append([filename[:-4], short_valid, long_valid, valid])\n",
    "    # break"
   ]
  },
  {
   "cell_type": "code",
   "execution_count": 10,
   "metadata": {
    "colab": {
     "base_uri": "https://localhost:8080/"
    },
    "executionInfo": {
     "elapsed": 113,
     "status": "ok",
     "timestamp": 1717098822129,
     "user": {
      "displayName": "Yanjun Cui",
      "userId": "10928157657240567222"
     },
     "user_tz": 240
    },
    "id": "XH6z6dPU37FF",
    "outputId": "e495c626-8a1e-44cb-c9e3-6648081a3889"
   },
   "outputs": [
    {
     "name": "stdout",
     "output_type": "stream",
     "text": [
      "57 51\n"
     ]
    }
   ],
   "source": [
    "valid_num = [i[3] for i in adh_lst].count(1)\n",
    "invalid_num = [i[3] for i in adh_lst].count(0)\n",
    "print(valid_num, invalid_num)"
   ]
  },
  {
   "cell_type": "code",
   "execution_count": 11,
   "metadata": {
    "executionInfo": {
     "elapsed": 108,
     "status": "ok",
     "timestamp": 1717098823065,
     "user": {
      "displayName": "Yanjun Cui",
      "userId": "10928157657240567222"
     },
     "user_tz": 240
    },
    "id": "WDF6Wbyb37FF"
   },
   "outputs": [],
   "source": [
    "df_adh = pd.DataFrame(adh_lst, columns=['app_id', 'short_valid', 'long_valid', 'adherence'])"
   ]
  },
  {
   "cell_type": "code",
   "execution_count": 2,
   "metadata": {
    "colab": {
     "base_uri": "https://localhost:8080/",
     "height": 216
    },
    "executionInfo": {
     "elapsed": 100,
     "status": "ok",
     "timestamp": 1717098827865,
     "user": {
      "displayName": "Yanjun Cui",
      "userId": "10928157657240567222"
     },
     "user_tz": 240
    },
    "id": "TJ9d_VAk37FF",
    "outputId": "566c93e3-7aee-4812-a78f-7c676dde9700"
   },
   "outputs": [],
   "source": [
    "df_merge = pd.merge(demo_df, df_adh, on=\"app_id\")\n",
    "df_merge.head(3)"
   ]
  },
  {
   "cell_type": "code",
   "execution_count": 13,
   "metadata": {
    "executionInfo": {
     "elapsed": 95,
     "status": "ok",
     "timestamp": 1717098829153,
     "user": {
      "displayName": "Yanjun Cui",
      "userId": "10928157657240567222"
     },
     "user_tz": 240
    },
    "id": "z7VGkCzd37FF"
   },
   "outputs": [],
   "source": [
    "gender = []\n",
    "for i in df_merge.gender.values:\n",
    "  if i == '1: Male':\n",
    "    gender.append(1)\n",
    "  elif i == '2: Female':\n",
    "    gender.append(2)\n",
    "  elif i == '3: Other':\n",
    "    gender.append(3)\n",
    "  else:\n",
    "    gender.append(0)\n",
    "\n",
    "race = []\n",
    "for i in df_merge.race.values:\n",
    "  if i == '1: White':\n",
    "    race.append(1)\n",
    "  elif i == '2: Black':\n",
    "    race.append(2)\n",
    "  elif i == '3: Others':\n",
    "    race.append(3)\n",
    "  else:\n",
    "    race.append(0)\n",
    "\n",
    "ins_type = []\n",
    "for i in df_merge.insulin_type.values:\n",
    "  if i == 'Insulin pump':\n",
    "    ins_type.append(1)\n",
    "  elif i == 'Multiple daily injections':\n",
    "    ins_type.append(2)\n",
    "  else:\n",
    "    ins_type.append(0)"
   ]
  },
  {
   "cell_type": "code",
   "execution_count": 3,
   "metadata": {
    "colab": {
     "base_uri": "https://localhost:8080/",
     "height": 313
    },
    "executionInfo": {
     "elapsed": 111,
     "status": "ok",
     "timestamp": 1717098830119,
     "user": {
      "displayName": "Yanjun Cui",
      "userId": "10928157657240567222"
     },
     "user_tz": 240
    },
    "id": "zwCWFvoV37FF",
    "outputId": "379ce93d-9862-43f0-d5dd-eeac5ee34542",
    "scrolled": true
   },
   "outputs": [],
   "source": [
    "df_merge.insert(3, 'Gender', gender)\n",
    "df_merge.insert(7, 'Race', race)\n",
    "df_merge.insert(10, 'Insulin_type', ins_type)\n",
    "df_merge.head()"
   ]
  },
  {
   "cell_type": "code",
   "execution_count": 4,
   "metadata": {
    "colab": {
     "base_uri": "https://localhost:8080/",
     "height": 143
    },
    "executionInfo": {
     "elapsed": 138,
     "status": "ok",
     "timestamp": 1717098830930,
     "user": {
      "displayName": "Yanjun Cui",
      "userId": "10928157657240567222"
     },
     "user_tz": 240
    },
    "id": "TakDqGh_37FF",
    "outputId": "ca1362c5-b2df-4109-c98a-b3252fe34a61"
   },
   "outputs": [],
   "source": [
    "new_df = df_merge.drop(['app_id', 'gender', 'race', 'insulin_type', 'sweetgoals_id', 'location', 'long_valid'], axis=1)\n",
    "new_df.head(3)"
   ]
  },
  {
   "cell_type": "code",
   "execution_count": 16,
   "metadata": {
    "executionInfo": {
     "elapsed": 338,
     "status": "ok",
     "timestamp": 1717098832302,
     "user": {
      "displayName": "Yanjun Cui",
      "userId": "10928157657240567222"
     },
     "user_tz": 240
    },
    "id": "6j5-z8ftpzfq"
   },
   "outputs": [],
   "source": [
    "new_df.to_csv('./multi_model_predictors.csv', index=None)"
   ]
  },
  {
   "cell_type": "code",
   "execution_count": 17,
   "metadata": {
    "executionInfo": {
     "elapsed": 112,
     "status": "ok",
     "timestamp": 1717098837537,
     "user": {
      "displayName": "Yanjun Cui",
      "userId": "10928157657240567222"
     },
     "user_tz": 240
    },
    "id": "28BFRJM8iNyX"
   },
   "outputs": [],
   "source": [
    "from scipy.stats.contingency import odds_ratio\n",
    "def get_odds(exposed_cases, unexposed_cases, exposed_noncases, unexposed_noncases):\n",
    "  res = odds_ratio([[exposed_cases, unexposed_cases], [exposed_noncases, unexposed_noncases]])\n",
    "  print('odds ratio', res.statistic)\n",
    "  print('95% CI', res.confidence_interval(confidence_level=0.95))"
   ]
  },
  {
   "cell_type": "code",
   "execution_count": 18,
   "metadata": {
    "executionInfo": {
     "elapsed": 124,
     "status": "ok",
     "timestamp": 1717098838352,
     "user": {
      "displayName": "Yanjun Cui",
      "userId": "10928157657240567222"
     },
     "user_tz": 240
    },
    "id": "pyo1S6sqr1A9"
   },
   "outputs": [],
   "source": [
    "import scipy.stats as stats\n",
    "def get_fisher_p(exposed_cases, unexposed_cases, exposed_noncases, unexposed_noncases):\n",
    "  table = [[exposed_cases, unexposed_cases], [exposed_noncases, unexposed_noncases]]\n",
    "  _, pvalue = stats.fisher_exact(table)\n",
    "  print(\"p-Value:\", pvalue)\n",
    "  # return pvalue"
   ]
  },
  {
   "cell_type": "code",
   "execution_count": 19,
   "metadata": {
    "executionInfo": {
     "elapsed": 1,
     "status": "ok",
     "timestamp": 1717098839438,
     "user": {
      "displayName": "Yanjun Cui",
      "userId": "10928157657240567222"
     },
     "user_tz": 240
    },
    "id": "r2z2p2dyiNyX"
   },
   "outputs": [],
   "source": [
    "# reference\n",
    "def get_unexposed(unexposed_df):\n",
    "  print('unexposed:', unexposed_df.shape)\n",
    "  unexposed_cases = list(unexposed_df.adherence.values).count(1) # high ahderence (what we want to find)\n",
    "  unexposed_noncases = list(unexposed_df.adherence.values).count(0)\n",
    "  print(unexposed_cases, unexposed_noncases)\n",
    "  return unexposed_cases, unexposed_noncases"
   ]
  },
  {
   "cell_type": "code",
   "execution_count": 20,
   "metadata": {
    "executionInfo": {
     "elapsed": 1,
     "status": "ok",
     "timestamp": 1717098839901,
     "user": {
      "displayName": "Yanjun Cui",
      "userId": "10928157657240567222"
     },
     "user_tz": 240
    },
    "id": "b3IawlhviNyX"
   },
   "outputs": [],
   "source": [
    "def get_exposed(exposed_df):\n",
    "  print('exposed:', exposed_df.shape)\n",
    "  exposed_cases = list(exposed_df.adherence.values).count(1)\n",
    "  exposed_noncases = list(exposed_df.adherence.values).count(0)\n",
    "  print(exposed_cases, exposed_noncases)\n",
    "  return exposed_cases, exposed_noncases"
   ]
  },
  {
   "cell_type": "code",
   "execution_count": 21,
   "metadata": {
    "colab": {
     "base_uri": "https://localhost:8080/"
    },
    "executionInfo": {
     "elapsed": 201,
     "status": "ok",
     "timestamp": 1717098840505,
     "user": {
      "displayName": "Yanjun Cui",
      "userId": "10928157657240567222"
     },
     "user_tz": 240
    },
    "id": "mXCxMZiGiNyY",
    "outputId": "0fce53f6-a4bc-4a89-b927-2a2928d3a63f"
   },
   "outputs": [
    {
     "name": "stdout",
     "output_type": "stream",
     "text": [
      "--- [22, 25]\n",
      "exposed: (38, 9)\n",
      "21 17\n",
      "unexposed: (44, 9)\n",
      "22 22\n",
      "odds ratio 1.2321103887012423\n",
      "95% CI ConfidenceInterval(low=0.47388598228438855, high=3.2298776416877386)\n",
      "p-Value: 0.6634417371780723\n",
      "--- [26, 29]\n",
      "exposed: (26, 9)\n",
      "14 12\n",
      "unexposed: (44, 9)\n",
      "22 22\n",
      "odds ratio 1.1640997801075932\n",
      "95% CI ConfidenceInterval(low=0.3964951907664974, high=3.454789004858414)\n",
      "p-Value: 0.8080827028123225\n"
     ]
    },
    {
     "name": "stderr",
     "output_type": "stream",
     "text": [
      "<ipython-input-21-1e8b58370eed>:6: UserWarning: Boolean Series key will be reindexed to match DataFrame index.\n",
      "  exposed_df = new_df[new_df['age']>= age[i][0]][new_df['age']<= age[i][1]]\n",
      "<ipython-input-21-1e8b58370eed>:6: UserWarning: Boolean Series key will be reindexed to match DataFrame index.\n",
      "  exposed_df = new_df[new_df['age']>= age[i][0]][new_df['age']<= age[i][1]]\n"
     ]
    }
   ],
   "source": [
    "age = {1:[19, 21], 2:[22, 25], 3:[26, 29]}\n",
    "\n",
    "for i in range(2, 4):\n",
    "  print('---', age[i])\n",
    "  unexposed_df = new_df[new_df['age']>= 19][new_df['age']<= 21]\n",
    "  exposed_df = new_df[new_df['age']>= age[i][0]][new_df['age']<= age[i][1]]\n",
    "  exposed_cases, exposed_noncases = get_exposed(exposed_df)\n",
    "  unexposed_cases, unexposed_noncases =  get_unexposed(unexposed_df)\n",
    "  get_odds(exposed_cases, unexposed_cases, exposed_noncases, unexposed_noncases)\n",
    "  get_fisher_p(exposed_cases, unexposed_cases, exposed_noncases, unexposed_noncases)"
   ]
  },
  {
   "cell_type": "code",
   "execution_count": 22,
   "metadata": {
    "colab": {
     "base_uri": "https://localhost:8080/"
    },
    "executionInfo": {
     "elapsed": 205,
     "status": "ok",
     "timestamp": 1717098841446,
     "user": {
      "displayName": "Yanjun Cui",
      "userId": "10928157657240567222"
     },
     "user_tz": 240
    },
    "id": "x_R_eOvrqXQF",
    "outputId": "87efd903-1a77-467d-a432-6ca7d73cdec2"
   },
   "outputs": [
    {
     "name": "stdout",
     "output_type": "stream",
     "text": [
      "--- (7.5, 9]\n",
      "exposed: (49, 9)\n",
      "24 25\n",
      "unexposed: (25, 9)\n",
      "17 8\n",
      "odds ratio 0.4566472170537203\n",
      "95% CI ConfidenceInterval(low=0.14211653373295022, high=1.3705608514078973)\n",
      "p-Value: 0.1433543199654274\n",
      "--- >9\n",
      "exposed: (20, 9)\n",
      "9 11\n",
      "unexposed: (25, 9)\n",
      "17 8\n",
      "odds ratio 0.39364592156874756\n",
      "95% CI ConfidenceInterval(low=0.09573058591567811, high=1.5228916206337009)\n",
      "p-Value: 0.1417754095671262\n"
     ]
    },
    {
     "name": "stderr",
     "output_type": "stream",
     "text": [
      "<ipython-input-22-7dbefa329db9>:1: UserWarning: Boolean Series key will be reindexed to match DataFrame index.\n",
      "  exposed_df1 = new_df[new_df['A1c']> 7.5][new_df['A1c']<= 9]\n",
      "<ipython-input-22-7dbefa329db9>:8: UserWarning: Boolean Series key will be reindexed to match DataFrame index.\n",
      "  unexposed_df = new_df[new_df['A1c']>= 6][new_df['A1c']<= 7.5]\n",
      "<ipython-input-22-7dbefa329db9>:8: UserWarning: Boolean Series key will be reindexed to match DataFrame index.\n",
      "  unexposed_df = new_df[new_df['A1c']>= 6][new_df['A1c']<= 7.5]\n"
     ]
    }
   ],
   "source": [
    "exposed_df1 = new_df[new_df['A1c']> 7.5][new_df['A1c']<= 9]\n",
    "exposed_df2 = new_df[new_df['A1c']> 9]\n",
    "a1c = {2: '(7.5, 9]', 3:'>9'}\n",
    "exposed_ = {2:exposed_df1, 3: exposed_df2}\n",
    "\n",
    "for i in range(2, 4):\n",
    "  print('---', a1c[i])\n",
    "  unexposed_df = new_df[new_df['A1c']>= 6][new_df['A1c']<= 7.5]\n",
    "  exposed_df = exposed_[i]\n",
    "  exposed_cases, exposed_noncases = get_exposed(exposed_df)\n",
    "  unexposed_cases, unexposed_noncases =  get_unexposed(unexposed_df)\n",
    "  get_odds(exposed_cases, unexposed_cases, exposed_noncases, unexposed_noncases)\n",
    "  get_fisher_p(exposed_cases, unexposed_cases, exposed_noncases, unexposed_noncases)"
   ]
  },
  {
   "cell_type": "code",
   "execution_count": 23,
   "metadata": {
    "colab": {
     "base_uri": "https://localhost:8080/"
    },
    "executionInfo": {
     "elapsed": 141,
     "status": "ok",
     "timestamp": 1717098842120,
     "user": {
      "displayName": "Yanjun Cui",
      "userId": "10928157657240567222"
     },
     "user_tz": 240
    },
    "id": "4jeniYantY9G",
    "outputId": "ec6ae27b-3e67-45d1-e9d7-b4f946096fde"
   },
   "outputs": [
    {
     "name": "stdout",
     "output_type": "stream",
     "text": [
      "gender\n",
      "exposed: (78, 9)\n",
      "45 33\n",
      "unexposed: (26, 9)\n",
      "11 15\n",
      "odds ratio 1.8482698160096789\n",
      "95% CI ConfidenceInterval(low=0.6911954917158486, high=5.084015873314742)\n",
      "p-Value: 0.18302736441969053\n"
     ]
    }
   ],
   "source": [
    "print('gender')\n",
    "unexposed_df = new_df[new_df['Gender'] == 1]\n",
    "exposed_df = new_df[new_df['Gender'] == 2]\n",
    "exposed_cases, exposed_noncases = get_exposed(exposed_df)\n",
    "unexposed_cases, unexposed_noncases =  get_unexposed(unexposed_df)\n",
    "get_odds(exposed_cases, unexposed_cases, exposed_noncases, unexposed_noncases)\n",
    "get_fisher_p(exposed_cases, unexposed_cases, exposed_noncases, unexposed_noncases)"
   ]
  },
  {
   "cell_type": "code",
   "execution_count": 24,
   "metadata": {
    "colab": {
     "base_uri": "https://localhost:8080/"
    },
    "executionInfo": {
     "elapsed": 107,
     "status": "ok",
     "timestamp": 1717098843370,
     "user": {
      "displayName": "Yanjun Cui",
      "userId": "10928157657240567222"
     },
     "user_tz": 240
    },
    "id": "mz-pRXXuumcb",
    "outputId": "e63edec7-a29c-4b69-c959-6d94e29f0d92"
   },
   "outputs": [
    {
     "name": "stdout",
     "output_type": "stream",
     "text": [
      "--- (7, 15]\n",
      "exposed: (57, 9)\n",
      "32 25\n",
      "unexposed: (23, 9)\n",
      "11 12\n",
      "odds ratio 1.3905047847488285\n",
      "95% CI ConfidenceInterval(low=0.47252229251588485, high=4.136974220320114)\n",
      "p-Value: 0.6215056995246082\n",
      "--- > 15\n",
      "exposed: (26, 9)\n",
      "12 14\n",
      "unexposed: (23, 9)\n",
      "11 12\n",
      "odds ratio 0.9363474303126542\n",
      "95% CI ConfidenceInterval(low=0.2632809163356799, high=3.3232931653101194)\n",
      "p-Value: 1.0\n"
     ]
    },
    {
     "name": "stderr",
     "output_type": "stream",
     "text": [
      "<ipython-input-24-d9ad25ae8b8c>:1: UserWarning: Boolean Series key will be reindexed to match DataFrame index.\n",
      "  exposed_df1 = new_df[new_df['diagnosis_duration']> 7][new_df['diagnosis_duration']<= 15]\n",
      "<ipython-input-24-d9ad25ae8b8c>:8: UserWarning: Boolean Series key will be reindexed to match DataFrame index.\n",
      "  unexposed_df = new_df[new_df['diagnosis_duration']>= 2][new_df['diagnosis_duration']<= 7]\n",
      "<ipython-input-24-d9ad25ae8b8c>:8: UserWarning: Boolean Series key will be reindexed to match DataFrame index.\n",
      "  unexposed_df = new_df[new_df['diagnosis_duration']>= 2][new_df['diagnosis_duration']<= 7]\n"
     ]
    }
   ],
   "source": [
    "exposed_df1 = new_df[new_df['diagnosis_duration']> 7][new_df['diagnosis_duration']<= 15]\n",
    "exposed_df2 = new_df[new_df['diagnosis_duration']> 15]\n",
    "a1c = {2: '(7, 15]', 3:'> 15'}\n",
    "exposed_ = {2:exposed_df1, 3: exposed_df2}\n",
    "\n",
    "for i in range(2, 4):\n",
    "  print('---', a1c[i])\n",
    "  unexposed_df = new_df[new_df['diagnosis_duration']>= 2][new_df['diagnosis_duration']<= 7]\n",
    "  exposed_df = exposed_[i]\n",
    "  exposed_cases, exposed_noncases = get_exposed(exposed_df)\n",
    "  unexposed_cases, unexposed_noncases =  get_unexposed(unexposed_df)\n",
    "  get_odds(exposed_cases, unexposed_cases, exposed_noncases, unexposed_noncases)\n",
    "  get_fisher_p(exposed_cases, unexposed_cases, exposed_noncases, unexposed_noncases)"
   ]
  },
  {
   "cell_type": "code",
   "execution_count": 25,
   "metadata": {
    "colab": {
     "base_uri": "https://localhost:8080/"
    },
    "executionInfo": {
     "elapsed": 102,
     "status": "ok",
     "timestamp": 1717098844048,
     "user": {
      "displayName": "Yanjun Cui",
      "userId": "10928157657240567222"
     },
     "user_tz": 240
    },
    "id": "bHtUGBcct3J-",
    "outputId": "8dc38f79-a22d-493d-e46e-17246c426455"
   },
   "outputs": [
    {
     "name": "stdout",
     "output_type": "stream",
     "text": [
      "short valid\n",
      "exposed: (38, 9)\n",
      "8 30\n",
      "unexposed: (70, 9)\n",
      "49 21\n",
      "odds ratio 0.11697509871993386\n",
      "95% CI ConfidenceInterval(low=0.03937338630694812, high=0.3137802500318528)\n",
      "p-Value: 1.936344468977107e-06\n"
     ]
    }
   ],
   "source": [
    "print('short valid')\n",
    "unexposed_df = new_df[new_df['short_valid'] >= 0.7]\n",
    "exposed_df = new_df[new_df['short_valid'] < 0.7]\n",
    "exposed_cases, exposed_noncases = get_exposed(exposed_df)\n",
    "unexposed_cases, unexposed_noncases =  get_unexposed(unexposed_df)\n",
    "get_odds(exposed_cases, unexposed_cases, exposed_noncases, unexposed_noncases)\n",
    "get_fisher_p(exposed_cases, unexposed_cases, exposed_noncases, unexposed_noncases)"
   ]
  },
  {
   "cell_type": "code",
   "execution_count": 26,
   "metadata": {
    "colab": {
     "base_uri": "https://localhost:8080/"
    },
    "executionInfo": {
     "elapsed": 95,
     "status": "ok",
     "timestamp": 1717098844691,
     "user": {
      "displayName": "Yanjun Cui",
      "userId": "10928157657240567222"
     },
     "user_tz": 240
    },
    "id": "0DiVxOLXudOS",
    "outputId": "5b7be88d-24e9-4d94-8d0c-e80b8e2642d8",
    "scrolled": true
   },
   "outputs": [
    {
     "name": "stdout",
     "output_type": "stream",
     "text": [
      "Insurance\n",
      "exposed: (18, 9)\n",
      "11 7\n",
      "unexposed: (78, 9)\n",
      "39 39\n",
      "odds ratio 1.564104614582513\n",
      "95% CI ConfidenceInterval(low=0.49311192848327007, high=5.29076205941997)\n",
      "p-Value: 0.4422268845619656\n"
     ]
    }
   ],
   "source": [
    "print('Insurance')\n",
    "unexposed_df = new_df[new_df['Insurance_0'] == 1] # private as ref\n",
    "exposed_df = new_df[new_df['Insurance_0'] == 2]\n",
    "exposed_cases, exposed_noncases = get_exposed(exposed_df)\n",
    "unexposed_cases, unexposed_noncases =  get_unexposed(unexposed_df)\n",
    "get_odds(exposed_cases, unexposed_cases, exposed_noncases, unexposed_noncases)\n",
    "get_fisher_p(exposed_cases, unexposed_cases, exposed_noncases, unexposed_noncases)"
   ]
  },
  {
   "cell_type": "markdown",
   "metadata": {
    "id": "GIQJ4DQokjkc"
   },
   "source": [
    "# Table 2"
   ]
  },
  {
   "cell_type": "markdown",
   "metadata": {
    "id": "AXt1hLKG62C3"
   },
   "source": [
    "## Demographic"
   ]
  },
  {
   "cell_type": "code",
   "execution_count": 46,
   "metadata": {
    "colab": {
     "base_uri": "https://localhost:8080/",
     "height": 216
    },
    "executionInfo": {
     "elapsed": 161,
     "status": "ok",
     "timestamp": 1717096273857,
     "user": {
      "displayName": "Yanjun Cui",
      "userId": "10928157657240567222"
     },
     "user_tz": 240
    },
    "id": "ct505Kq6_1Dn",
    "outputId": "f611cf61-491f-4f78-d6ce-cde2d8e58bc0"
   },
   "outputs": [
    {
     "data": {
      "application/vnd.google.colaboratory.intrinsic+json": {
       "summary": "{\n  \"name\": \"df\",\n  \"rows\": 108,\n  \"fields\": [\n    {\n      \"column\": \"app_id\",\n      \"properties\": {\n        \"dtype\": \"string\",\n        \"num_unique_values\": 108,\n        \"samples\": [\n          \"6201c8ae9026c60010b15d3c\",\n          \"634d99647f86c60015f95a6c\",\n          \"63d2f285e796c60014ea01c5\"\n        ],\n        \"semantic_type\": \"\",\n        \"description\": \"\"\n      }\n    },\n    {\n      \"column\": \"sweetgoals_id\",\n      \"properties\": {\n        \"dtype\": \"number\",\n        \"std\": 128,\n        \"min\": 3,\n        \"max\": 617,\n        \"num_unique_values\": 108,\n        \"samples\": [\n          125,\n          372,\n          479\n        ],\n        \"semantic_type\": \"\",\n        \"description\": \"\"\n      }\n    },\n    {\n      \"column\": \"gender\",\n      \"properties\": {\n        \"dtype\": \"category\",\n        \"num_unique_values\": 3,\n        \"samples\": [\n          \"2: Female\",\n          \"1: Male\",\n          \"3: Other\"\n        ],\n        \"semantic_type\": \"\",\n        \"description\": \"\"\n      }\n    },\n    {\n      \"column\": \"A1c\",\n      \"properties\": {\n        \"dtype\": \"number\",\n        \"std\": 1.3058988354669874,\n        \"min\": 6.3,\n        \"max\": 14.4,\n        \"num_unique_values\": 41,\n        \"samples\": [\n          11.1,\n          7.3,\n          7.8\n        ],\n        \"semantic_type\": \"\",\n        \"description\": \"\"\n      }\n    },\n    {\n      \"column\": \"age\",\n      \"properties\": {\n        \"dtype\": \"number\",\n        \"std\": 3,\n        \"min\": 19,\n        \"max\": 29,\n        \"num_unique_values\": 11,\n        \"samples\": [\n          20,\n          21,\n          23\n        ],\n        \"semantic_type\": \"\",\n        \"description\": \"\"\n      }\n    },\n    {\n      \"column\": \"race\",\n      \"properties\": {\n        \"dtype\": \"category\",\n        \"num_unique_values\": 3,\n        \"samples\": [\n          \"1: White\",\n          \"3: Others\",\n          \"2: Black\"\n        ],\n        \"semantic_type\": \"\",\n        \"description\": \"\"\n      }\n    },\n    {\n      \"column\": \"diagnosis_duration\",\n      \"properties\": {\n        \"dtype\": \"number\",\n        \"std\": 5.315654887433917,\n        \"min\": 2.4,\n        \"max\": 27.0,\n        \"num_unique_values\": 82,\n        \"samples\": [\n          5.7,\n          10.6,\n          6.7\n        ],\n        \"semantic_type\": \"\",\n        \"description\": \"\"\n      }\n    },\n    {\n      \"column\": \"insulin_type\",\n      \"properties\": {\n        \"dtype\": \"category\",\n        \"num_unique_values\": 2,\n        \"samples\": [\n          \"Multiple daily injections\",\n          \"Insulin pump\"\n        ],\n        \"semantic_type\": \"\",\n        \"description\": \"\"\n      }\n    },\n    {\n      \"column\": \"location\",\n      \"properties\": {\n        \"dtype\": \"category\",\n        \"num_unique_values\": 35,\n        \"samples\": [\n          \"Missouri\",\n          \"Massachusetts\"\n        ],\n        \"semantic_type\": \"\",\n        \"description\": \"\"\n      }\n    },\n    {\n      \"column\": \"Insurance_0\",\n      \"properties\": {\n        \"dtype\": \"number\",\n        \"std\": 0.3923612728354477,\n        \"min\": 1.0,\n        \"max\": 2.0,\n        \"num_unique_values\": 2,\n        \"samples\": [\n          2.0,\n          1.0\n        ],\n        \"semantic_type\": \"\",\n        \"description\": \"\"\n      }\n    }\n  ]\n}",
       "type": "dataframe",
       "variable_name": "df"
      },
      "text/html": [
       "\n",
       "  <div id=\"df-5cf1e8e3-3fca-4e96-976c-94fcbee50ca7\" class=\"colab-df-container\">\n",
       "    <div>\n",
       "<style scoped>\n",
       "    .dataframe tbody tr th:only-of-type {\n",
       "        vertical-align: middle;\n",
       "    }\n",
       "\n",
       "    .dataframe tbody tr th {\n",
       "        vertical-align: top;\n",
       "    }\n",
       "\n",
       "    .dataframe thead th {\n",
       "        text-align: right;\n",
       "    }\n",
       "</style>\n",
       "<table border=\"1\" class=\"dataframe\">\n",
       "  <thead>\n",
       "    <tr style=\"text-align: right;\">\n",
       "      <th></th>\n",
       "      <th>app_id</th>\n",
       "      <th>sweetgoals_id</th>\n",
       "      <th>gender</th>\n",
       "      <th>A1c</th>\n",
       "      <th>age</th>\n",
       "      <th>race</th>\n",
       "      <th>diagnosis_duration</th>\n",
       "      <th>insulin_type</th>\n",
       "      <th>location</th>\n",
       "      <th>Insurance_0</th>\n",
       "    </tr>\n",
       "  </thead>\n",
       "  <tbody>\n",
       "    <tr>\n",
       "      <th>0</th>\n",
       "      <td>643dc3f3e796c60013672184</td>\n",
       "      <td>617</td>\n",
       "      <td>2: Female</td>\n",
       "      <td>8.1</td>\n",
       "      <td>21</td>\n",
       "      <td>1: White</td>\n",
       "      <td>10.6</td>\n",
       "      <td>Insulin pump</td>\n",
       "      <td>New Jersey</td>\n",
       "      <td>1.0</td>\n",
       "    </tr>\n",
       "    <tr>\n",
       "      <th>1</th>\n",
       "      <td>640a0c11649045001676e53c</td>\n",
       "      <td>565</td>\n",
       "      <td>1: Male</td>\n",
       "      <td>6.7</td>\n",
       "      <td>28</td>\n",
       "      <td>1: White</td>\n",
       "      <td>19.0</td>\n",
       "      <td>Insulin pump</td>\n",
       "      <td>New York</td>\n",
       "      <td>1.0</td>\n",
       "    </tr>\n",
       "    <tr>\n",
       "      <th>2</th>\n",
       "      <td>6407b513649045001676e126</td>\n",
       "      <td>540</td>\n",
       "      <td>1: Male</td>\n",
       "      <td>8.1</td>\n",
       "      <td>28</td>\n",
       "      <td>1: White</td>\n",
       "      <td>4.1</td>\n",
       "      <td>Insulin pump</td>\n",
       "      <td>Ohio</td>\n",
       "      <td>1.0</td>\n",
       "    </tr>\n",
       "  </tbody>\n",
       "</table>\n",
       "</div>\n",
       "    <div class=\"colab-df-buttons\">\n",
       "\n",
       "  <div class=\"colab-df-container\">\n",
       "    <button class=\"colab-df-convert\" onclick=\"convertToInteractive('df-5cf1e8e3-3fca-4e96-976c-94fcbee50ca7')\"\n",
       "            title=\"Convert this dataframe to an interactive table.\"\n",
       "            style=\"display:none;\">\n",
       "\n",
       "  <svg xmlns=\"http://www.w3.org/2000/svg\" height=\"24px\" viewBox=\"0 -960 960 960\">\n",
       "    <path d=\"M120-120v-720h720v720H120Zm60-500h600v-160H180v160Zm220 220h160v-160H400v160Zm0 220h160v-160H400v160ZM180-400h160v-160H180v160Zm440 0h160v-160H620v160ZM180-180h160v-160H180v160Zm440 0h160v-160H620v160Z\"/>\n",
       "  </svg>\n",
       "    </button>\n",
       "\n",
       "  <style>\n",
       "    .colab-df-container {\n",
       "      display:flex;\n",
       "      gap: 12px;\n",
       "    }\n",
       "\n",
       "    .colab-df-convert {\n",
       "      background-color: #E8F0FE;\n",
       "      border: none;\n",
       "      border-radius: 50%;\n",
       "      cursor: pointer;\n",
       "      display: none;\n",
       "      fill: #1967D2;\n",
       "      height: 32px;\n",
       "      padding: 0 0 0 0;\n",
       "      width: 32px;\n",
       "    }\n",
       "\n",
       "    .colab-df-convert:hover {\n",
       "      background-color: #E2EBFA;\n",
       "      box-shadow: 0px 1px 2px rgba(60, 64, 67, 0.3), 0px 1px 3px 1px rgba(60, 64, 67, 0.15);\n",
       "      fill: #174EA6;\n",
       "    }\n",
       "\n",
       "    .colab-df-buttons div {\n",
       "      margin-bottom: 4px;\n",
       "    }\n",
       "\n",
       "    [theme=dark] .colab-df-convert {\n",
       "      background-color: #3B4455;\n",
       "      fill: #D2E3FC;\n",
       "    }\n",
       "\n",
       "    [theme=dark] .colab-df-convert:hover {\n",
       "      background-color: #434B5C;\n",
       "      box-shadow: 0px 1px 3px 1px rgba(0, 0, 0, 0.15);\n",
       "      filter: drop-shadow(0px 1px 2px rgba(0, 0, 0, 0.3));\n",
       "      fill: #FFFFFF;\n",
       "    }\n",
       "  </style>\n",
       "\n",
       "    <script>\n",
       "      const buttonEl =\n",
       "        document.querySelector('#df-5cf1e8e3-3fca-4e96-976c-94fcbee50ca7 button.colab-df-convert');\n",
       "      buttonEl.style.display =\n",
       "        google.colab.kernel.accessAllowed ? 'block' : 'none';\n",
       "\n",
       "      async function convertToInteractive(key) {\n",
       "        const element = document.querySelector('#df-5cf1e8e3-3fca-4e96-976c-94fcbee50ca7');\n",
       "        const dataTable =\n",
       "          await google.colab.kernel.invokeFunction('convertToInteractive',\n",
       "                                                    [key], {});\n",
       "        if (!dataTable) return;\n",
       "\n",
       "        const docLinkHtml = 'Like what you see? Visit the ' +\n",
       "          '<a target=\"_blank\" href=https://colab.research.google.com/notebooks/data_table.ipynb>data table notebook</a>'\n",
       "          + ' to learn more about interactive tables.';\n",
       "        element.innerHTML = '';\n",
       "        dataTable['output_type'] = 'display_data';\n",
       "        await google.colab.output.renderOutput(dataTable, element);\n",
       "        const docLink = document.createElement('div');\n",
       "        docLink.innerHTML = docLinkHtml;\n",
       "        element.appendChild(docLink);\n",
       "      }\n",
       "    </script>\n",
       "  </div>\n",
       "\n",
       "\n",
       "<div id=\"df-ede8b0e2-bf26-4cbf-b3a5-c8c1d5bed3a6\">\n",
       "  <button class=\"colab-df-quickchart\" onclick=\"quickchart('df-ede8b0e2-bf26-4cbf-b3a5-c8c1d5bed3a6')\"\n",
       "            title=\"Suggest charts\"\n",
       "            style=\"display:none;\">\n",
       "\n",
       "<svg xmlns=\"http://www.w3.org/2000/svg\" height=\"24px\"viewBox=\"0 0 24 24\"\n",
       "     width=\"24px\">\n",
       "    <g>\n",
       "        <path d=\"M19 3H5c-1.1 0-2 .9-2 2v14c0 1.1.9 2 2 2h14c1.1 0 2-.9 2-2V5c0-1.1-.9-2-2-2zM9 17H7v-7h2v7zm4 0h-2V7h2v10zm4 0h-2v-4h2v4z\"/>\n",
       "    </g>\n",
       "</svg>\n",
       "  </button>\n",
       "\n",
       "<style>\n",
       "  .colab-df-quickchart {\n",
       "      --bg-color: #E8F0FE;\n",
       "      --fill-color: #1967D2;\n",
       "      --hover-bg-color: #E2EBFA;\n",
       "      --hover-fill-color: #174EA6;\n",
       "      --disabled-fill-color: #AAA;\n",
       "      --disabled-bg-color: #DDD;\n",
       "  }\n",
       "\n",
       "  [theme=dark] .colab-df-quickchart {\n",
       "      --bg-color: #3B4455;\n",
       "      --fill-color: #D2E3FC;\n",
       "      --hover-bg-color: #434B5C;\n",
       "      --hover-fill-color: #FFFFFF;\n",
       "      --disabled-bg-color: #3B4455;\n",
       "      --disabled-fill-color: #666;\n",
       "  }\n",
       "\n",
       "  .colab-df-quickchart {\n",
       "    background-color: var(--bg-color);\n",
       "    border: none;\n",
       "    border-radius: 50%;\n",
       "    cursor: pointer;\n",
       "    display: none;\n",
       "    fill: var(--fill-color);\n",
       "    height: 32px;\n",
       "    padding: 0;\n",
       "    width: 32px;\n",
       "  }\n",
       "\n",
       "  .colab-df-quickchart:hover {\n",
       "    background-color: var(--hover-bg-color);\n",
       "    box-shadow: 0 1px 2px rgba(60, 64, 67, 0.3), 0 1px 3px 1px rgba(60, 64, 67, 0.15);\n",
       "    fill: var(--button-hover-fill-color);\n",
       "  }\n",
       "\n",
       "  .colab-df-quickchart-complete:disabled,\n",
       "  .colab-df-quickchart-complete:disabled:hover {\n",
       "    background-color: var(--disabled-bg-color);\n",
       "    fill: var(--disabled-fill-color);\n",
       "    box-shadow: none;\n",
       "  }\n",
       "\n",
       "  .colab-df-spinner {\n",
       "    border: 2px solid var(--fill-color);\n",
       "    border-color: transparent;\n",
       "    border-bottom-color: var(--fill-color);\n",
       "    animation:\n",
       "      spin 1s steps(1) infinite;\n",
       "  }\n",
       "\n",
       "  @keyframes spin {\n",
       "    0% {\n",
       "      border-color: transparent;\n",
       "      border-bottom-color: var(--fill-color);\n",
       "      border-left-color: var(--fill-color);\n",
       "    }\n",
       "    20% {\n",
       "      border-color: transparent;\n",
       "      border-left-color: var(--fill-color);\n",
       "      border-top-color: var(--fill-color);\n",
       "    }\n",
       "    30% {\n",
       "      border-color: transparent;\n",
       "      border-left-color: var(--fill-color);\n",
       "      border-top-color: var(--fill-color);\n",
       "      border-right-color: var(--fill-color);\n",
       "    }\n",
       "    40% {\n",
       "      border-color: transparent;\n",
       "      border-right-color: var(--fill-color);\n",
       "      border-top-color: var(--fill-color);\n",
       "    }\n",
       "    60% {\n",
       "      border-color: transparent;\n",
       "      border-right-color: var(--fill-color);\n",
       "    }\n",
       "    80% {\n",
       "      border-color: transparent;\n",
       "      border-right-color: var(--fill-color);\n",
       "      border-bottom-color: var(--fill-color);\n",
       "    }\n",
       "    90% {\n",
       "      border-color: transparent;\n",
       "      border-bottom-color: var(--fill-color);\n",
       "    }\n",
       "  }\n",
       "</style>\n",
       "\n",
       "  <script>\n",
       "    async function quickchart(key) {\n",
       "      const quickchartButtonEl =\n",
       "        document.querySelector('#' + key + ' button');\n",
       "      quickchartButtonEl.disabled = true;  // To prevent multiple clicks.\n",
       "      quickchartButtonEl.classList.add('colab-df-spinner');\n",
       "      try {\n",
       "        const charts = await google.colab.kernel.invokeFunction(\n",
       "            'suggestCharts', [key], {});\n",
       "      } catch (error) {\n",
       "        console.error('Error during call to suggestCharts:', error);\n",
       "      }\n",
       "      quickchartButtonEl.classList.remove('colab-df-spinner');\n",
       "      quickchartButtonEl.classList.add('colab-df-quickchart-complete');\n",
       "    }\n",
       "    (() => {\n",
       "      let quickchartButtonEl =\n",
       "        document.querySelector('#df-ede8b0e2-bf26-4cbf-b3a5-c8c1d5bed3a6 button');\n",
       "      quickchartButtonEl.style.display =\n",
       "        google.colab.kernel.accessAllowed ? 'block' : 'none';\n",
       "    })();\n",
       "  </script>\n",
       "</div>\n",
       "    </div>\n",
       "  </div>\n"
      ],
      "text/plain": [
       "                     app_id  sweetgoals_id     gender  A1c  age      race  \\\n",
       "0  643dc3f3e796c60013672184            617  2: Female  8.1   21  1: White   \n",
       "1  640a0c11649045001676e53c            565    1: Male  6.7   28  1: White   \n",
       "2  6407b513649045001676e126            540    1: Male  8.1   28  1: White   \n",
       "\n",
       "   diagnosis_duration  insulin_type    location  Insurance_0  \n",
       "0                10.6  Insulin pump  New Jersey          1.0  \n",
       "1                19.0  Insulin pump    New York          1.0  \n",
       "2                 4.1  Insulin pump        Ohio          1.0  "
      ]
     },
     "execution_count": 46,
     "metadata": {},
     "output_type": "execute_result"
    }
   ],
   "source": [
    "demo_file = './demographic_data_summary_final.csv'\n",
    "df = pd.read_csv(demo_file)\n",
    "df.head(3)"
   ]
  },
  {
   "cell_type": "code",
   "execution_count": 47,
   "metadata": {
    "colab": {
     "base_uri": "https://localhost:8080/"
    },
    "executionInfo": {
     "elapsed": 156,
     "status": "ok",
     "timestamp": 1717096275687,
     "user": {
      "displayName": "Yanjun Cui",
      "userId": "10928157657240567222"
     },
     "user_tz": 240
    },
    "id": "Rpi_YRSlmJnQ",
    "outputId": "7062dd5e-d108-40bc-a4b4-eedef5002099"
   },
   "outputs": [
    {
     "name": "stdout",
     "output_type": "stream",
     "text": [
      "total number of subject: 108\n"
     ]
    }
   ],
   "source": [
    "print('total number of subject:', df.app_id.count())"
   ]
  },
  {
   "cell_type": "code",
   "execution_count": 48,
   "metadata": {
    "colab": {
     "base_uri": "https://localhost:8080/"
    },
    "executionInfo": {
     "elapsed": 161,
     "status": "ok",
     "timestamp": 1717096277440,
     "user": {
      "displayName": "Yanjun Cui",
      "userId": "10928157657240567222"
     },
     "user_tz": 240
    },
    "id": "vsNlOHtLj-9E",
    "outputId": "0ab0fe88-d12b-4ef1-ec8f-d00300f9450d"
   },
   "outputs": [
    {
     "name": "stdout",
     "output_type": "stream",
     "text": [
      "{'1: White': 77, '3: Others': 7, nan: 12, '2: Black': 12}\n"
     ]
    }
   ],
   "source": [
    "race_dict = {}\n",
    "race_lst = list(df.race.values)\n",
    "for i in df.race.unique():\n",
    "  race_dict.update({i: race_lst.count(i)})\n",
    "\n",
    "print(race_dict)"
   ]
  },
  {
   "cell_type": "code",
   "execution_count": 49,
   "metadata": {
    "colab": {
     "base_uri": "https://localhost:8080/"
    },
    "executionInfo": {
     "elapsed": 156,
     "status": "ok",
     "timestamp": 1717096304921,
     "user": {
      "displayName": "Yanjun Cui",
      "userId": "10928157657240567222"
     },
     "user_tz": 240
    },
    "id": "lXSaRnlmlM1a",
    "outputId": "c359e370-ecf3-4f34-8bff-11336f725ac9"
   },
   "outputs": [
    {
     "name": "stdout",
     "output_type": "stream",
     "text": [
      "{'Insulin pump': 88, 'Multiple daily injections': 20}\n"
     ]
    }
   ],
   "source": [
    "type_dict = {}\n",
    "type_lst = list(df.insulin_type.values)\n",
    "for i in df.insulin_type.unique():\n",
    "  type_dict.update({i: type_lst.count(i)})\n",
    "\n",
    "print(type_dict)"
   ]
  },
  {
   "cell_type": "code",
   "execution_count": 50,
   "metadata": {
    "colab": {
     "base_uri": "https://localhost:8080/"
    },
    "executionInfo": {
     "elapsed": 156,
     "status": "ok",
     "timestamp": 1717096312373,
     "user": {
      "displayName": "Yanjun Cui",
      "userId": "10928157657240567222"
     },
     "user_tz": 240
    },
    "id": "opgoveQfpCA9",
    "outputId": "48fbc2f5-a655-498f-aadf-688f8298c2f9"
   },
   "outputs": [
    {
     "name": "stdout",
     "output_type": "stream",
     "text": [
      "age avg and std: 22.84259259259259 +/ 3.0158901303700785\n",
      "age range: 19 - 29\n",
      "not available: 0\n"
     ]
    }
   ],
   "source": [
    "age = df.age.values[~np.isnan(df.age.values)]\n",
    "\n",
    "print('age avg and std:', np.mean(age), '+/', np.std(age)) # only keep intergers?\n",
    "print('age range:', np.min(age), '-' , np.max(age))\n",
    "print('not available:', len(df.age.values[np.isnan(df.age.values)]))"
   ]
  },
  {
   "cell_type": "code",
   "execution_count": 51,
   "metadata": {
    "colab": {
     "base_uri": "https://localhost:8080/"
    },
    "executionInfo": {
     "elapsed": 2,
     "status": "ok",
     "timestamp": 1717096314759,
     "user": {
      "displayName": "Yanjun Cui",
      "userId": "10928157657240567222"
     },
     "user_tz": 240
    },
    "id": "RkDRFt5K5FUf",
    "outputId": "9855ab18-505c-4a48-b6d5-c79be4d15c12"
   },
   "outputs": [
    {
     "name": "stdout",
     "output_type": "stream",
     "text": [
      "108\n"
     ]
    }
   ],
   "source": [
    "gender_lst = []\n",
    "for i in range(len(df.sweetgoals_id.values)):\n",
    "  gender_lst.append(df.gender.values[i])\n",
    "print(len(gender_lst))"
   ]
  },
  {
   "cell_type": "code",
   "execution_count": 52,
   "metadata": {
    "colab": {
     "base_uri": "https://localhost:8080/"
    },
    "executionInfo": {
     "elapsed": 2,
     "status": "ok",
     "timestamp": 1717096318352,
     "user": {
      "displayName": "Yanjun Cui",
      "userId": "10928157657240567222"
     },
     "user_tz": 240
    },
    "id": "RXKbEfLz5FUf",
    "outputId": "f3100a51-1c75-4cfe-c16a-fda92490fd1e"
   },
   "outputs": [
    {
     "name": "stdout",
     "output_type": "stream",
     "text": [
      "{'2: Female': 78, '1: Male': 26, '3: Other': 4}\n"
     ]
    }
   ],
   "source": [
    "sex_dict = {}\n",
    "for i in df.gender.unique():\n",
    "  sex_dict.update({i: gender_lst.count(i)})\n",
    "\n",
    "sex_dict = {k: v for k, v in sex_dict.items() if v}\n",
    "\n",
    "print(sex_dict)"
   ]
  },
  {
   "cell_type": "code",
   "execution_count": 54,
   "metadata": {
    "colab": {
     "base_uri": "https://localhost:8080/"
    },
    "executionInfo": {
     "elapsed": 189,
     "status": "ok",
     "timestamp": 1717096325741,
     "user": {
      "displayName": "Yanjun Cui",
      "userId": "10928157657240567222"
     },
     "user_tz": 240
    },
    "id": "I05tSt3Z5FUf",
    "outputId": "b11e6ae3-d70f-446c-80e3-1b0e35d4b016"
   },
   "outputs": [
    {
     "name": "stdout",
     "output_type": "stream",
     "text": [
      "{'2: Female': 78, '1: Male': 26, '3: Other': 4}\n"
     ]
    }
   ],
   "source": [
    "sex_dict['Unknown'] = sex_dict[list(sex_dict.keys())[2]]\n",
    "del sex_dict[list(sex_dict.keys())[3]]\n",
    "print(sex_dict)"
   ]
  },
  {
   "cell_type": "code",
   "execution_count": 55,
   "metadata": {
    "colab": {
     "base_uri": "https://localhost:8080/"
    },
    "executionInfo": {
     "elapsed": 176,
     "status": "ok",
     "timestamp": 1717096331528,
     "user": {
      "displayName": "Yanjun Cui",
      "userId": "10928157657240567222"
     },
     "user_tz": 240
    },
    "id": "BXdC1Z915FUg",
    "outputId": "db38a2c0-5907-470a-d645-b9378663f57b"
   },
   "outputs": [
    {
     "name": "stdout",
     "output_type": "stream",
     "text": [
      "106 [10.6, 19.0, 4.1, 4.3, 10.8, 3.8, 5.0, 16.6, 7.2, 2.5, 16.4, 12.5, 4.6, 13.9, 9.4, 13.2, 8.7, 16.2, 13.9, 17.2, 2.9, 6.6, 4.5, 6.7, 13.3, 11.3, 11.3, 14.4, 9.8, 7.9, 17.2, 6.3, 3.9, 5.7, 10.3, 14.4, 14.3, 3.0, 13.0, 4.3, 4.7, 18.2, 15.1, 24.9, 9.1, 11.2, 4.5, 20.3, 9.9, 9.7, 20.5, 12.6, 4.7, 9.7, 18.1, 16.4, 10.4, 16.6, 8.4, 9.4, 11.9, 12.2, 8.9, 10.7, 10.0, 10.9, 7.7, 16.1, 10.5, 13.8, 16.6, 20.8, 7.7, 9.6, 14.4, 10.2, 3.2, 12.5, 10.3, 14.0, 13.4, 16.9, 4.7, 12.6, 17.0, 14.6, 8.8, 7.1, 13.0, 16.6, 21.2, 17.4, 27.0, 10.7, 4.8, 13.8, 24.2, 11.0, 2.4, 17.6, 15.0, 10.4, 2.9, 16.8, 12.0, 9.5]\n"
     ]
    }
   ],
   "source": [
    "diag_lst = []\n",
    "for i in range(len(df.sweetgoals_id.values)):\n",
    "  # print(i)\n",
    "  if not np.isnan(df.diagnosis_duration.values[i]):\n",
    "    diag_lst.append(df.diagnosis_duration.values[i])\n",
    "print(len(diag_lst), diag_lst)"
   ]
  },
  {
   "cell_type": "code",
   "execution_count": 56,
   "metadata": {
    "colab": {
     "base_uri": "https://localhost:8080/"
    },
    "executionInfo": {
     "elapsed": 187,
     "status": "ok",
     "timestamp": 1717096332977,
     "user": {
      "displayName": "Yanjun Cui",
      "userId": "10928157657240567222"
     },
     "user_tz": 240
    },
    "id": "oMztfTBs5FUg",
    "outputId": "1dd67f65-25b5-4613-b691-5eeceaccc5bb"
   },
   "outputs": [
    {
     "name": "stdout",
     "output_type": "stream",
     "text": [
      "avg and std: 11.5 5.29\n",
      "diag duration range: 2.4 - 27.0\n",
      "The number of subjects does not have diagnosis duration: 2\n"
     ]
    }
   ],
   "source": [
    "print(\"avg and std:\", round(np.mean(diag_lst), 2), round(np.std(diag_lst), 2))\n",
    "print('diag duration range:', np.min(diag_lst), '-' , np.max(diag_lst))\n",
    "print('The number of subjects does not have diagnosis duration:', 108 - len(diag_lst))"
   ]
  },
  {
   "cell_type": "code",
   "execution_count": 57,
   "metadata": {
    "colab": {
     "base_uri": "https://localhost:8080/"
    },
    "executionInfo": {
     "elapsed": 154,
     "status": "ok",
     "timestamp": 1717096334409,
     "user": {
      "displayName": "Yanjun Cui",
      "userId": "10928157657240567222"
     },
     "user_tz": 240
    },
    "id": "XxLFBL145FUf",
    "outputId": "7be0202d-18dc-4ab4-f884-917a90a94f96"
   },
   "outputs": [
    {
     "name": "stdout",
     "output_type": "stream",
     "text": [
      "The number of subjects have a1c values: 94\n"
     ]
    }
   ],
   "source": [
    "a1c_lst = []\n",
    "for i in range(len(df.sweetgoals_id.values)):\n",
    "  # print(i)\n",
    "  if not np.isnan(df.A1c.values[i]):\n",
    "    a1c_lst.append(df.A1c.values[i])\n",
    "\n",
    "print(\"The number of subjects have a1c values:\", len(a1c_lst))"
   ]
  },
  {
   "cell_type": "code",
   "execution_count": 58,
   "metadata": {
    "colab": {
     "base_uri": "https://localhost:8080/"
    },
    "executionInfo": {
     "elapsed": 183,
     "status": "ok",
     "timestamp": 1717096335412,
     "user": {
      "displayName": "Yanjun Cui",
      "userId": "10928157657240567222"
     },
     "user_tz": 240
    },
    "id": "r7WPR-lr5FUf",
    "outputId": "5865d762-a7e7-41dc-967c-9659b34bdf83"
   },
   "outputs": [
    {
     "name": "stdout",
     "output_type": "stream",
     "text": [
      "avg and std: 8.4 1.3\n",
      "a1c range: 6.3 - 14.4\n",
      "The number of subjects does not have A1c: 14\n"
     ]
    }
   ],
   "source": [
    "print(\"avg and std:\", round(np.mean(a1c_lst), 2), round(np.std(a1c_lst), 2))\n",
    "print('a1c range:', np.min(a1c_lst), '-' , np.max(a1c_lst))\n",
    "print('The number of subjects does not have A1c:', 108 - len(a1c_lst))"
   ]
  },
  {
   "cell_type": "code",
   "execution_count": 59,
   "metadata": {
    "colab": {
     "base_uri": "https://localhost:8080/"
    },
    "executionInfo": {
     "elapsed": 159,
     "status": "ok",
     "timestamp": 1717097174154,
     "user": {
      "displayName": "Yanjun Cui",
      "userId": "10928157657240567222"
     },
     "user_tz": 240
    },
    "id": "d7vY1b8b93Vg",
    "outputId": "8aeb28ae-2c91-42e9-ed5f-d7a8c1c6f022"
   },
   "outputs": [
    {
     "name": "stdout",
     "output_type": "stream",
     "text": [
      "{0: 12, 1: 78, 2: 18}\n"
     ]
    }
   ],
   "source": [
    "insurance_list = pd.Series(list(df.Insurance_0.values)).fillna(0).tolist()\n",
    "\n",
    "insurance_dict = {}\n",
    "for i in [0, 1, 2]:\n",
    "  insurance_dict.update({i: insurance_list.count(i)})\n",
    "\n",
    "# insurance_dict = {k: v for k, v in insurance_dict.items() if v}\n",
    "\n",
    "print(insurance_dict)"
   ]
  },
  {
   "cell_type": "markdown",
   "metadata": {
    "id": "CtDzaXZ6657e"
   },
   "source": [
    "## CGM data"
   ]
  },
  {
   "cell_type": "code",
   "execution_count": 5,
   "metadata": {
    "colab": {
     "base_uri": "https://localhost:8080/",
     "height": 143
    },
    "executionInfo": {
     "elapsed": 7,
     "status": "ok",
     "timestamp": 1704585734761,
     "user": {
      "displayName": "Yanjun Cui",
      "userId": "10928157657240567222"
     },
     "user_tz": 300
    },
    "id": "cKedmPCXN_e5",
    "outputId": "3ae2bfe7-60ed-409b-d483-1e55a00f82f2"
   },
   "outputs": [],
   "source": [
    "id = df.app_id.values\n",
    "demo_file = './demographic.csv'\n",
    "cgm_model_df = pd.read_csv(demo_file)[['app_id', 'cgm_model']]\n",
    "# cgm_model_df.head(3)"
   ]
  },
  {
   "cell_type": "code",
   "execution_count": null,
   "metadata": {
    "colab": {
     "base_uri": "https://localhost:8080/"
    },
    "executionInfo": {
     "elapsed": 204,
     "status": "ok",
     "timestamp": 1704586997153,
     "user": {
      "displayName": "Yanjun Cui",
      "userId": "10928157657240567222"
     },
     "user_tz": 300
    },
    "id": "YJh5Wt56TGSH",
    "outputId": "e0da07b2-0e2a-412b-e009-e11928c943d8"
   },
   "outputs": [
    {
     "name": "stdout",
     "output_type": "stream",
     "text": [
      "106\n"
     ]
    }
   ],
   "source": [
    "model_lst = []\n",
    "for i in cgm_model_df.values:\n",
    "  if i[0] in id:\n",
    "    model_lst.append(i[1])\n",
    "print(len(model_lst))"
   ]
  },
  {
   "cell_type": "code",
   "execution_count": null,
   "metadata": {
    "colab": {
     "base_uri": "https://localhost:8080/"
    },
    "executionInfo": {
     "elapsed": 253,
     "status": "ok",
     "timestamp": 1704587020253,
     "user": {
      "displayName": "Yanjun Cui",
      "userId": "10928157657240567222"
     },
     "user_tz": 300
    },
    "id": "mME84OHOOjMv",
    "outputId": "9a2feb01-0421-41ee-e296-3e9dd41f4d40"
   },
   "outputs": [
    {
     "name": "stdout",
     "output_type": "stream",
     "text": [
      "{nan: 2, 'Dexcom G6': 91, 'Dexcom': 7, 'Dexcom g6': 4, 'Guardian sensor (G3 Medtronic)': 1, 'Dexcom G5': 1}\n"
     ]
    }
   ],
   "source": [
    "model_dict = {}\n",
    "for i in cgm_model_df.cgm_model.unique():\n",
    "  model_dict.update({i: model_lst.count(i)})\n",
    "\n",
    "model_dict = {k: v for k, v in model_dict.items() if v}\n",
    "\n",
    "print(model_dict)"
   ]
  },
  {
   "cell_type": "code",
   "execution_count": null,
   "metadata": {
    "colab": {
     "base_uri": "https://localhost:8080/"
    },
    "executionInfo": {
     "elapsed": 3,
     "status": "ok",
     "timestamp": 1704587108811,
     "user": {
      "displayName": "Yanjun Cui",
      "userId": "10928157657240567222"
     },
     "user_tz": 300
    },
    "id": "7xjRqFf4S5Fk",
    "outputId": "832e0b1b-5349-4dc4-d7b7-9a26e12720b8"
   },
   "outputs": [
    {
     "name": "stdout",
     "output_type": "stream",
     "text": [
      "dexcom: 103 \n",
      "medtronic: 1 \n",
      "unknown: 4\n"
     ]
    }
   ],
   "source": [
    "print('dexcom:', 91 + 7 + 4 + 1, '\\nmedtronic:', 1, '\\nunknown:', 108 - 106 + 2)"
   ]
  },
  {
   "cell_type": "code",
   "execution_count": null,
   "metadata": {
    "colab": {
     "base_uri": "https://localhost:8080/",
     "height": 216
    },
    "executionInfo": {
     "elapsed": 807,
     "status": "ok",
     "timestamp": 1704583717922,
     "user": {
      "displayName": "Yanjun Cui",
      "userId": "10928157657240567222"
     },
     "user_tz": 300
    },
    "id": "JP2ejcASrs7q",
    "outputId": "4cd06f00-aab2-4a22-e2f0-030f3f3afb53"
   },
   "outputs": [
    {
     "data": {
      "text/html": [
       "\n",
       "  <div id=\"df-e791f5d1-f8bf-460e-bbd3-c317da2eef9d\" class=\"colab-df-container\">\n",
       "    <div>\n",
       "<style scoped>\n",
       "    .dataframe tbody tr th:only-of-type {\n",
       "        vertical-align: middle;\n",
       "    }\n",
       "\n",
       "    .dataframe tbody tr th {\n",
       "        vertical-align: top;\n",
       "    }\n",
       "\n",
       "    .dataframe thead th {\n",
       "        text-align: right;\n",
       "    }\n",
       "</style>\n",
       "<table border=\"1\" class=\"dataframe\">\n",
       "  <thead>\n",
       "    <tr style=\"text-align: right;\">\n",
       "      <th></th>\n",
       "      <th>Subject</th>\n",
       "      <th>Key</th>\n",
       "      <th>Start</th>\n",
       "      <th>End</th>\n",
       "      <th>Duration</th>\n",
       "      <th>RecordDays</th>\n",
       "      <th>MissingDays</th>\n",
       "      <th>ValidDays</th>\n",
       "    </tr>\n",
       "  </thead>\n",
       "  <tbody>\n",
       "    <tr>\n",
       "      <th>0</th>\n",
       "      <td>619e52b1d497d2000fd8661f</td>\n",
       "      <td>1</td>\n",
       "      <td>2021-02-25</td>\n",
       "      <td>2021-11-23</td>\n",
       "      <td>272</td>\n",
       "      <td>261</td>\n",
       "      <td>11</td>\n",
       "      <td>258</td>\n",
       "    </tr>\n",
       "    <tr>\n",
       "      <th>1</th>\n",
       "      <td>6287b500f6ce3300102a91cf</td>\n",
       "      <td>2</td>\n",
       "      <td>2021-08-19</td>\n",
       "      <td>2022-05-19</td>\n",
       "      <td>274</td>\n",
       "      <td>241</td>\n",
       "      <td>33</td>\n",
       "      <td>219</td>\n",
       "    </tr>\n",
       "    <tr>\n",
       "      <th>2</th>\n",
       "      <td>61ef29c687d6c6000c7e426f</td>\n",
       "      <td>3</td>\n",
       "      <td>2021-04-18</td>\n",
       "      <td>2022-01-17</td>\n",
       "      <td>275</td>\n",
       "      <td>102</td>\n",
       "      <td>173</td>\n",
       "      <td>66</td>\n",
       "    </tr>\n",
       "  </tbody>\n",
       "</table>\n",
       "</div>\n",
       "    <div class=\"colab-df-buttons\">\n",
       "\n",
       "  <div class=\"colab-df-container\">\n",
       "    <button class=\"colab-df-convert\" onclick=\"convertToInteractive('df-e791f5d1-f8bf-460e-bbd3-c317da2eef9d')\"\n",
       "            title=\"Convert this dataframe to an interactive table.\"\n",
       "            style=\"display:none;\">\n",
       "\n",
       "  <svg xmlns=\"http://www.w3.org/2000/svg\" height=\"24px\" viewBox=\"0 -960 960 960\">\n",
       "    <path d=\"M120-120v-720h720v720H120Zm60-500h600v-160H180v160Zm220 220h160v-160H400v160Zm0 220h160v-160H400v160ZM180-400h160v-160H180v160Zm440 0h160v-160H620v160ZM180-180h160v-160H180v160Zm440 0h160v-160H620v160Z\"/>\n",
       "  </svg>\n",
       "    </button>\n",
       "\n",
       "  <style>\n",
       "    .colab-df-container {\n",
       "      display:flex;\n",
       "      gap: 12px;\n",
       "    }\n",
       "\n",
       "    .colab-df-convert {\n",
       "      background-color: #E8F0FE;\n",
       "      border: none;\n",
       "      border-radius: 50%;\n",
       "      cursor: pointer;\n",
       "      display: none;\n",
       "      fill: #1967D2;\n",
       "      height: 32px;\n",
       "      padding: 0 0 0 0;\n",
       "      width: 32px;\n",
       "    }\n",
       "\n",
       "    .colab-df-convert:hover {\n",
       "      background-color: #E2EBFA;\n",
       "      box-shadow: 0px 1px 2px rgba(60, 64, 67, 0.3), 0px 1px 3px 1px rgba(60, 64, 67, 0.15);\n",
       "      fill: #174EA6;\n",
       "    }\n",
       "\n",
       "    .colab-df-buttons div {\n",
       "      margin-bottom: 4px;\n",
       "    }\n",
       "\n",
       "    [theme=dark] .colab-df-convert {\n",
       "      background-color: #3B4455;\n",
       "      fill: #D2E3FC;\n",
       "    }\n",
       "\n",
       "    [theme=dark] .colab-df-convert:hover {\n",
       "      background-color: #434B5C;\n",
       "      box-shadow: 0px 1px 3px 1px rgba(0, 0, 0, 0.15);\n",
       "      filter: drop-shadow(0px 1px 2px rgba(0, 0, 0, 0.3));\n",
       "      fill: #FFFFFF;\n",
       "    }\n",
       "  </style>\n",
       "\n",
       "    <script>\n",
       "      const buttonEl =\n",
       "        document.querySelector('#df-e791f5d1-f8bf-460e-bbd3-c317da2eef9d button.colab-df-convert');\n",
       "      buttonEl.style.display =\n",
       "        google.colab.kernel.accessAllowed ? 'block' : 'none';\n",
       "\n",
       "      async function convertToInteractive(key) {\n",
       "        const element = document.querySelector('#df-e791f5d1-f8bf-460e-bbd3-c317da2eef9d');\n",
       "        const dataTable =\n",
       "          await google.colab.kernel.invokeFunction('convertToInteractive',\n",
       "                                                    [key], {});\n",
       "        if (!dataTable) return;\n",
       "\n",
       "        const docLinkHtml = 'Like what you see? Visit the ' +\n",
       "          '<a target=\"_blank\" href=https://colab.research.google.com/notebooks/data_table.ipynb>data table notebook</a>'\n",
       "          + ' to learn more about interactive tables.';\n",
       "        element.innerHTML = '';\n",
       "        dataTable['output_type'] = 'display_data';\n",
       "        await google.colab.output.renderOutput(dataTable, element);\n",
       "        const docLink = document.createElement('div');\n",
       "        docLink.innerHTML = docLinkHtml;\n",
       "        element.appendChild(docLink);\n",
       "      }\n",
       "    </script>\n",
       "  </div>\n",
       "\n",
       "\n",
       "<div id=\"df-175f6497-579b-49ac-9147-5f9b4f78283d\">\n",
       "  <button class=\"colab-df-quickchart\" onclick=\"quickchart('df-175f6497-579b-49ac-9147-5f9b4f78283d')\"\n",
       "            title=\"Suggest charts\"\n",
       "            style=\"display:none;\">\n",
       "\n",
       "<svg xmlns=\"http://www.w3.org/2000/svg\" height=\"24px\"viewBox=\"0 0 24 24\"\n",
       "     width=\"24px\">\n",
       "    <g>\n",
       "        <path d=\"M19 3H5c-1.1 0-2 .9-2 2v14c0 1.1.9 2 2 2h14c1.1 0 2-.9 2-2V5c0-1.1-.9-2-2-2zM9 17H7v-7h2v7zm4 0h-2V7h2v10zm4 0h-2v-4h2v4z\"/>\n",
       "    </g>\n",
       "</svg>\n",
       "  </button>\n",
       "\n",
       "<style>\n",
       "  .colab-df-quickchart {\n",
       "      --bg-color: #E8F0FE;\n",
       "      --fill-color: #1967D2;\n",
       "      --hover-bg-color: #E2EBFA;\n",
       "      --hover-fill-color: #174EA6;\n",
       "      --disabled-fill-color: #AAA;\n",
       "      --disabled-bg-color: #DDD;\n",
       "  }\n",
       "\n",
       "  [theme=dark] .colab-df-quickchart {\n",
       "      --bg-color: #3B4455;\n",
       "      --fill-color: #D2E3FC;\n",
       "      --hover-bg-color: #434B5C;\n",
       "      --hover-fill-color: #FFFFFF;\n",
       "      --disabled-bg-color: #3B4455;\n",
       "      --disabled-fill-color: #666;\n",
       "  }\n",
       "\n",
       "  .colab-df-quickchart {\n",
       "    background-color: var(--bg-color);\n",
       "    border: none;\n",
       "    border-radius: 50%;\n",
       "    cursor: pointer;\n",
       "    display: none;\n",
       "    fill: var(--fill-color);\n",
       "    height: 32px;\n",
       "    padding: 0;\n",
       "    width: 32px;\n",
       "  }\n",
       "\n",
       "  .colab-df-quickchart:hover {\n",
       "    background-color: var(--hover-bg-color);\n",
       "    box-shadow: 0 1px 2px rgba(60, 64, 67, 0.3), 0 1px 3px 1px rgba(60, 64, 67, 0.15);\n",
       "    fill: var(--button-hover-fill-color);\n",
       "  }\n",
       "\n",
       "  .colab-df-quickchart-complete:disabled,\n",
       "  .colab-df-quickchart-complete:disabled:hover {\n",
       "    background-color: var(--disabled-bg-color);\n",
       "    fill: var(--disabled-fill-color);\n",
       "    box-shadow: none;\n",
       "  }\n",
       "\n",
       "  .colab-df-spinner {\n",
       "    border: 2px solid var(--fill-color);\n",
       "    border-color: transparent;\n",
       "    border-bottom-color: var(--fill-color);\n",
       "    animation:\n",
       "      spin 1s steps(1) infinite;\n",
       "  }\n",
       "\n",
       "  @keyframes spin {\n",
       "    0% {\n",
       "      border-color: transparent;\n",
       "      border-bottom-color: var(--fill-color);\n",
       "      border-left-color: var(--fill-color);\n",
       "    }\n",
       "    20% {\n",
       "      border-color: transparent;\n",
       "      border-left-color: var(--fill-color);\n",
       "      border-top-color: var(--fill-color);\n",
       "    }\n",
       "    30% {\n",
       "      border-color: transparent;\n",
       "      border-left-color: var(--fill-color);\n",
       "      border-top-color: var(--fill-color);\n",
       "      border-right-color: var(--fill-color);\n",
       "    }\n",
       "    40% {\n",
       "      border-color: transparent;\n",
       "      border-right-color: var(--fill-color);\n",
       "      border-top-color: var(--fill-color);\n",
       "    }\n",
       "    60% {\n",
       "      border-color: transparent;\n",
       "      border-right-color: var(--fill-color);\n",
       "    }\n",
       "    80% {\n",
       "      border-color: transparent;\n",
       "      border-right-color: var(--fill-color);\n",
       "      border-bottom-color: var(--fill-color);\n",
       "    }\n",
       "    90% {\n",
       "      border-color: transparent;\n",
       "      border-bottom-color: var(--fill-color);\n",
       "    }\n",
       "  }\n",
       "</style>\n",
       "\n",
       "  <script>\n",
       "    async function quickchart(key) {\n",
       "      const quickchartButtonEl =\n",
       "        document.querySelector('#' + key + ' button');\n",
       "      quickchartButtonEl.disabled = true;  // To prevent multiple clicks.\n",
       "      quickchartButtonEl.classList.add('colab-df-spinner');\n",
       "      try {\n",
       "        const charts = await google.colab.kernel.invokeFunction(\n",
       "            'suggestCharts', [key], {});\n",
       "      } catch (error) {\n",
       "        console.error('Error during call to suggestCharts:', error);\n",
       "      }\n",
       "      quickchartButtonEl.classList.remove('colab-df-spinner');\n",
       "      quickchartButtonEl.classList.add('colab-df-quickchart-complete');\n",
       "    }\n",
       "    (() => {\n",
       "      let quickchartButtonEl =\n",
       "        document.querySelector('#df-175f6497-579b-49ac-9147-5f9b4f78283d button');\n",
       "      quickchartButtonEl.style.display =\n",
       "        google.colab.kernel.accessAllowed ? 'block' : 'none';\n",
       "    })();\n",
       "  </script>\n",
       "</div>\n",
       "    </div>\n",
       "  </div>\n"
      ],
      "text/plain": [
       "                    Subject  Key       Start         End  Duration  \\\n",
       "0  619e52b1d497d2000fd8661f    1  2021-02-25  2021-11-23       272   \n",
       "1  6287b500f6ce3300102a91cf    2  2021-08-19  2022-05-19       274   \n",
       "2  61ef29c687d6c6000c7e426f    3  2021-04-18  2022-01-17       275   \n",
       "\n",
       "   RecordDays  MissingDays  ValidDays  \n",
       "0         261           11        258  \n",
       "1         241           33        219  \n",
       "2         102          173         66  "
      ]
     },
     "execution_count": 20,
     "metadata": {},
     "output_type": "execute_result"
    }
   ],
   "source": [
    "cgm_summary = './CGM_summary.csv'\n",
    "\n",
    "cgm_df = pd.read_csv(cgm_summary)\n",
    "cgm_df.head(3)"
   ]
  },
  {
   "cell_type": "code",
   "execution_count": null,
   "metadata": {
    "colab": {
     "base_uri": "https://localhost:8080/"
    },
    "executionInfo": {
     "elapsed": 165,
     "status": "ok",
     "timestamp": 1704587739835,
     "user": {
      "displayName": "Yanjun Cui",
      "userId": "10928157657240567222"
     },
     "user_tz": 300
    },
    "id": "tDJNlu7xG2AH",
    "outputId": "0f616768-b29e-4edc-c9aa-75427939c215"
   },
   "outputs": [
    {
     "name": "stdout",
     "output_type": "stream",
     "text": [
      "total duration: 118325\n",
      "duration avg and std: 1095.601851851852 579.8944019422657\n",
      "range: 272 - 2412\n",
      "total dyas without data record: 32931\n",
      "total dyas with more than 70% daily data record: 76435\n"
     ]
    }
   ],
   "source": [
    "print('total duration:', np.sum(cgm_df.Duration.values))\n",
    "\n",
    "print('duration avg and std:', np.mean(cgm_df.Duration.values), np.std(cgm_df.Duration.values))\n",
    "print('range:', np.min(cgm_df.Duration.values), '-', np.max(cgm_df.Duration.values))\n",
    "\n",
    "print('total dyas without data record:', np.sum(cgm_df.MissingDays.values))\n",
    "print('total dyas with more than 70% daily data record:', np.sum(cgm_df.ValidDays.values))"
   ]
  },
  {
   "cell_type": "code",
   "execution_count": null,
   "metadata": {
    "colab": {
     "base_uri": "https://localhost:8080/",
     "height": 143
    },
    "executionInfo": {
     "elapsed": 136,
     "status": "ok",
     "timestamp": 1704585513695,
     "user": {
      "displayName": "Yanjun Cui",
      "userId": "10928157657240567222"
     },
     "user_tz": 300
    },
    "id": "NUoDzwpgHEMj",
    "outputId": "ca871c3d-b40f-4ca0-a637-dde7f50219e5"
   },
   "outputs": [
    {
     "data": {
      "text/html": [
       "\n",
       "  <div id=\"df-5823c3aa-4292-44d6-bcde-42c3d6847f73\" class=\"colab-df-container\">\n",
       "    <div>\n",
       "<style scoped>\n",
       "    .dataframe tbody tr th:only-of-type {\n",
       "        vertical-align: middle;\n",
       "    }\n",
       "\n",
       "    .dataframe tbody tr th {\n",
       "        vertical-align: top;\n",
       "    }\n",
       "\n",
       "    .dataframe thead th {\n",
       "        text-align: right;\n",
       "    }\n",
       "</style>\n",
       "<table border=\"1\" class=\"dataframe\">\n",
       "  <thead>\n",
       "    <tr style=\"text-align: right;\">\n",
       "      <th></th>\n",
       "      <th>TIR</th>\n",
       "      <th>TAR</th>\n",
       "      <th>TBR</th>\n",
       "      <th>meanBG</th>\n",
       "      <th>GlucoseVar</th>\n",
       "    </tr>\n",
       "  </thead>\n",
       "  <tbody>\n",
       "    <tr>\n",
       "      <th>0</th>\n",
       "      <td>0.652778</td>\n",
       "      <td>0.250000</td>\n",
       "      <td>0.097222</td>\n",
       "      <td>149.371528</td>\n",
       "      <td>0.318194</td>\n",
       "    </tr>\n",
       "    <tr>\n",
       "      <th>1</th>\n",
       "      <td>0.295139</td>\n",
       "      <td>0.704861</td>\n",
       "      <td>0.000000</td>\n",
       "      <td>211.121528</td>\n",
       "      <td>0.259810</td>\n",
       "    </tr>\n",
       "    <tr>\n",
       "      <th>2</th>\n",
       "      <td>0.180556</td>\n",
       "      <td>0.819444</td>\n",
       "      <td>0.000000</td>\n",
       "      <td>226.690972</td>\n",
       "      <td>0.191743</td>\n",
       "    </tr>\n",
       "  </tbody>\n",
       "</table>\n",
       "</div>\n",
       "    <div class=\"colab-df-buttons\">\n",
       "\n",
       "  <div class=\"colab-df-container\">\n",
       "    <button class=\"colab-df-convert\" onclick=\"convertToInteractive('df-5823c3aa-4292-44d6-bcde-42c3d6847f73')\"\n",
       "            title=\"Convert this dataframe to an interactive table.\"\n",
       "            style=\"display:none;\">\n",
       "\n",
       "  <svg xmlns=\"http://www.w3.org/2000/svg\" height=\"24px\" viewBox=\"0 -960 960 960\">\n",
       "    <path d=\"M120-120v-720h720v720H120Zm60-500h600v-160H180v160Zm220 220h160v-160H400v160Zm0 220h160v-160H400v160ZM180-400h160v-160H180v160Zm440 0h160v-160H620v160ZM180-180h160v-160H180v160Zm440 0h160v-160H620v160Z\"/>\n",
       "  </svg>\n",
       "    </button>\n",
       "\n",
       "  <style>\n",
       "    .colab-df-container {\n",
       "      display:flex;\n",
       "      gap: 12px;\n",
       "    }\n",
       "\n",
       "    .colab-df-convert {\n",
       "      background-color: #E8F0FE;\n",
       "      border: none;\n",
       "      border-radius: 50%;\n",
       "      cursor: pointer;\n",
       "      display: none;\n",
       "      fill: #1967D2;\n",
       "      height: 32px;\n",
       "      padding: 0 0 0 0;\n",
       "      width: 32px;\n",
       "    }\n",
       "\n",
       "    .colab-df-convert:hover {\n",
       "      background-color: #E2EBFA;\n",
       "      box-shadow: 0px 1px 2px rgba(60, 64, 67, 0.3), 0px 1px 3px 1px rgba(60, 64, 67, 0.15);\n",
       "      fill: #174EA6;\n",
       "    }\n",
       "\n",
       "    .colab-df-buttons div {\n",
       "      margin-bottom: 4px;\n",
       "    }\n",
       "\n",
       "    [theme=dark] .colab-df-convert {\n",
       "      background-color: #3B4455;\n",
       "      fill: #D2E3FC;\n",
       "    }\n",
       "\n",
       "    [theme=dark] .colab-df-convert:hover {\n",
       "      background-color: #434B5C;\n",
       "      box-shadow: 0px 1px 3px 1px rgba(0, 0, 0, 0.15);\n",
       "      filter: drop-shadow(0px 1px 2px rgba(0, 0, 0, 0.3));\n",
       "      fill: #FFFFFF;\n",
       "    }\n",
       "  </style>\n",
       "\n",
       "    <script>\n",
       "      const buttonEl =\n",
       "        document.querySelector('#df-5823c3aa-4292-44d6-bcde-42c3d6847f73 button.colab-df-convert');\n",
       "      buttonEl.style.display =\n",
       "        google.colab.kernel.accessAllowed ? 'block' : 'none';\n",
       "\n",
       "      async function convertToInteractive(key) {\n",
       "        const element = document.querySelector('#df-5823c3aa-4292-44d6-bcde-42c3d6847f73');\n",
       "        const dataTable =\n",
       "          await google.colab.kernel.invokeFunction('convertToInteractive',\n",
       "                                                    [key], {});\n",
       "        if (!dataTable) return;\n",
       "\n",
       "        const docLinkHtml = 'Like what you see? Visit the ' +\n",
       "          '<a target=\"_blank\" href=https://colab.research.google.com/notebooks/data_table.ipynb>data table notebook</a>'\n",
       "          + ' to learn more about interactive tables.';\n",
       "        element.innerHTML = '';\n",
       "        dataTable['output_type'] = 'display_data';\n",
       "        await google.colab.output.renderOutput(dataTable, element);\n",
       "        const docLink = document.createElement('div');\n",
       "        docLink.innerHTML = docLinkHtml;\n",
       "        element.appendChild(docLink);\n",
       "      }\n",
       "    </script>\n",
       "  </div>\n",
       "\n",
       "\n",
       "<div id=\"df-14a2f021-9162-4e3d-ba6e-6068175e39c7\">\n",
       "  <button class=\"colab-df-quickchart\" onclick=\"quickchart('df-14a2f021-9162-4e3d-ba6e-6068175e39c7')\"\n",
       "            title=\"Suggest charts\"\n",
       "            style=\"display:none;\">\n",
       "\n",
       "<svg xmlns=\"http://www.w3.org/2000/svg\" height=\"24px\"viewBox=\"0 0 24 24\"\n",
       "     width=\"24px\">\n",
       "    <g>\n",
       "        <path d=\"M19 3H5c-1.1 0-2 .9-2 2v14c0 1.1.9 2 2 2h14c1.1 0 2-.9 2-2V5c0-1.1-.9-2-2-2zM9 17H7v-7h2v7zm4 0h-2V7h2v10zm4 0h-2v-4h2v4z\"/>\n",
       "    </g>\n",
       "</svg>\n",
       "  </button>\n",
       "\n",
       "<style>\n",
       "  .colab-df-quickchart {\n",
       "      --bg-color: #E8F0FE;\n",
       "      --fill-color: #1967D2;\n",
       "      --hover-bg-color: #E2EBFA;\n",
       "      --hover-fill-color: #174EA6;\n",
       "      --disabled-fill-color: #AAA;\n",
       "      --disabled-bg-color: #DDD;\n",
       "  }\n",
       "\n",
       "  [theme=dark] .colab-df-quickchart {\n",
       "      --bg-color: #3B4455;\n",
       "      --fill-color: #D2E3FC;\n",
       "      --hover-bg-color: #434B5C;\n",
       "      --hover-fill-color: #FFFFFF;\n",
       "      --disabled-bg-color: #3B4455;\n",
       "      --disabled-fill-color: #666;\n",
       "  }\n",
       "\n",
       "  .colab-df-quickchart {\n",
       "    background-color: var(--bg-color);\n",
       "    border: none;\n",
       "    border-radius: 50%;\n",
       "    cursor: pointer;\n",
       "    display: none;\n",
       "    fill: var(--fill-color);\n",
       "    height: 32px;\n",
       "    padding: 0;\n",
       "    width: 32px;\n",
       "  }\n",
       "\n",
       "  .colab-df-quickchart:hover {\n",
       "    background-color: var(--hover-bg-color);\n",
       "    box-shadow: 0 1px 2px rgba(60, 64, 67, 0.3), 0 1px 3px 1px rgba(60, 64, 67, 0.15);\n",
       "    fill: var(--button-hover-fill-color);\n",
       "  }\n",
       "\n",
       "  .colab-df-quickchart-complete:disabled,\n",
       "  .colab-df-quickchart-complete:disabled:hover {\n",
       "    background-color: var(--disabled-bg-color);\n",
       "    fill: var(--disabled-fill-color);\n",
       "    box-shadow: none;\n",
       "  }\n",
       "\n",
       "  .colab-df-spinner {\n",
       "    border: 2px solid var(--fill-color);\n",
       "    border-color: transparent;\n",
       "    border-bottom-color: var(--fill-color);\n",
       "    animation:\n",
       "      spin 1s steps(1) infinite;\n",
       "  }\n",
       "\n",
       "  @keyframes spin {\n",
       "    0% {\n",
       "      border-color: transparent;\n",
       "      border-bottom-color: var(--fill-color);\n",
       "      border-left-color: var(--fill-color);\n",
       "    }\n",
       "    20% {\n",
       "      border-color: transparent;\n",
       "      border-left-color: var(--fill-color);\n",
       "      border-top-color: var(--fill-color);\n",
       "    }\n",
       "    30% {\n",
       "      border-color: transparent;\n",
       "      border-left-color: var(--fill-color);\n",
       "      border-top-color: var(--fill-color);\n",
       "      border-right-color: var(--fill-color);\n",
       "    }\n",
       "    40% {\n",
       "      border-color: transparent;\n",
       "      border-right-color: var(--fill-color);\n",
       "      border-top-color: var(--fill-color);\n",
       "    }\n",
       "    60% {\n",
       "      border-color: transparent;\n",
       "      border-right-color: var(--fill-color);\n",
       "    }\n",
       "    80% {\n",
       "      border-color: transparent;\n",
       "      border-right-color: var(--fill-color);\n",
       "      border-bottom-color: var(--fill-color);\n",
       "    }\n",
       "    90% {\n",
       "      border-color: transparent;\n",
       "      border-bottom-color: var(--fill-color);\n",
       "    }\n",
       "  }\n",
       "</style>\n",
       "\n",
       "  <script>\n",
       "    async function quickchart(key) {\n",
       "      const quickchartButtonEl =\n",
       "        document.querySelector('#' + key + ' button');\n",
       "      quickchartButtonEl.disabled = true;  // To prevent multiple clicks.\n",
       "      quickchartButtonEl.classList.add('colab-df-spinner');\n",
       "      try {\n",
       "        const charts = await google.colab.kernel.invokeFunction(\n",
       "            'suggestCharts', [key], {});\n",
       "      } catch (error) {\n",
       "        console.error('Error during call to suggestCharts:', error);\n",
       "      }\n",
       "      quickchartButtonEl.classList.remove('colab-df-spinner');\n",
       "      quickchartButtonEl.classList.add('colab-df-quickchart-complete');\n",
       "    }\n",
       "    (() => {\n",
       "      let quickchartButtonEl =\n",
       "        document.querySelector('#df-14a2f021-9162-4e3d-ba6e-6068175e39c7 button');\n",
       "      quickchartButtonEl.style.display =\n",
       "        google.colab.kernel.accessAllowed ? 'block' : 'none';\n",
       "    })();\n",
       "  </script>\n",
       "</div>\n",
       "    </div>\n",
       "  </div>\n"
      ],
      "text/plain": [
       "        TIR       TAR       TBR      meanBG  GlucoseVar\n",
       "0  0.652778  0.250000  0.097222  149.371528    0.318194\n",
       "1  0.295139  0.704861  0.000000  211.121528    0.259810\n",
       "2  0.180556  0.819444  0.000000  226.690972    0.191743"
      ]
     },
     "execution_count": 32,
     "metadata": {},
     "output_type": "execute_result"
    }
   ],
   "source": [
    "# for days with more than 70% record\n",
    "cgm_df2 = pd.read_csv('./summary_TIR_meanBG_gluVar.csv')\n",
    "cgm_df2.head(3)"
   ]
  },
  {
   "cell_type": "code",
   "execution_count": null,
   "metadata": {
    "colab": {
     "base_uri": "https://localhost:8080/"
    },
    "executionInfo": {
     "elapsed": 143,
     "status": "ok",
     "timestamp": 1704585514733,
     "user": {
      "displayName": "Yanjun Cui",
      "userId": "10928157657240567222"
     },
     "user_tz": 300
    },
    "id": "LPBDd46eIu5k",
    "outputId": "08c48594-e7c4-418f-f18f-3e1d37079884"
   },
   "outputs": [
    {
     "name": "stdout",
     "output_type": "stream",
     "text": [
      "daily mean BG avg and std: 195.17 49.19\n",
      "range: 70.35 - 401.0\n"
     ]
    }
   ],
   "source": [
    "meanBG = cgm_df2.meanBG.values\n",
    "\n",
    "print('daily mean BG avg and std:', np.round(np.mean(meanBG), 2), np.round(np.std(meanBG), 2))\n",
    "print('range:', np.round(np.min(meanBG), 2), '-', np.max(meanBG))"
   ]
  },
  {
   "cell_type": "code",
   "execution_count": null,
   "metadata": {
    "colab": {
     "base_uri": "https://localhost:8080/"
    },
    "executionInfo": {
     "elapsed": 3,
     "status": "ok",
     "timestamp": 1704585515246,
     "user": {
      "displayName": "Yanjun Cui",
      "userId": "10928157657240567222"
     },
     "user_tz": 300
    },
    "id": "WY2vcGmxM_zQ",
    "outputId": "0e3b1165-49cd-4775-8210-408cdcc14d80"
   },
   "outputs": [
    {
     "name": "stdout",
     "output_type": "stream",
     "text": [
      "daily TIR avg and std: 0.4697 0.2411\n",
      "range: 0.0 - 1.0\n"
     ]
    }
   ],
   "source": [
    "TIR = cgm_df2.TIR.values\n",
    "\n",
    "print('daily TIR avg and std:', np.round(np.mean(TIR), 4), np.round(np.std(TIR), 4))\n",
    "print('range:', np.min(TIR), '-', np.max(TIR))"
   ]
  },
  {
   "cell_type": "markdown",
   "metadata": {},
   "source": [
    "# Other paper data"
   ]
  },
  {
   "cell_type": "markdown",
   "metadata": {
    "id": "eiMnPsHluNoU"
   },
   "source": [
    "## High adherence ratio"
   ]
  },
  {
   "cell_type": "code",
   "execution_count": 6,
   "metadata": {
    "colab": {
     "base_uri": "https://localhost:8080/",
     "height": 424
    },
    "executionInfo": {
     "elapsed": 562,
     "status": "ok",
     "timestamp": 1715106956754,
     "user": {
      "displayName": "Yanjun Cui",
      "userId": "10928157657240567222"
     },
     "user_tz": 240
    },
    "id": "d3T9tY4V1zsi",
    "outputId": "f0dc4612-c852-4455-ebb9-50bc7c59a52a"
   },
   "outputs": [],
   "source": [
    "df_valid = pd.read_csv('./yearly_adherence_trends.csv')\n",
    "df_valid"
   ]
  },
  {
   "cell_type": "code",
   "execution_count": null,
   "metadata": {
    "colab": {
     "base_uri": "https://localhost:8080/"
    },
    "executionInfo": {
     "elapsed": 179,
     "status": "ok",
     "timestamp": 1715107018453,
     "user": {
      "displayName": "Yanjun Cui",
      "userId": "10928157657240567222"
     },
     "user_tz": 240
    },
    "id": "GEi5i41JuQuO",
    "outputId": "032ab3d2-7b45-4431-b4de-4768313d86aa"
   },
   "outputs": [
    {
     "name": "stdout",
     "output_type": "stream",
     "text": [
      "0.562466307277628 196 [ 7.         16.          0.56246631]\n",
      "0.7347129506008011 358 [12.         25.          0.73471295]\n"
     ]
    }
   ],
   "source": [
    "lst = list(df_valid.Valid_ratio.values)\n",
    "print(min(df_valid.Valid_ratio.values), lst.index(min(df_valid.Valid_ratio.values)), df_valid.values[lst.index(min(df_valid.Valid_ratio.values))])\n",
    "print(max(df_valid.Valid_ratio.values), lst.index(max(df_valid.Valid_ratio.values)), df_valid.values[lst.index(max(df_valid.Valid_ratio.values))])"
   ]
  },
  {
   "cell_type": "code",
   "execution_count": null,
   "metadata": {
    "id": "lGYEUF5euaZl"
   },
   "outputs": [],
   "source": []
  }
 ],
 "metadata": {
  "colab": {
   "authorship_tag": "ABX9TyMLYnvOpBoR1AEnDEjC2KGD",
   "provenance": [],
   "toc_visible": true
  },
  "kernelspec": {
   "display_name": "Python 3 (ipykernel)",
   "language": "python",
   "name": "python3"
  },
  "language_info": {
   "codemirror_mode": {
    "name": "ipython",
    "version": 3
   },
   "file_extension": ".py",
   "mimetype": "text/x-python",
   "name": "python",
   "nbconvert_exporter": "python",
   "pygments_lexer": "ipython3",
   "version": "3.10.6"
  }
 },
 "nbformat": 4,
 "nbformat_minor": 1
}
